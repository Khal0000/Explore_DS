{
 "cells": [
  {
   "cell_type": "code",
   "execution_count": 1,
   "metadata": {},
   "outputs": [],
   "source": [
    "from flask import Flask, jsonify, request\n",
    "import pickle\n",
    "import pandas as pd\n",
    "import tensorflow as tf\n",
    "import numpy as np\n",
    "import yfinance as yf"
   ]
  },
  {
   "cell_type": "code",
   "execution_count": 23,
   "metadata": {},
   "outputs": [
    {
     "name": "stderr",
     "output_type": "stream",
     "text": [
      "c:\\Users\\LENOVO\\anaconda3\\envs\\venv\\lib\\site-packages\\sklearn\\base.py:443: UserWarning: X has feature names, but MinMaxScaler was fitted without feature names\n",
      "  warnings.warn(\n"
     ]
    },
    {
     "name": "stdout",
     "output_type": "stream",
     "text": [
      "1/1 [==============================] - 3s 3s/step\n"
     ]
    }
   ],
   "source": [
    "pickled_model = pickle.load(open('prep_pipeline.pkl', 'rb'))\n",
    "saved_model = tf.keras.models.load_model('model_best.hdf5')\n",
    "\n",
    "data0 = yf.Ticker('^JKSE')\n",
    "data_inference = pd.DataFrame(data0.history(period=\"60d\"), columns=['Close'])\n",
    "\n",
    "data_inf = pickled_model.transform(data_inference)\n",
    "X_next = data_inf.reshape(1, 60, 1)\n",
    "next_day = saved_model.predict(X_next)\n",
    "next_day = pickled_model.inverse_transform(next_day)\n",
    "\n",
    "res = next_day[0]\n",
    "\n"
   ]
  },
  {
   "cell_type": "code",
   "execution_count": 56,
   "metadata": {},
   "outputs": [],
   "source": [
    "# AMBIL DATA FROENTEND\n",
    "data0 = yf.Ticker('^JKSE')\n",
    "data_inference = pd.DataFrame(data0.history(period=\"60d\"), columns=['Close'])\n"
   ]
  },
  {
   "cell_type": "code",
   "execution_count": 30,
   "metadata": {},
   "outputs": [
    {
     "name": "stderr",
     "output_type": "stream",
     "text": [
      "c:\\Users\\LENOVO\\anaconda3\\envs\\venv\\lib\\site-packages\\sklearn\\base.py:443: UserWarning: X has feature names, but MinMaxScaler was fitted without feature names\n",
      "  warnings.warn(\n"
     ]
    },
    {
     "name": "stdout",
     "output_type": "stream",
     "text": [
      "1/1 [==============================] - 3s 3s/step\n"
     ]
    },
    {
     "data": {
      "text/plain": [
       "{'code': 200, 'status': 'OK', 'result': {'forecast': '7031.5674'}}"
      ]
     },
     "execution_count": 30,
     "metadata": {},
     "output_type": "execute_result"
    }
   ],
   "source": [
    "# NGOLAH DATA BACKEND\n",
    "pickled_model = pickle.load(open('prep_pipeline.pkl', 'rb')) # load model\n",
    "saved_model = tf.keras.models.load_model('model_best.hdf5')    # Load model\n",
    "\n",
    "data_inf = pickled_model.transform(data_inference)\n",
    "X_next = data_inf.reshape(1, 60, 1)\n",
    "next_day = saved_model.predict(X_next)\n",
    "next_day = pickled_model.inverse_transform(next_day)\n",
    "\n",
    "res = next_day[0]\n",
    "response = {'code':200, 'status':'OK',\n",
    "    'result':{'forecast': str(res[0])\n",
    "    }}\n",
    "\n",
    "response"
   ]
  },
  {
   "cell_type": "code",
   "execution_count": 68,
   "metadata": {},
   "outputs": [
    {
     "data": {
      "text/plain": [
       "[[1.03603663734021],\n",
       " [1.0477199112990347],\n",
       " [1.0433101061204741],\n",
       " [1.0418270770695757],\n",
       " [1.041861131696859],\n",
       " [1.049046581180872],\n",
       " [1.0483056047646575],\n",
       " [1.0567393908004816],\n",
       " [1.0493158664164772],\n",
       " [1.0567264761788484],\n",
       " [1.050757461056302],\n",
       " [1.0572911833843168],\n",
       " [1.0601646866977414],\n",
       " [1.0613167785692847],\n",
       " [1.0672139945453694],\n",
       " [1.0722646878224857],\n",
       " [1.065324462404011],\n",
       " [1.068969306869038],\n",
       " [1.0821100881264858],\n",
       " [1.081001583102955],\n",
       " [1.0827312968016003],\n",
       " [1.0902875804210859],\n",
       " [1.0859983117111034],\n",
       " [1.0922574445839135],\n",
       " [1.0802833610200946],\n",
       " [1.0847120000218704],\n",
       " [1.092399736040124],\n",
       " [1.084435565620718],\n",
       " [1.0829199425247449],\n",
       " [1.0854662754234574],\n",
       " [1.079894846152624],\n",
       " [1.0849563784871827],\n",
       " [1.0347088143671552],\n",
       " [1.0205463942912107],\n",
       " [1.0199810721037597],\n",
       " [0.985917835072777],\n",
       " [0.9856271023405306],\n",
       " [0.9929436967323205],\n",
       " [1.0163932672176135],\n",
       " [1.0211038754583845],\n",
       " [1.0360301800293932],\n",
       " [1.023849539392188],\n",
       " [1.035399977242784],\n",
       " [1.0305765966809644],\n",
       " [1.0530508057419465],\n",
       " [1.0548312554541515],\n",
       " [1.0723703878507351],\n",
       " [1.0723314902403394],\n",
       " [1.0777217304445663],\n",
       " [1.0641226338646297],\n",
       " [1.0711226662809064],\n",
       " [1.0793516633165443],\n",
       " [1.0777011285481513],\n",
       " [1.0625586578102793],\n",
       " [1.048199597245417],\n",
       " [1.0567703705178522],\n",
       " [1.0500270930792863],\n",
       " [1.0568403247183662],\n",
       " [1.0389935475850165],\n",
       " [1.045198100806876]]"
      ]
     },
     "execution_count": 68,
     "metadata": {},
     "output_type": "execute_result"
    }
   ],
   "source": [
    "data_inf.tolist()"
   ]
  },
  {
   "cell_type": "code",
   "execution_count": 73,
   "metadata": {},
   "outputs": [
    {
     "ename": "AttributeError",
     "evalue": "'list' object has no attribute 'value'",
     "output_type": "error",
     "traceback": [
      "\u001b[1;31m---------------------------------------------------------------------------\u001b[0m",
      "\u001b[1;31mAttributeError\u001b[0m                            Traceback (most recent call last)",
      "\u001b[1;32me:\\exploring\\4. Deployment\\test\\backend\\front_test.ipynb Cell 6'\u001b[0m in \u001b[0;36m<cell line: 2>\u001b[1;34m()\u001b[0m\n\u001b[0;32m      <a href='vscode-notebook-cell:/e%3A/exploring/4.%20Deployment/test/backend/front_test.ipynb#ch0000002?line=0'>1</a>\u001b[0m y \u001b[39m=\u001b[39m data_inference\u001b[39m.\u001b[39mto_dict(\u001b[39m'\u001b[39m\u001b[39mlist\u001b[39m\u001b[39m'\u001b[39m)[\u001b[39m'\u001b[39m\u001b[39mClose\u001b[39m\u001b[39m'\u001b[39m]\n\u001b[1;32m----> <a href='vscode-notebook-cell:/e%3A/exploring/4.%20Deployment/test/backend/front_test.ipynb#ch0000002?line=1'>2</a>\u001b[0m y\u001b[39m.\u001b[39;49mvalue()\n",
      "\u001b[1;31mAttributeError\u001b[0m: 'list' object has no attribute 'value'"
     ]
    }
   ],
   "source": [
    "y = data_inference.to_dict('list')['Close']\n",
    "y.value()"
   ]
  },
  {
   "cell_type": "code",
   "execution_count": 4,
   "metadata": {},
   "outputs": [],
   "source": [
    "new_data = pd.DataFrame(data_inf, columns=['Close'])\n",
    "y = new_data['Close']"
   ]
  },
  {
   "cell_type": "code",
   "execution_count": 41,
   "metadata": {},
   "outputs": [],
   "source": [
    "new_data = new_data.values"
   ]
  },
  {
   "cell_type": "code",
   "execution_count": 22,
   "metadata": {},
   "outputs": [
    {
     "name": "stdout",
     "output_type": "stream",
     "text": [
      "1/1 [==============================] - 0s 75ms/step\n"
     ]
    }
   ],
   "source": [
    "X_next = new_data.reshape(1, 60, 1)\n",
    "next_day = saved_model.predict(X_next)\n",
    "next_day = pickled_model.inverse_transform(next_day)\n",
    "\n",
    "res = next_day[0]"
   ]
  },
  {
   "cell_type": "code",
   "execution_count": null,
   "metadata": {},
   "outputs": [],
   "source": []
  },
  {
   "cell_type": "code",
   "execution_count": 23,
   "metadata": {},
   "outputs": [
    {
     "data": {
      "text/plain": [
       "{'code': 200, 'status': 'OK', 'result': {'forecast': '7048.462'}}"
      ]
     },
     "execution_count": 23,
     "metadata": {},
     "output_type": "execute_result"
    }
   ],
   "source": [
    "response = {'code':200, 'status':'OK',\n",
    "    'result':{'forecast': str(res[0])\n",
    "    }}\n",
    "\n",
    "response"
   ]
  },
  {
   "cell_type": "code",
   "execution_count": 70,
   "metadata": {},
   "outputs": [
    {
     "ename": "JSONDecodeError",
     "evalue": "[Errno Expecting value] <!DOCTYPE HTML PUBLIC \"-//W3C//DTD HTML 4.01 Transitional//EN\"\n  \"http://www.w3.org/TR/html4/loose.dtd\">\n<html>\n  <head>\n    <title>ValueError: setting an array element with a sequence. // Werkzeug Debugger</title>\n    <link rel=\"stylesheet\" href=\"?__debugger__=yes&amp;cmd=resource&amp;f=style.css\"\n        type=\"text/css\">\n    <!-- We need to make sure this has a favicon so that the debugger does\n         not accidentally trigger a request to /favicon.ico which might\n         change the application's state. -->\n    <link rel=\"shortcut icon\"\n        href=\"?__debugger__=yes&amp;cmd=resource&amp;f=console.png\">\n    <script src=\"?__debugger__=yes&amp;cmd=resource&amp;f=debugger.js\"></script>\n    <script type=\"text/javascript\">\n      var TRACEBACK = 2384006716432,\n          CONSOLE_MODE = false,\n          EVALEX = true,\n          EVALEX_TRUSTED = false,\n          SECRET = \"SzNeOuUcgRTihHfmQu1D\";\n    </script>\n  </head>\n  <body style=\"background-color: #fff\">\n    <div class=\"debugger\">\n<h1>ValueError</h1>\n<div class=\"detail\">\n  <p class=\"errormsg\">ValueError: setting an array element with a sequence.</p>\n</div>\n<h2 class=\"traceback\">Traceback <em>(most recent call last)</em></h2>\n<div class=\"traceback\">\n  <h3></h3>\n  <ul>\n<li><div class=\"exc-divider\">The above exception was the direct cause of the following exception:</div>\n<li><div class=\"frame\" id=\"frame-2384006713504\">\n  <h4>File <cite class=\"filename\">\"C:\\Users\\LENOVO\\anaconda3\\envs\\venv\\Lib\\site-packages\\flask\\app.py\"</cite>,\n      line <em class=\"line\">2464</em>,\n      in <code class=\"function\">__call__</code></h4>\n  <div class=\"source library\"><pre class=\"line before\"><span class=\"ws\"></span> </pre>\n<pre class=\"line before\"><span class=\"ws\">    </span>def __call__(self, environ, start_response):</pre>\n<pre class=\"line before\"><span class=\"ws\">        </span>&quot;&quot;&quot;The WSGI server calls the Flask application object as the</pre>\n<pre class=\"line before\"><span class=\"ws\">        </span>WSGI application. This calls :meth:`wsgi_app` which can be</pre>\n<pre class=\"line before\"><span class=\"ws\">        </span>wrapped to applying middleware.&quot;&quot;&quot;</pre>\n<pre class=\"line current\"><span class=\"ws\">        </span>return self.wsgi_app(environ, start_response)</pre>\n<pre class=\"line after\"><span class=\"ws\"></span> </pre>\n<pre class=\"line after\"><span class=\"ws\">    </span>def __repr__(self):</pre>\n<pre class=\"line after\"><span class=\"ws\">        </span>return &quot;&lt;%s %r&gt;&quot; % (self.__class__.__name__, self.name)</pre></div>\n</div>\n\n<li><div class=\"frame\" id=\"frame-2384006715232\">\n  <h4>File <cite class=\"filename\">\"C:\\Users\\LENOVO\\anaconda3\\envs\\venv\\Lib\\site-packages\\flask\\app.py\"</cite>,\n      line <em class=\"line\">2450</em>,\n      in <code class=\"function\">wsgi_app</code></h4>\n  <div class=\"source library\"><pre class=\"line before\"><span class=\"ws\">            </span>try:</pre>\n<pre class=\"line before\"><span class=\"ws\">                </span>ctx.push()</pre>\n<pre class=\"line before\"><span class=\"ws\">                </span>response = self.full_dispatch_request()</pre>\n<pre class=\"line before\"><span class=\"ws\">            </span>except Exception as e:</pre>\n<pre class=\"line before\"><span class=\"ws\">                </span>error = e</pre>\n<pre class=\"line current\"><span class=\"ws\">                </span>response = self.handle_exception(e)</pre>\n<pre class=\"line after\"><span class=\"ws\">            </span>except:  # noqa: B001</pre>\n<pre class=\"line after\"><span class=\"ws\">                </span>error = sys.exc_info()[1]</pre>\n<pre class=\"line after\"><span class=\"ws\">                </span>raise</pre>\n<pre class=\"line after\"><span class=\"ws\">            </span>return response(environ, start_response)</pre>\n<pre class=\"line after\"><span class=\"ws\">        </span>finally:</pre></div>\n</div>\n\n<li><div class=\"frame\" id=\"frame-2384006714464\">\n  <h4>File <cite class=\"filename\">\"C:\\Users\\LENOVO\\anaconda3\\envs\\venv\\Lib\\site-packages\\flask\\app.py\"</cite>,\n      line <em class=\"line\">1867</em>,\n      in <code class=\"function\">handle_exception</code></h4>\n  <div class=\"source library\"><pre class=\"line before\"><span class=\"ws\">            </span># if we want to repropagate the exception, we can attempt to</pre>\n<pre class=\"line before\"><span class=\"ws\">            </span># raise it with the whole traceback in case we can do that</pre>\n<pre class=\"line before\"><span class=\"ws\">            </span># (the function was actually called from the except part)</pre>\n<pre class=\"line before\"><span class=\"ws\">            </span># otherwise, we just raise the error again</pre>\n<pre class=\"line before\"><span class=\"ws\">            </span>if exc_value is e:</pre>\n<pre class=\"line current\"><span class=\"ws\">                </span>reraise(exc_type, exc_value, tb)</pre>\n<pre class=\"line after\"><span class=\"ws\">            </span>else:</pre>\n<pre class=\"line after\"><span class=\"ws\">                </span>raise e</pre>\n<pre class=\"line after\"><span class=\"ws\"></span> </pre>\n<pre class=\"line after\"><span class=\"ws\">        </span>self.log_exception((exc_type, exc_value, tb))</pre>\n<pre class=\"line after\"><span class=\"ws\">        </span>server_error = InternalServerError()</pre></div>\n</div>\n\n<li><div class=\"frame\" id=\"frame-2384006715184\">\n  <h4>File <cite class=\"filename\">\"C:\\Users\\LENOVO\\anaconda3\\envs\\venv\\Lib\\site-packages\\flask\\_compat.py\"</cite>,\n      line <em class=\"line\">39</em>,\n      in <code class=\"function\">reraise</code></h4>\n  <div class=\"source library\"><pre class=\"line before\"><span class=\"ws\">    </span>import collections.abc as collections_abc</pre>\n<pre class=\"line before\"><span class=\"ws\"></span> </pre>\n<pre class=\"line before\"><span class=\"ws\">    </span>def reraise(tp, value, tb=None):</pre>\n<pre class=\"line before\"><span class=\"ws\">        </span>if value.__traceback__ is not tb:</pre>\n<pre class=\"line before\"><span class=\"ws\">            </span>raise value.with_traceback(tb)</pre>\n<pre class=\"line current\"><span class=\"ws\">        </span>raise value</pre>\n<pre class=\"line after\"><span class=\"ws\"></span> </pre>\n<pre class=\"line after\"><span class=\"ws\">    </span>implements_to_string = _identity</pre>\n<pre class=\"line after\"><span class=\"ws\"></span> </pre>\n<pre class=\"line after\"><span class=\"ws\"></span>else:</pre>\n<pre class=\"line after\"><span class=\"ws\">    </span>iterkeys = lambda d: d.iterkeys()</pre></div>\n</div>\n\n<li><div class=\"frame\" id=\"frame-2384006714080\">\n  <h4>File <cite class=\"filename\">\"C:\\Users\\LENOVO\\anaconda3\\envs\\venv\\Lib\\site-packages\\flask\\app.py\"</cite>,\n      line <em class=\"line\">2447</em>,\n      in <code class=\"function\">wsgi_app</code></h4>\n  <div class=\"source library\"><pre class=\"line before\"><span class=\"ws\">        </span>ctx = self.request_context(environ)</pre>\n<pre class=\"line before\"><span class=\"ws\">        </span>error = None</pre>\n<pre class=\"line before\"><span class=\"ws\">        </span>try:</pre>\n<pre class=\"line before\"><span class=\"ws\">            </span>try:</pre>\n<pre class=\"line before\"><span class=\"ws\">                </span>ctx.push()</pre>\n<pre class=\"line current\"><span class=\"ws\">                </span>response = self.full_dispatch_request()</pre>\n<pre class=\"line after\"><span class=\"ws\">            </span>except Exception as e:</pre>\n<pre class=\"line after\"><span class=\"ws\">                </span>error = e</pre>\n<pre class=\"line after\"><span class=\"ws\">                </span>response = self.handle_exception(e)</pre>\n<pre class=\"line after\"><span class=\"ws\">            </span>except:  # noqa: B001</pre>\n<pre class=\"line after\"><span class=\"ws\">                </span>error = sys.exc_info()[1]</pre></div>\n</div>\n\n<li><div class=\"frame\" id=\"frame-2384006714032\">\n  <h4>File <cite class=\"filename\">\"C:\\Users\\LENOVO\\anaconda3\\envs\\venv\\Lib\\site-packages\\flask\\app.py\"</cite>,\n      line <em class=\"line\">1952</em>,\n      in <code class=\"function\">full_dispatch_request</code></h4>\n  <div class=\"source library\"><pre class=\"line before\"><span class=\"ws\">            </span>request_started.send(self)</pre>\n<pre class=\"line before\"><span class=\"ws\">            </span>rv = self.preprocess_request()</pre>\n<pre class=\"line before\"><span class=\"ws\">            </span>if rv is None:</pre>\n<pre class=\"line before\"><span class=\"ws\">                </span>rv = self.dispatch_request()</pre>\n<pre class=\"line before\"><span class=\"ws\">        </span>except Exception as e:</pre>\n<pre class=\"line current\"><span class=\"ws\">            </span>rv = self.handle_user_exception(e)</pre>\n<pre class=\"line after\"><span class=\"ws\">        </span>return self.finalize_request(rv)</pre>\n<pre class=\"line after\"><span class=\"ws\"></span> </pre>\n<pre class=\"line after\"><span class=\"ws\">    </span>def finalize_request(self, rv, from_error_handler=False):</pre>\n<pre class=\"line after\"><span class=\"ws\">        </span>&quot;&quot;&quot;Given the return value from a view function this finalizes</pre>\n<pre class=\"line after\"><span class=\"ws\">        </span>the request by converting it into a response and invoking the</pre></div>\n</div>\n\n<li><div class=\"frame\" id=\"frame-2384006715904\">\n  <h4>File <cite class=\"filename\">\"C:\\Users\\LENOVO\\anaconda3\\envs\\venv\\Lib\\site-packages\\flask\\app.py\"</cite>,\n      line <em class=\"line\">1821</em>,\n      in <code class=\"function\">handle_user_exception</code></h4>\n  <div class=\"source library\"><pre class=\"line before\"><span class=\"ws\">            </span>return self.handle_http_exception(e)</pre>\n<pre class=\"line before\"><span class=\"ws\"></span> </pre>\n<pre class=\"line before\"><span class=\"ws\">        </span>handler = self._find_error_handler(e)</pre>\n<pre class=\"line before\"><span class=\"ws\"></span> </pre>\n<pre class=\"line before\"><span class=\"ws\">        </span>if handler is None:</pre>\n<pre class=\"line current\"><span class=\"ws\">            </span>reraise(exc_type, exc_value, tb)</pre>\n<pre class=\"line after\"><span class=\"ws\">        </span>return handler(e)</pre>\n<pre class=\"line after\"><span class=\"ws\"></span> </pre>\n<pre class=\"line after\"><span class=\"ws\">    </span>def handle_exception(self, e):</pre>\n<pre class=\"line after\"><span class=\"ws\">        </span>&quot;&quot;&quot;Handle an exception that did not have an error handler</pre>\n<pre class=\"line after\"><span class=\"ws\">        </span>associated with it, or that was raised from an error handler.</pre></div>\n</div>\n\n<li><div class=\"frame\" id=\"frame-2384006716048\">\n  <h4>File <cite class=\"filename\">\"C:\\Users\\LENOVO\\anaconda3\\envs\\venv\\Lib\\site-packages\\flask\\_compat.py\"</cite>,\n      line <em class=\"line\">39</em>,\n      in <code class=\"function\">reraise</code></h4>\n  <div class=\"source library\"><pre class=\"line before\"><span class=\"ws\">    </span>import collections.abc as collections_abc</pre>\n<pre class=\"line before\"><span class=\"ws\"></span> </pre>\n<pre class=\"line before\"><span class=\"ws\">    </span>def reraise(tp, value, tb=None):</pre>\n<pre class=\"line before\"><span class=\"ws\">        </span>if value.__traceback__ is not tb:</pre>\n<pre class=\"line before\"><span class=\"ws\">            </span>raise value.with_traceback(tb)</pre>\n<pre class=\"line current\"><span class=\"ws\">        </span>raise value</pre>\n<pre class=\"line after\"><span class=\"ws\"></span> </pre>\n<pre class=\"line after\"><span class=\"ws\">    </span>implements_to_string = _identity</pre>\n<pre class=\"line after\"><span class=\"ws\"></span> </pre>\n<pre class=\"line after\"><span class=\"ws\"></span>else:</pre>\n<pre class=\"line after\"><span class=\"ws\">    </span>iterkeys = lambda d: d.iterkeys()</pre></div>\n</div>\n\n<li><div class=\"frame\" id=\"frame-2384006714848\">\n  <h4>File <cite class=\"filename\">\"C:\\Users\\LENOVO\\anaconda3\\envs\\venv\\Lib\\site-packages\\flask\\app.py\"</cite>,\n      line <em class=\"line\">1950</em>,\n      in <code class=\"function\">full_dispatch_request</code></h4>\n  <div class=\"source library\"><pre class=\"line before\"><span class=\"ws\">        </span>self.try_trigger_before_first_request_functions()</pre>\n<pre class=\"line before\"><span class=\"ws\">        </span>try:</pre>\n<pre class=\"line before\"><span class=\"ws\">            </span>request_started.send(self)</pre>\n<pre class=\"line before\"><span class=\"ws\">            </span>rv = self.preprocess_request()</pre>\n<pre class=\"line before\"><span class=\"ws\">            </span>if rv is None:</pre>\n<pre class=\"line current\"><span class=\"ws\">                </span>rv = self.dispatch_request()</pre>\n<pre class=\"line after\"><span class=\"ws\">        </span>except Exception as e:</pre>\n<pre class=\"line after\"><span class=\"ws\">            </span>rv = self.handle_user_exception(e)</pre>\n<pre class=\"line after\"><span class=\"ws\">        </span>return self.finalize_request(rv)</pre>\n<pre class=\"line after\"><span class=\"ws\"></span> </pre>\n<pre class=\"line after\"><span class=\"ws\">    </span>def finalize_request(self, rv, from_error_handler=False):</pre></div>\n</div>\n\n<li><div class=\"frame\" id=\"frame-2384006713888\">\n  <h4>File <cite class=\"filename\">\"C:\\Users\\LENOVO\\anaconda3\\envs\\venv\\Lib\\site-packages\\flask\\app.py\"</cite>,\n      line <em class=\"line\">1936</em>,\n      in <code class=\"function\">dispatch_request</code></h4>\n  <div class=\"source library\"><pre class=\"line before\"><span class=\"ws\">            </span>getattr(rule, &quot;provide_automatic_options&quot;, False)</pre>\n<pre class=\"line before\"><span class=\"ws\">            </span>and req.method == &quot;OPTIONS&quot;</pre>\n<pre class=\"line before\"><span class=\"ws\">        </span>):</pre>\n<pre class=\"line before\"><span class=\"ws\">            </span>return self.make_default_options_response()</pre>\n<pre class=\"line before\"><span class=\"ws\">        </span># otherwise dispatch to the handler for that endpoint</pre>\n<pre class=\"line current\"><span class=\"ws\">        </span>return self.view_functions[rule.endpoint](**req.view_args)</pre>\n<pre class=\"line after\"><span class=\"ws\"></span> </pre>\n<pre class=\"line after\"><span class=\"ws\">    </span>def full_dispatch_request(self):</pre>\n<pre class=\"line after\"><span class=\"ws\">        </span>&quot;&quot;&quot;Dispatches the request and on top of that performs request</pre>\n<pre class=\"line after\"><span class=\"ws\">        </span>pre and postprocessing as well as HTTP exception catching and</pre>\n<pre class=\"line after\"><span class=\"ws\">        </span>error handling.</pre></div>\n</div>\n\n<li><div class=\"frame\" id=\"frame-2384006713840\">\n  <h4>File <cite class=\"filename\">\"E:\\exploring\\4. Deployment\\test\\backend\\backend.py\"</cite>,\n      line <em class=\"line\">30</em>,\n      in <code class=\"function\">body_inference</code></h4>\n  <div class=\"source \"><pre class=\"line before\"><span class=\"ws\"></span> </pre>\n<pre class=\"line before\"><span class=\"ws\">        </span>new_data = data</pre>\n<pre class=\"line before\"><span class=\"ws\"></span> </pre>\n<pre class=\"line before\"><span class=\"ws\">        </span>new_data = pd.DataFrame([new_data], columns=[&#x27;Close&#x27;])</pre>\n<pre class=\"line before\"><span class=\"ws\"></span> </pre>\n<pre class=\"line current\"><span class=\"ws\">        </span>data_inf = pickled_model.transform(new_data)</pre>\n<pre class=\"line after\"><span class=\"ws\">        </span>X_next = data_inf.reshape(1, 60, 1)</pre>\n<pre class=\"line after\"><span class=\"ws\">        </span>next_day = saved_model.predict(X_next)</pre>\n<pre class=\"line after\"><span class=\"ws\">        </span>next_day = pickled_model.inverse_transform(next_day)</pre>\n<pre class=\"line after\"><span class=\"ws\"></span> </pre>\n<pre class=\"line after\"><span class=\"ws\">        </span>res = next_day[0]</pre></div>\n</div>\n\n<li><div class=\"frame\" id=\"frame-2384006715376\">\n  <h4>File <cite class=\"filename\">\"C:\\Users\\LENOVO\\anaconda3\\envs\\venv\\Lib\\site-packages\\sklearn\\utils\\metaestimators.py\"</cite>,\n      line <em class=\"line\">113</em>,\n      in <code class=\"function\">&lt;lambda&gt;</code></h4>\n  <div class=\"source library\"><pre class=\"line before\"><span class=\"ws\">            </span># this is to allow access to the docstrings.</pre>\n<pre class=\"line before\"><span class=\"ws\">            </span>if not self.check(obj):</pre>\n<pre class=\"line before\"><span class=\"ws\">                </span>raise attr_err</pre>\n<pre class=\"line before\"><span class=\"ws\"></span> </pre>\n<pre class=\"line before\"><span class=\"ws\">            </span># lambda, but not partial, allows help() to work with update_wrapper</pre>\n<pre class=\"line current\"><span class=\"ws\">            </span>out = lambda *args, **kwargs: self.fn(obj, *args, **kwargs)  # noqa</pre>\n<pre class=\"line after\"><span class=\"ws\">        </span>else:</pre>\n<pre class=\"line after\"><span class=\"ws\"></span> </pre>\n<pre class=\"line after\"><span class=\"ws\">            </span>def fn(*args, **kwargs):</pre>\n<pre class=\"line after\"><span class=\"ws\">                </span>if not self.check(args[0]):</pre>\n<pre class=\"line after\"><span class=\"ws\">                    </span>raise attr_err</pre></div>\n</div>\n\n<li><div class=\"frame\" id=\"frame-2384006714992\">\n  <h4>File <cite class=\"filename\">\"C:\\Users\\LENOVO\\anaconda3\\envs\\venv\\Lib\\site-packages\\sklearn\\pipeline.py\"</cite>,\n      line <em class=\"line\">647</em>,\n      in <code class=\"function\">transform</code></h4>\n  <div class=\"source library\"><pre class=\"line before\"><span class=\"ws\">        </span>Xt : ndarray of shape (n_samples, n_transformed_features)</pre>\n<pre class=\"line before\"><span class=\"ws\">            </span>Transformed data.</pre>\n<pre class=\"line before\"><span class=\"ws\">        </span>&quot;&quot;&quot;</pre>\n<pre class=\"line before\"><span class=\"ws\">        </span>Xt = X</pre>\n<pre class=\"line before\"><span class=\"ws\">        </span>for _, _, transform in self._iter():</pre>\n<pre class=\"line current\"><span class=\"ws\">            </span>Xt = transform.transform(Xt)</pre>\n<pre class=\"line after\"><span class=\"ws\">        </span>return Xt</pre>\n<pre class=\"line after\"><span class=\"ws\"></span> </pre>\n<pre class=\"line after\"><span class=\"ws\">    </span>def _can_inverse_transform(self):</pre>\n<pre class=\"line after\"><span class=\"ws\">        </span>return all(hasattr(t, &quot;inverse_transform&quot;) for _, _, t in self._iter())</pre>\n<pre class=\"line after\"><span class=\"ws\"></span> </pre></div>\n</div>\n\n<li><div class=\"frame\" id=\"frame-2384006714704\">\n  <h4>File <cite class=\"filename\">\"C:\\Users\\LENOVO\\anaconda3\\envs\\venv\\Lib\\site-packages\\sklearn\\preprocessing\\_data.py\"</cite>,\n      line <em class=\"line\">496</em>,\n      in <code class=\"function\">transform</code></h4>\n  <div class=\"source library\"><pre class=\"line before\"><span class=\"ws\">        </span>Xt : ndarray of shape (n_samples, n_features)</pre>\n<pre class=\"line before\"><span class=\"ws\">            </span>Transformed data.</pre>\n<pre class=\"line before\"><span class=\"ws\">        </span>&quot;&quot;&quot;</pre>\n<pre class=\"line before\"><span class=\"ws\">        </span>check_is_fitted(self)</pre>\n<pre class=\"line before\"><span class=\"ws\"></span> </pre>\n<pre class=\"line current\"><span class=\"ws\">        </span>X = self._validate_data(</pre>\n<pre class=\"line after\"><span class=\"ws\">            </span>X,</pre>\n<pre class=\"line after\"><span class=\"ws\">            </span>copy=self.copy,</pre>\n<pre class=\"line after\"><span class=\"ws\">            </span>dtype=FLOAT_DTYPES,</pre>\n<pre class=\"line after\"><span class=\"ws\">            </span>force_all_finite=&quot;allow-nan&quot;,</pre>\n<pre class=\"line after\"><span class=\"ws\">            </span>reset=False,</pre></div>\n</div>\n\n<li><div class=\"frame\" id=\"frame-2384006714896\">\n  <h4>File <cite class=\"filename\">\"C:\\Users\\LENOVO\\anaconda3\\envs\\venv\\Lib\\site-packages\\sklearn\\base.py\"</cite>,\n      line <em class=\"line\">566</em>,\n      in <code class=\"function\">_validate_data</code></h4>\n  <div class=\"source library\"><pre class=\"line before\"><span class=\"ws\">        </span>no_val_y = y is None or isinstance(y, str) and y == &quot;no_validation&quot;</pre>\n<pre class=\"line before\"><span class=\"ws\"></span> </pre>\n<pre class=\"line before\"><span class=\"ws\">        </span>if no_val_X and no_val_y:</pre>\n<pre class=\"line before\"><span class=\"ws\">            </span>raise ValueError(&quot;Validation should be done on X, y or both.&quot;)</pre>\n<pre class=\"line before\"><span class=\"ws\">        </span>elif not no_val_X and no_val_y:</pre>\n<pre class=\"line current\"><span class=\"ws\">            </span>X = check_array(X, **check_params)</pre>\n<pre class=\"line after\"><span class=\"ws\">            </span>out = X</pre>\n<pre class=\"line after\"><span class=\"ws\">        </span>elif no_val_X and not no_val_y:</pre>\n<pre class=\"line after\"><span class=\"ws\">            </span>y = _check_y(y, **check_params)</pre>\n<pre class=\"line after\"><span class=\"ws\">            </span>out = y</pre>\n<pre class=\"line after\"><span class=\"ws\">        </span>else:</pre></div>\n</div>\n\n<li><div class=\"frame\" id=\"frame-2384006713408\">\n  <h4>File <cite class=\"filename\">\"C:\\Users\\LENOVO\\anaconda3\\envs\\venv\\Lib\\site-packages\\sklearn\\utils\\validation.py\"</cite>,\n      line <em class=\"line\">746</em>,\n      in <code class=\"function\">check_array</code></h4>\n  <div class=\"source library\"><pre class=\"line before\"><span class=\"ws\">                    </span>array = np.asarray(array, order=order)</pre>\n<pre class=\"line before\"><span class=\"ws\">                    </span>if array.dtype.kind == &quot;f&quot;:</pre>\n<pre class=\"line before\"><span class=\"ws\">                        </span>_assert_all_finite(array, allow_nan=False, msg_dtype=dtype)</pre>\n<pre class=\"line before\"><span class=\"ws\">                    </span>array = array.astype(dtype, casting=&quot;unsafe&quot;, copy=False)</pre>\n<pre class=\"line before\"><span class=\"ws\">                </span>else:</pre>\n<pre class=\"line current\"><span class=\"ws\">                    </span>array = np.asarray(array, order=order, dtype=dtype)</pre>\n<pre class=\"line after\"><span class=\"ws\">            </span>except ComplexWarning as complex_warning:</pre>\n<pre class=\"line after\"><span class=\"ws\">                </span>raise ValueError(</pre>\n<pre class=\"line after\"><span class=\"ws\">                    </span>&quot;Complex data not supported\\n{}\\n&quot;.format(array)</pre>\n<pre class=\"line after\"><span class=\"ws\">                </span>) from complex_warning</pre>\n<pre class=\"line after\"><span class=\"ws\"></span> </pre></div>\n</div>\n\n<li><div class=\"frame\" id=\"frame-2384006713648\">\n  <h4>File <cite class=\"filename\">\"C:\\Users\\LENOVO\\anaconda3\\envs\\venv\\Lib\\site-packages\\pandas\\core\\generic.py\"</cite>,\n      line <em class=\"line\">2064</em>,\n      in <code class=\"function\">__array__</code></h4>\n  <div class=\"source library\"><pre class=\"line before\"><span class=\"ws\">    </span># This is also set in IndexOpsMixin</pre>\n<pre class=\"line before\"><span class=\"ws\">    </span># GH#23114 Ensure ndarray.__op__(DataFrame) returns NotImplemented</pre>\n<pre class=\"line before\"><span class=\"ws\">    </span>__array_priority__ = 1000</pre>\n<pre class=\"line before\"><span class=\"ws\"></span> </pre>\n<pre class=\"line before\"><span class=\"ws\">    </span>def __array__(self, dtype: npt.DTypeLike | None = None) -&gt; np.ndarray:</pre>\n<pre class=\"line current\"><span class=\"ws\">        </span>return np.asarray(self._values, dtype=dtype)</pre>\n<pre class=\"line after\"><span class=\"ws\"></span> </pre>\n<pre class=\"line after\"><span class=\"ws\">    </span>def __array_wrap__(</pre>\n<pre class=\"line after\"><span class=\"ws\">        </span>self,</pre>\n<pre class=\"line after\"><span class=\"ws\">        </span>result: np.ndarray,</pre>\n<pre class=\"line after\"><span class=\"ws\">        </span>context: tuple[Callable, tuple[Any, ...], int] | None = None,</pre></div>\n</div>\n</ul>\n  <blockquote>ValueError: setting an array element with a sequence.</blockquote>\n</div>\n\n<div class=\"plain\">\n    <p>\n      This is the Copy/Paste friendly version of the traceback.\n    </p>\n    <textarea cols=\"50\" rows=\"10\" name=\"code\" readonly>Traceback (most recent call last):\nTypeError: float() argument must be a string or a number, not &#x27;list&#x27;\n\nThe above exception was the direct cause of the following exception:\n\nTraceback (most recent call last):\n  File &quot;C:\\Users\\LENOVO\\anaconda3\\envs\\venv\\Lib\\site-packages\\flask\\app.py&quot;, line 2464, in __call__\n    return self.wsgi_app(environ, start_response)\n  File &quot;C:\\Users\\LENOVO\\anaconda3\\envs\\venv\\Lib\\site-packages\\flask\\app.py&quot;, line 2450, in wsgi_app\n    response = self.handle_exception(e)\n  File &quot;C:\\Users\\LENOVO\\anaconda3\\envs\\venv\\Lib\\site-packages\\flask\\app.py&quot;, line 1867, in handle_exception\n    reraise(exc_type, exc_value, tb)\n  File &quot;C:\\Users\\LENOVO\\anaconda3\\envs\\venv\\Lib\\site-packages\\flask\\_compat.py&quot;, line 39, in reraise\n    raise value\n  File &quot;C:\\Users\\LENOVO\\anaconda3\\envs\\venv\\Lib\\site-packages\\flask\\app.py&quot;, line 2447, in wsgi_app\n    response = self.full_dispatch_request()\n  File &quot;C:\\Users\\LENOVO\\anaconda3\\envs\\venv\\Lib\\site-packages\\flask\\app.py&quot;, line 1952, in full_dispatch_request\n    rv = self.handle_user_exception(e)\n  File &quot;C:\\Users\\LENOVO\\anaconda3\\envs\\venv\\Lib\\site-packages\\flask\\app.py&quot;, line 1821, in handle_user_exception\n    reraise(exc_type, exc_value, tb)\n  File &quot;C:\\Users\\LENOVO\\anaconda3\\envs\\venv\\Lib\\site-packages\\flask\\_compat.py&quot;, line 39, in reraise\n    raise value\n  File &quot;C:\\Users\\LENOVO\\anaconda3\\envs\\venv\\Lib\\site-packages\\flask\\app.py&quot;, line 1950, in full_dispatch_request\n    rv = self.dispatch_request()\n  File &quot;C:\\Users\\LENOVO\\anaconda3\\envs\\venv\\Lib\\site-packages\\flask\\app.py&quot;, line 1936, in dispatch_request\n    return self.view_functions[rule.endpoint](**req.view_args)\n  File &quot;E:\\exploring\\4. Deployment\\test\\backend\\backend.py&quot;, line 30, in body_inference\n    data_inf = pickled_model.transform(new_data)\n  File &quot;C:\\Users\\LENOVO\\anaconda3\\envs\\venv\\Lib\\site-packages\\sklearn\\utils\\metaestimators.py&quot;, line 113, in &lt;lambda&gt;\n    out = lambda *args, **kwargs: self.fn(obj, *args, **kwargs)  # noqa\n  File &quot;C:\\Users\\LENOVO\\anaconda3\\envs\\venv\\Lib\\site-packages\\sklearn\\pipeline.py&quot;, line 647, in transform\n    Xt = transform.transform(Xt)\n  File &quot;C:\\Users\\LENOVO\\anaconda3\\envs\\venv\\Lib\\site-packages\\sklearn\\preprocessing\\_data.py&quot;, line 496, in transform\n    X = self._validate_data(\n  File &quot;C:\\Users\\LENOVO\\anaconda3\\envs\\venv\\Lib\\site-packages\\sklearn\\base.py&quot;, line 566, in _validate_data\n    X = check_array(X, **check_params)\n  File &quot;C:\\Users\\LENOVO\\anaconda3\\envs\\venv\\Lib\\site-packages\\sklearn\\utils\\validation.py&quot;, line 746, in check_array\n    array = np.asarray(array, order=order, dtype=dtype)\n  File &quot;C:\\Users\\LENOVO\\anaconda3\\envs\\venv\\Lib\\site-packages\\pandas\\core\\generic.py&quot;, line 2064, in __array__\n    return np.asarray(self._values, dtype=dtype)\nValueError: setting an array element with a sequence.</textarea>\n</div>\n<div class=\"explanation\">\n  The debugger caught an exception in your WSGI application.  You can now\n  look at the traceback which led to the error.  <span class=\"nojavascript\">\n  If you enable JavaScript you can also use additional features such as code\n  execution (if the evalex feature is enabled), automatic pasting of the\n  exceptions and much more.</span>\n</div>\n      <div class=\"footer\">\n        Brought to you by <strong class=\"arthur\">DON'T PANIC</strong>, your\n        friendly Werkzeug powered traceback interpreter.\n      </div>\n    </div>\n\n    <div class=\"pin-prompt\">\n      <div class=\"inner\">\n        <h3>Console Locked</h3>\n        <p>\n          The console is locked and needs to be unlocked by entering the PIN.\n          You can find the PIN printed out on the standard output of your\n          shell that runs the server.\n        <form>\n          <p>PIN:\n            <input type=text name=pin size=14>\n            <input type=submit name=btn value=\"Confirm Pin\">\n        </form>\n      </div>\n    </div>\n  </body>\n</html>\n\n<!--\n\nTraceback (most recent call last):\nTypeError: float() argument must be a string or a number, not 'list'\n\nThe above exception was the direct cause of the following exception:\n\nTraceback (most recent call last):\n  File \"C:\\Users\\LENOVO\\anaconda3\\envs\\venv\\Lib\\site-packages\\flask\\app.py\", line 2464, in __call__\n    return self.wsgi_app(environ, start_response)\n  File \"C:\\Users\\LENOVO\\anaconda3\\envs\\venv\\Lib\\site-packages\\flask\\app.py\", line 2450, in wsgi_app\n    response = self.handle_exception(e)\n  File \"C:\\Users\\LENOVO\\anaconda3\\envs\\venv\\Lib\\site-packages\\flask\\app.py\", line 1867, in handle_exception\n    reraise(exc_type, exc_value, tb)\n  File \"C:\\Users\\LENOVO\\anaconda3\\envs\\venv\\Lib\\site-packages\\flask\\_compat.py\", line 39, in reraise\n    raise value\n  File \"C:\\Users\\LENOVO\\anaconda3\\envs\\venv\\Lib\\site-packages\\flask\\app.py\", line 2447, in wsgi_app\n    response = self.full_dispatch_request()\n  File \"C:\\Users\\LENOVO\\anaconda3\\envs\\venv\\Lib\\site-packages\\flask\\app.py\", line 1952, in full_dispatch_request\n    rv = self.handle_user_exception(e)\n  File \"C:\\Users\\LENOVO\\anaconda3\\envs\\venv\\Lib\\site-packages\\flask\\app.py\", line 1821, in handle_user_exception\n    reraise(exc_type, exc_value, tb)\n  File \"C:\\Users\\LENOVO\\anaconda3\\envs\\venv\\Lib\\site-packages\\flask\\_compat.py\", line 39, in reraise\n    raise value\n  File \"C:\\Users\\LENOVO\\anaconda3\\envs\\venv\\Lib\\site-packages\\flask\\app.py\", line 1950, in full_dispatch_request\n    rv = self.dispatch_request()\n  File \"C:\\Users\\LENOVO\\anaconda3\\envs\\venv\\Lib\\site-packages\\flask\\app.py\", line 1936, in dispatch_request\n    return self.view_functions[rule.endpoint](**req.view_args)\n  File \"E:\\exploring\\4. Deployment\\test\\backend\\backend.py\", line 30, in body_inference\n    data_inf = pickled_model.transform(new_data)\n  File \"C:\\Users\\LENOVO\\anaconda3\\envs\\venv\\Lib\\site-packages\\sklearn\\utils\\metaestimators.py\", line 113, in <lambda>\n    out = lambda *args, **kwargs: self.fn(obj, *args, **kwargs)  # noqa\n  File \"C:\\Users\\LENOVO\\anaconda3\\envs\\venv\\Lib\\site-packages\\sklearn\\pipeline.py\", line 647, in transform\n    Xt = transform.transform(Xt)\n  File \"C:\\Users\\LENOVO\\anaconda3\\envs\\venv\\Lib\\site-packages\\sklearn\\preprocessing\\_data.py\", line 496, in transform\n    X = self._validate_data(\n  File \"C:\\Users\\LENOVO\\anaconda3\\envs\\venv\\Lib\\site-packages\\sklearn\\base.py\", line 566, in _validate_data\n    X = check_array(X, **check_params)\n  File \"C:\\Users\\LENOVO\\anaconda3\\envs\\venv\\Lib\\site-packages\\sklearn\\utils\\validation.py\", line 746, in check_array\n    array = np.asarray(array, order=order, dtype=dtype)\n  File \"C:\\Users\\LENOVO\\anaconda3\\envs\\venv\\Lib\\site-packages\\pandas\\core\\generic.py\", line 2064, in __array__\n    return np.asarray(self._values, dtype=dtype)\nValueError: setting an array element with a sequence.\n\n-->\n: 0",
     "output_type": "error",
     "traceback": [
      "\u001b[1;31m---------------------------------------------------------------------------\u001b[0m",
      "\u001b[1;31mJSONDecodeError\u001b[0m                           Traceback (most recent call last)",
      "File \u001b[1;32mc:\\Users\\LENOVO\\anaconda3\\envs\\venv\\lib\\site-packages\\requests\\models.py:910\u001b[0m, in \u001b[0;36mResponse.json\u001b[1;34m(self, **kwargs)\u001b[0m\n\u001b[0;32m    909\u001b[0m \u001b[39mtry\u001b[39;00m:\n\u001b[1;32m--> 910\u001b[0m     \u001b[39mreturn\u001b[39;00m complexjson\u001b[39m.\u001b[39mloads(\u001b[39mself\u001b[39m\u001b[39m.\u001b[39mtext, \u001b[39m*\u001b[39m\u001b[39m*\u001b[39mkwargs)\n\u001b[0;32m    911\u001b[0m \u001b[39mexcept\u001b[39;00m JSONDecodeError \u001b[39mas\u001b[39;00m e:\n\u001b[0;32m    912\u001b[0m     \u001b[39m# Catch JSON-related errors and raise as requests.JSONDecodeError\u001b[39;00m\n\u001b[0;32m    913\u001b[0m     \u001b[39m# This aliases json.JSONDecodeError and simplejson.JSONDecodeError\u001b[39;00m\n",
      "File \u001b[1;32mc:\\Users\\LENOVO\\anaconda3\\envs\\venv\\lib\\json\\__init__.py:346\u001b[0m, in \u001b[0;36mloads\u001b[1;34m(s, cls, object_hook, parse_float, parse_int, parse_constant, object_pairs_hook, **kw)\u001b[0m\n\u001b[0;32m    343\u001b[0m \u001b[39mif\u001b[39;00m (\u001b[39mcls\u001b[39m \u001b[39mis\u001b[39;00m \u001b[39mNone\u001b[39;00m \u001b[39mand\u001b[39;00m object_hook \u001b[39mis\u001b[39;00m \u001b[39mNone\u001b[39;00m \u001b[39mand\u001b[39;00m\n\u001b[0;32m    344\u001b[0m         parse_int \u001b[39mis\u001b[39;00m \u001b[39mNone\u001b[39;00m \u001b[39mand\u001b[39;00m parse_float \u001b[39mis\u001b[39;00m \u001b[39mNone\u001b[39;00m \u001b[39mand\u001b[39;00m\n\u001b[0;32m    345\u001b[0m         parse_constant \u001b[39mis\u001b[39;00m \u001b[39mNone\u001b[39;00m \u001b[39mand\u001b[39;00m object_pairs_hook \u001b[39mis\u001b[39;00m \u001b[39mNone\u001b[39;00m \u001b[39mand\u001b[39;00m \u001b[39mnot\u001b[39;00m kw):\n\u001b[1;32m--> 346\u001b[0m     \u001b[39mreturn\u001b[39;00m _default_decoder\u001b[39m.\u001b[39;49mdecode(s)\n\u001b[0;32m    347\u001b[0m \u001b[39mif\u001b[39;00m \u001b[39mcls\u001b[39m \u001b[39mis\u001b[39;00m \u001b[39mNone\u001b[39;00m:\n",
      "File \u001b[1;32mc:\\Users\\LENOVO\\anaconda3\\envs\\venv\\lib\\json\\decoder.py:337\u001b[0m, in \u001b[0;36mJSONDecoder.decode\u001b[1;34m(self, s, _w)\u001b[0m\n\u001b[0;32m    333\u001b[0m \u001b[39m\"\"\"Return the Python representation of ``s`` (a ``str`` instance\u001b[39;00m\n\u001b[0;32m    334\u001b[0m \u001b[39mcontaining a JSON document).\u001b[39;00m\n\u001b[0;32m    335\u001b[0m \n\u001b[0;32m    336\u001b[0m \u001b[39m\"\"\"\u001b[39;00m\n\u001b[1;32m--> 337\u001b[0m obj, end \u001b[39m=\u001b[39m \u001b[39mself\u001b[39;49m\u001b[39m.\u001b[39;49mraw_decode(s, idx\u001b[39m=\u001b[39;49m_w(s, \u001b[39m0\u001b[39;49m)\u001b[39m.\u001b[39;49mend())\n\u001b[0;32m    338\u001b[0m end \u001b[39m=\u001b[39m _w(s, end)\u001b[39m.\u001b[39mend()\n",
      "File \u001b[1;32mc:\\Users\\LENOVO\\anaconda3\\envs\\venv\\lib\\json\\decoder.py:355\u001b[0m, in \u001b[0;36mJSONDecoder.raw_decode\u001b[1;34m(self, s, idx)\u001b[0m\n\u001b[0;32m    354\u001b[0m \u001b[39mexcept\u001b[39;00m \u001b[39mStopIteration\u001b[39;00m \u001b[39mas\u001b[39;00m err:\n\u001b[1;32m--> 355\u001b[0m     \u001b[39mraise\u001b[39;00m JSONDecodeError(\u001b[39m\"\u001b[39m\u001b[39mExpecting value\u001b[39m\u001b[39m\"\u001b[39m, s, err\u001b[39m.\u001b[39mvalue) \u001b[39mfrom\u001b[39;00m \u001b[39mNone\u001b[39m\n\u001b[0;32m    356\u001b[0m \u001b[39mreturn\u001b[39;00m obj, end\n",
      "\u001b[1;31mJSONDecodeError\u001b[0m: Expecting value: line 1 column 1 (char 0)",
      "\nDuring handling of the above exception, another exception occurred:\n",
      "\u001b[1;31mJSONDecodeError\u001b[0m                           Traceback (most recent call last)",
      "\u001b[1;32me:\\exploring\\4. Deployment\\test\\backend\\front_test.ipynb Cell 12'\u001b[0m in \u001b[0;36m<cell line: 9>\u001b[1;34m()\u001b[0m\n\u001b[0;32m      <a href='vscode-notebook-cell:/e%3A/exploring/4.%20Deployment/test/backend/front_test.ipynb#ch0000008?line=5'>6</a>\u001b[0m data \u001b[39m=\u001b[39m {\u001b[39m'\u001b[39m\u001b[39mClose\u001b[39m\u001b[39m'\u001b[39m : data_inf\u001b[39m.\u001b[39mtolist()}\n\u001b[0;32m      <a href='vscode-notebook-cell:/e%3A/exploring/4.%20Deployment/test/backend/front_test.ipynb#ch0000008?line=7'>8</a>\u001b[0m r \u001b[39m=\u001b[39m requests\u001b[39m.\u001b[39mpost(URL, json\u001b[39m=\u001b[39mdata)\n\u001b[1;32m----> <a href='vscode-notebook-cell:/e%3A/exploring/4.%20Deployment/test/backend/front_test.ipynb#ch0000008?line=8'>9</a>\u001b[0m r\u001b[39m.\u001b[39;49mjson()\n",
      "File \u001b[1;32mc:\\Users\\LENOVO\\anaconda3\\envs\\venv\\lib\\site-packages\\requests\\models.py:917\u001b[0m, in \u001b[0;36mResponse.json\u001b[1;34m(self, **kwargs)\u001b[0m\n\u001b[0;32m    915\u001b[0m     \u001b[39mraise\u001b[39;00m RequestsJSONDecodeError(e\u001b[39m.\u001b[39mmessage)\n\u001b[0;32m    916\u001b[0m \u001b[39melse\u001b[39;00m:\n\u001b[1;32m--> 917\u001b[0m     \u001b[39mraise\u001b[39;00m RequestsJSONDecodeError(e\u001b[39m.\u001b[39mmsg, e\u001b[39m.\u001b[39mdoc, e\u001b[39m.\u001b[39mpos)\n",
      "\u001b[1;31mJSONDecodeError\u001b[0m: [Errno Expecting value] <!DOCTYPE HTML PUBLIC \"-//W3C//DTD HTML 4.01 Transitional//EN\"\n  \"http://www.w3.org/TR/html4/loose.dtd\">\n<html>\n  <head>\n    <title>ValueError: setting an array element with a sequence. // Werkzeug Debugger</title>\n    <link rel=\"stylesheet\" href=\"?__debugger__=yes&amp;cmd=resource&amp;f=style.css\"\n        type=\"text/css\">\n    <!-- We need to make sure this has a favicon so that the debugger does\n         not accidentally trigger a request to /favicon.ico which might\n         change the application's state. -->\n    <link rel=\"shortcut icon\"\n        href=\"?__debugger__=yes&amp;cmd=resource&amp;f=console.png\">\n    <script src=\"?__debugger__=yes&amp;cmd=resource&amp;f=debugger.js\"></script>\n    <script type=\"text/javascript\">\n      var TRACEBACK = 2384006716432,\n          CONSOLE_MODE = false,\n          EVALEX = true,\n          EVALEX_TRUSTED = false,\n          SECRET = \"SzNeOuUcgRTihHfmQu1D\";\n    </script>\n  </head>\n  <body style=\"background-color: #fff\">\n    <div class=\"debugger\">\n<h1>ValueError</h1>\n<div class=\"detail\">\n  <p class=\"errormsg\">ValueError: setting an array element with a sequence.</p>\n</div>\n<h2 class=\"traceback\">Traceback <em>(most recent call last)</em></h2>\n<div class=\"traceback\">\n  <h3></h3>\n  <ul>\n<li><div class=\"exc-divider\">The above exception was the direct cause of the following exception:</div>\n<li><div class=\"frame\" id=\"frame-2384006713504\">\n  <h4>File <cite class=\"filename\">\"C:\\Users\\LENOVO\\anaconda3\\envs\\venv\\Lib\\site-packages\\flask\\app.py\"</cite>,\n      line <em class=\"line\">2464</em>,\n      in <code class=\"function\">__call__</code></h4>\n  <div class=\"source library\"><pre class=\"line before\"><span class=\"ws\"></span> </pre>\n<pre class=\"line before\"><span class=\"ws\">    </span>def __call__(self, environ, start_response):</pre>\n<pre class=\"line before\"><span class=\"ws\">        </span>&quot;&quot;&quot;The WSGI server calls the Flask application object as the</pre>\n<pre class=\"line before\"><span class=\"ws\">        </span>WSGI application. This calls :meth:`wsgi_app` which can be</pre>\n<pre class=\"line before\"><span class=\"ws\">        </span>wrapped to applying middleware.&quot;&quot;&quot;</pre>\n<pre class=\"line current\"><span class=\"ws\">        </span>return self.wsgi_app(environ, start_response)</pre>\n<pre class=\"line after\"><span class=\"ws\"></span> </pre>\n<pre class=\"line after\"><span class=\"ws\">    </span>def __repr__(self):</pre>\n<pre class=\"line after\"><span class=\"ws\">        </span>return &quot;&lt;%s %r&gt;&quot; % (self.__class__.__name__, self.name)</pre></div>\n</div>\n\n<li><div class=\"frame\" id=\"frame-2384006715232\">\n  <h4>File <cite class=\"filename\">\"C:\\Users\\LENOVO\\anaconda3\\envs\\venv\\Lib\\site-packages\\flask\\app.py\"</cite>,\n      line <em class=\"line\">2450</em>,\n      in <code class=\"function\">wsgi_app</code></h4>\n  <div class=\"source library\"><pre class=\"line before\"><span class=\"ws\">            </span>try:</pre>\n<pre class=\"line before\"><span class=\"ws\">                </span>ctx.push()</pre>\n<pre class=\"line before\"><span class=\"ws\">                </span>response = self.full_dispatch_request()</pre>\n<pre class=\"line before\"><span class=\"ws\">            </span>except Exception as e:</pre>\n<pre class=\"line before\"><span class=\"ws\">                </span>error = e</pre>\n<pre class=\"line current\"><span class=\"ws\">                </span>response = self.handle_exception(e)</pre>\n<pre class=\"line after\"><span class=\"ws\">            </span>except:  # noqa: B001</pre>\n<pre class=\"line after\"><span class=\"ws\">                </span>error = sys.exc_info()[1]</pre>\n<pre class=\"line after\"><span class=\"ws\">                </span>raise</pre>\n<pre class=\"line after\"><span class=\"ws\">            </span>return response(environ, start_response)</pre>\n<pre class=\"line after\"><span class=\"ws\">        </span>finally:</pre></div>\n</div>\n\n<li><div class=\"frame\" id=\"frame-2384006714464\">\n  <h4>File <cite class=\"filename\">\"C:\\Users\\LENOVO\\anaconda3\\envs\\venv\\Lib\\site-packages\\flask\\app.py\"</cite>,\n      line <em class=\"line\">1867</em>,\n      in <code class=\"function\">handle_exception</code></h4>\n  <div class=\"source library\"><pre class=\"line before\"><span class=\"ws\">            </span># if we want to repropagate the exception, we can attempt to</pre>\n<pre class=\"line before\"><span class=\"ws\">            </span># raise it with the whole traceback in case we can do that</pre>\n<pre class=\"line before\"><span class=\"ws\">            </span># (the function was actually called from the except part)</pre>\n<pre class=\"line before\"><span class=\"ws\">            </span># otherwise, we just raise the error again</pre>\n<pre class=\"line before\"><span class=\"ws\">            </span>if exc_value is e:</pre>\n<pre class=\"line current\"><span class=\"ws\">                </span>reraise(exc_type, exc_value, tb)</pre>\n<pre class=\"line after\"><span class=\"ws\">            </span>else:</pre>\n<pre class=\"line after\"><span class=\"ws\">                </span>raise e</pre>\n<pre class=\"line after\"><span class=\"ws\"></span> </pre>\n<pre class=\"line after\"><span class=\"ws\">        </span>self.log_exception((exc_type, exc_value, tb))</pre>\n<pre class=\"line after\"><span class=\"ws\">        </span>server_error = InternalServerError()</pre></div>\n</div>\n\n<li><div class=\"frame\" id=\"frame-2384006715184\">\n  <h4>File <cite class=\"filename\">\"C:\\Users\\LENOVO\\anaconda3\\envs\\venv\\Lib\\site-packages\\flask\\_compat.py\"</cite>,\n      line <em class=\"line\">39</em>,\n      in <code class=\"function\">reraise</code></h4>\n  <div class=\"source library\"><pre class=\"line before\"><span class=\"ws\">    </span>import collections.abc as collections_abc</pre>\n<pre class=\"line before\"><span class=\"ws\"></span> </pre>\n<pre class=\"line before\"><span class=\"ws\">    </span>def reraise(tp, value, tb=None):</pre>\n<pre class=\"line before\"><span class=\"ws\">        </span>if value.__traceback__ is not tb:</pre>\n<pre class=\"line before\"><span class=\"ws\">            </span>raise value.with_traceback(tb)</pre>\n<pre class=\"line current\"><span class=\"ws\">        </span>raise value</pre>\n<pre class=\"line after\"><span class=\"ws\"></span> </pre>\n<pre class=\"line after\"><span class=\"ws\">    </span>implements_to_string = _identity</pre>\n<pre class=\"line after\"><span class=\"ws\"></span> </pre>\n<pre class=\"line after\"><span class=\"ws\"></span>else:</pre>\n<pre class=\"line after\"><span class=\"ws\">    </span>iterkeys = lambda d: d.iterkeys()</pre></div>\n</div>\n\n<li><div class=\"frame\" id=\"frame-2384006714080\">\n  <h4>File <cite class=\"filename\">\"C:\\Users\\LENOVO\\anaconda3\\envs\\venv\\Lib\\site-packages\\flask\\app.py\"</cite>,\n      line <em class=\"line\">2447</em>,\n      in <code class=\"function\">wsgi_app</code></h4>\n  <div class=\"source library\"><pre class=\"line before\"><span class=\"ws\">        </span>ctx = self.request_context(environ)</pre>\n<pre class=\"line before\"><span class=\"ws\">        </span>error = None</pre>\n<pre class=\"line before\"><span class=\"ws\">        </span>try:</pre>\n<pre class=\"line before\"><span class=\"ws\">            </span>try:</pre>\n<pre class=\"line before\"><span class=\"ws\">                </span>ctx.push()</pre>\n<pre class=\"line current\"><span class=\"ws\">                </span>response = self.full_dispatch_request()</pre>\n<pre class=\"line after\"><span class=\"ws\">            </span>except Exception as e:</pre>\n<pre class=\"line after\"><span class=\"ws\">                </span>error = e</pre>\n<pre class=\"line after\"><span class=\"ws\">                </span>response = self.handle_exception(e)</pre>\n<pre class=\"line after\"><span class=\"ws\">            </span>except:  # noqa: B001</pre>\n<pre class=\"line after\"><span class=\"ws\">                </span>error = sys.exc_info()[1]</pre></div>\n</div>\n\n<li><div class=\"frame\" id=\"frame-2384006714032\">\n  <h4>File <cite class=\"filename\">\"C:\\Users\\LENOVO\\anaconda3\\envs\\venv\\Lib\\site-packages\\flask\\app.py\"</cite>,\n      line <em class=\"line\">1952</em>,\n      in <code class=\"function\">full_dispatch_request</code></h4>\n  <div class=\"source library\"><pre class=\"line before\"><span class=\"ws\">            </span>request_started.send(self)</pre>\n<pre class=\"line before\"><span class=\"ws\">            </span>rv = self.preprocess_request()</pre>\n<pre class=\"line before\"><span class=\"ws\">            </span>if rv is None:</pre>\n<pre class=\"line before\"><span class=\"ws\">                </span>rv = self.dispatch_request()</pre>\n<pre class=\"line before\"><span class=\"ws\">        </span>except Exception as e:</pre>\n<pre class=\"line current\"><span class=\"ws\">            </span>rv = self.handle_user_exception(e)</pre>\n<pre class=\"line after\"><span class=\"ws\">        </span>return self.finalize_request(rv)</pre>\n<pre class=\"line after\"><span class=\"ws\"></span> </pre>\n<pre class=\"line after\"><span class=\"ws\">    </span>def finalize_request(self, rv, from_error_handler=False):</pre>\n<pre class=\"line after\"><span class=\"ws\">        </span>&quot;&quot;&quot;Given the return value from a view function this finalizes</pre>\n<pre class=\"line after\"><span class=\"ws\">        </span>the request by converting it into a response and invoking the</pre></div>\n</div>\n\n<li><div class=\"frame\" id=\"frame-2384006715904\">\n  <h4>File <cite class=\"filename\">\"C:\\Users\\LENOVO\\anaconda3\\envs\\venv\\Lib\\site-packages\\flask\\app.py\"</cite>,\n      line <em class=\"line\">1821</em>,\n      in <code class=\"function\">handle_user_exception</code></h4>\n  <div class=\"source library\"><pre class=\"line before\"><span class=\"ws\">            </span>return self.handle_http_exception(e)</pre>\n<pre class=\"line before\"><span class=\"ws\"></span> </pre>\n<pre class=\"line before\"><span class=\"ws\">        </span>handler = self._find_error_handler(e)</pre>\n<pre class=\"line before\"><span class=\"ws\"></span> </pre>\n<pre class=\"line before\"><span class=\"ws\">        </span>if handler is None:</pre>\n<pre class=\"line current\"><span class=\"ws\">            </span>reraise(exc_type, exc_value, tb)</pre>\n<pre class=\"line after\"><span class=\"ws\">        </span>return handler(e)</pre>\n<pre class=\"line after\"><span class=\"ws\"></span> </pre>\n<pre class=\"line after\"><span class=\"ws\">    </span>def handle_exception(self, e):</pre>\n<pre class=\"line after\"><span class=\"ws\">        </span>&quot;&quot;&quot;Handle an exception that did not have an error handler</pre>\n<pre class=\"line after\"><span class=\"ws\">        </span>associated with it, or that was raised from an error handler.</pre></div>\n</div>\n\n<li><div class=\"frame\" id=\"frame-2384006716048\">\n  <h4>File <cite class=\"filename\">\"C:\\Users\\LENOVO\\anaconda3\\envs\\venv\\Lib\\site-packages\\flask\\_compat.py\"</cite>,\n      line <em class=\"line\">39</em>,\n      in <code class=\"function\">reraise</code></h4>\n  <div class=\"source library\"><pre class=\"line before\"><span class=\"ws\">    </span>import collections.abc as collections_abc</pre>\n<pre class=\"line before\"><span class=\"ws\"></span> </pre>\n<pre class=\"line before\"><span class=\"ws\">    </span>def reraise(tp, value, tb=None):</pre>\n<pre class=\"line before\"><span class=\"ws\">        </span>if value.__traceback__ is not tb:</pre>\n<pre class=\"line before\"><span class=\"ws\">            </span>raise value.with_traceback(tb)</pre>\n<pre class=\"line current\"><span class=\"ws\">        </span>raise value</pre>\n<pre class=\"line after\"><span class=\"ws\"></span> </pre>\n<pre class=\"line after\"><span class=\"ws\">    </span>implements_to_string = _identity</pre>\n<pre class=\"line after\"><span class=\"ws\"></span> </pre>\n<pre class=\"line after\"><span class=\"ws\"></span>else:</pre>\n<pre class=\"line after\"><span class=\"ws\">    </span>iterkeys = lambda d: d.iterkeys()</pre></div>\n</div>\n\n<li><div class=\"frame\" id=\"frame-2384006714848\">\n  <h4>File <cite class=\"filename\">\"C:\\Users\\LENOVO\\anaconda3\\envs\\venv\\Lib\\site-packages\\flask\\app.py\"</cite>,\n      line <em class=\"line\">1950</em>,\n      in <code class=\"function\">full_dispatch_request</code></h4>\n  <div class=\"source library\"><pre class=\"line before\"><span class=\"ws\">        </span>self.try_trigger_before_first_request_functions()</pre>\n<pre class=\"line before\"><span class=\"ws\">        </span>try:</pre>\n<pre class=\"line before\"><span class=\"ws\">            </span>request_started.send(self)</pre>\n<pre class=\"line before\"><span class=\"ws\">            </span>rv = self.preprocess_request()</pre>\n<pre class=\"line before\"><span class=\"ws\">            </span>if rv is None:</pre>\n<pre class=\"line current\"><span class=\"ws\">                </span>rv = self.dispatch_request()</pre>\n<pre class=\"line after\"><span class=\"ws\">        </span>except Exception as e:</pre>\n<pre class=\"line after\"><span class=\"ws\">            </span>rv = self.handle_user_exception(e)</pre>\n<pre class=\"line after\"><span class=\"ws\">        </span>return self.finalize_request(rv)</pre>\n<pre class=\"line after\"><span class=\"ws\"></span> </pre>\n<pre class=\"line after\"><span class=\"ws\">    </span>def finalize_request(self, rv, from_error_handler=False):</pre></div>\n</div>\n\n<li><div class=\"frame\" id=\"frame-2384006713888\">\n  <h4>File <cite class=\"filename\">\"C:\\Users\\LENOVO\\anaconda3\\envs\\venv\\Lib\\site-packages\\flask\\app.py\"</cite>,\n      line <em class=\"line\">1936</em>,\n      in <code class=\"function\">dispatch_request</code></h4>\n  <div class=\"source library\"><pre class=\"line before\"><span class=\"ws\">            </span>getattr(rule, &quot;provide_automatic_options&quot;, False)</pre>\n<pre class=\"line before\"><span class=\"ws\">            </span>and req.method == &quot;OPTIONS&quot;</pre>\n<pre class=\"line before\"><span class=\"ws\">        </span>):</pre>\n<pre class=\"line before\"><span class=\"ws\">            </span>return self.make_default_options_response()</pre>\n<pre class=\"line before\"><span class=\"ws\">        </span># otherwise dispatch to the handler for that endpoint</pre>\n<pre class=\"line current\"><span class=\"ws\">        </span>return self.view_functions[rule.endpoint](**req.view_args)</pre>\n<pre class=\"line after\"><span class=\"ws\"></span> </pre>\n<pre class=\"line after\"><span class=\"ws\">    </span>def full_dispatch_request(self):</pre>\n<pre class=\"line after\"><span class=\"ws\">        </span>&quot;&quot;&quot;Dispatches the request and on top of that performs request</pre>\n<pre class=\"line after\"><span class=\"ws\">        </span>pre and postprocessing as well as HTTP exception catching and</pre>\n<pre class=\"line after\"><span class=\"ws\">        </span>error handling.</pre></div>\n</div>\n\n<li><div class=\"frame\" id=\"frame-2384006713840\">\n  <h4>File <cite class=\"filename\">\"E:\\exploring\\4. Deployment\\test\\backend\\backend.py\"</cite>,\n      line <em class=\"line\">30</em>,\n      in <code class=\"function\">body_inference</code></h4>\n  <div class=\"source \"><pre class=\"line before\"><span class=\"ws\"></span> </pre>\n<pre class=\"line before\"><span class=\"ws\">        </span>new_data = data</pre>\n<pre class=\"line before\"><span class=\"ws\"></span> </pre>\n<pre class=\"line before\"><span class=\"ws\">        </span>new_data = pd.DataFrame([new_data], columns=[&#x27;Close&#x27;])</pre>\n<pre class=\"line before\"><span class=\"ws\"></span> </pre>\n<pre class=\"line current\"><span class=\"ws\">        </span>data_inf = pickled_model.transform(new_data)</pre>\n<pre class=\"line after\"><span class=\"ws\">        </span>X_next = data_inf.reshape(1, 60, 1)</pre>\n<pre class=\"line after\"><span class=\"ws\">        </span>next_day = saved_model.predict(X_next)</pre>\n<pre class=\"line after\"><span class=\"ws\">        </span>next_day = pickled_model.inverse_transform(next_day)</pre>\n<pre class=\"line after\"><span class=\"ws\"></span> </pre>\n<pre class=\"line after\"><span class=\"ws\">        </span>res = next_day[0]</pre></div>\n</div>\n\n<li><div class=\"frame\" id=\"frame-2384006715376\">\n  <h4>File <cite class=\"filename\">\"C:\\Users\\LENOVO\\anaconda3\\envs\\venv\\Lib\\site-packages\\sklearn\\utils\\metaestimators.py\"</cite>,\n      line <em class=\"line\">113</em>,\n      in <code class=\"function\">&lt;lambda&gt;</code></h4>\n  <div class=\"source library\"><pre class=\"line before\"><span class=\"ws\">            </span># this is to allow access to the docstrings.</pre>\n<pre class=\"line before\"><span class=\"ws\">            </span>if not self.check(obj):</pre>\n<pre class=\"line before\"><span class=\"ws\">                </span>raise attr_err</pre>\n<pre class=\"line before\"><span class=\"ws\"></span> </pre>\n<pre class=\"line before\"><span class=\"ws\">            </span># lambda, but not partial, allows help() to work with update_wrapper</pre>\n<pre class=\"line current\"><span class=\"ws\">            </span>out = lambda *args, **kwargs: self.fn(obj, *args, **kwargs)  # noqa</pre>\n<pre class=\"line after\"><span class=\"ws\">        </span>else:</pre>\n<pre class=\"line after\"><span class=\"ws\"></span> </pre>\n<pre class=\"line after\"><span class=\"ws\">            </span>def fn(*args, **kwargs):</pre>\n<pre class=\"line after\"><span class=\"ws\">                </span>if not self.check(args[0]):</pre>\n<pre class=\"line after\"><span class=\"ws\">                    </span>raise attr_err</pre></div>\n</div>\n\n<li><div class=\"frame\" id=\"frame-2384006714992\">\n  <h4>File <cite class=\"filename\">\"C:\\Users\\LENOVO\\anaconda3\\envs\\venv\\Lib\\site-packages\\sklearn\\pipeline.py\"</cite>,\n      line <em class=\"line\">647</em>,\n      in <code class=\"function\">transform</code></h4>\n  <div class=\"source library\"><pre class=\"line before\"><span class=\"ws\">        </span>Xt : ndarray of shape (n_samples, n_transformed_features)</pre>\n<pre class=\"line before\"><span class=\"ws\">            </span>Transformed data.</pre>\n<pre class=\"line before\"><span class=\"ws\">        </span>&quot;&quot;&quot;</pre>\n<pre class=\"line before\"><span class=\"ws\">        </span>Xt = X</pre>\n<pre class=\"line before\"><span class=\"ws\">        </span>for _, _, transform in self._iter():</pre>\n<pre class=\"line current\"><span class=\"ws\">            </span>Xt = transform.transform(Xt)</pre>\n<pre class=\"line after\"><span class=\"ws\">        </span>return Xt</pre>\n<pre class=\"line after\"><span class=\"ws\"></span> </pre>\n<pre class=\"line after\"><span class=\"ws\">    </span>def _can_inverse_transform(self):</pre>\n<pre class=\"line after\"><span class=\"ws\">        </span>return all(hasattr(t, &quot;inverse_transform&quot;) for _, _, t in self._iter())</pre>\n<pre class=\"line after\"><span class=\"ws\"></span> </pre></div>\n</div>\n\n<li><div class=\"frame\" id=\"frame-2384006714704\">\n  <h4>File <cite class=\"filename\">\"C:\\Users\\LENOVO\\anaconda3\\envs\\venv\\Lib\\site-packages\\sklearn\\preprocessing\\_data.py\"</cite>,\n      line <em class=\"line\">496</em>,\n      in <code class=\"function\">transform</code></h4>\n  <div class=\"source library\"><pre class=\"line before\"><span class=\"ws\">        </span>Xt : ndarray of shape (n_samples, n_features)</pre>\n<pre class=\"line before\"><span class=\"ws\">            </span>Transformed data.</pre>\n<pre class=\"line before\"><span class=\"ws\">        </span>&quot;&quot;&quot;</pre>\n<pre class=\"line before\"><span class=\"ws\">        </span>check_is_fitted(self)</pre>\n<pre class=\"line before\"><span class=\"ws\"></span> </pre>\n<pre class=\"line current\"><span class=\"ws\">        </span>X = self._validate_data(</pre>\n<pre class=\"line after\"><span class=\"ws\">            </span>X,</pre>\n<pre class=\"line after\"><span class=\"ws\">            </span>copy=self.copy,</pre>\n<pre class=\"line after\"><span class=\"ws\">            </span>dtype=FLOAT_DTYPES,</pre>\n<pre class=\"line after\"><span class=\"ws\">            </span>force_all_finite=&quot;allow-nan&quot;,</pre>\n<pre class=\"line after\"><span class=\"ws\">            </span>reset=False,</pre></div>\n</div>\n\n<li><div class=\"frame\" id=\"frame-2384006714896\">\n  <h4>File <cite class=\"filename\">\"C:\\Users\\LENOVO\\anaconda3\\envs\\venv\\Lib\\site-packages\\sklearn\\base.py\"</cite>,\n      line <em class=\"line\">566</em>,\n      in <code class=\"function\">_validate_data</code></h4>\n  <div class=\"source library\"><pre class=\"line before\"><span class=\"ws\">        </span>no_val_y = y is None or isinstance(y, str) and y == &quot;no_validation&quot;</pre>\n<pre class=\"line before\"><span class=\"ws\"></span> </pre>\n<pre class=\"line before\"><span class=\"ws\">        </span>if no_val_X and no_val_y:</pre>\n<pre class=\"line before\"><span class=\"ws\">            </span>raise ValueError(&quot;Validation should be done on X, y or both.&quot;)</pre>\n<pre class=\"line before\"><span class=\"ws\">        </span>elif not no_val_X and no_val_y:</pre>\n<pre class=\"line current\"><span class=\"ws\">            </span>X = check_array(X, **check_params)</pre>\n<pre class=\"line after\"><span class=\"ws\">            </span>out = X</pre>\n<pre class=\"line after\"><span class=\"ws\">        </span>elif no_val_X and not no_val_y:</pre>\n<pre class=\"line after\"><span class=\"ws\">            </span>y = _check_y(y, **check_params)</pre>\n<pre class=\"line after\"><span class=\"ws\">            </span>out = y</pre>\n<pre class=\"line after\"><span class=\"ws\">        </span>else:</pre></div>\n</div>\n\n<li><div class=\"frame\" id=\"frame-2384006713408\">\n  <h4>File <cite class=\"filename\">\"C:\\Users\\LENOVO\\anaconda3\\envs\\venv\\Lib\\site-packages\\sklearn\\utils\\validation.py\"</cite>,\n      line <em class=\"line\">746</em>,\n      in <code class=\"function\">check_array</code></h4>\n  <div class=\"source library\"><pre class=\"line before\"><span class=\"ws\">                    </span>array = np.asarray(array, order=order)</pre>\n<pre class=\"line before\"><span class=\"ws\">                    </span>if array.dtype.kind == &quot;f&quot;:</pre>\n<pre class=\"line before\"><span class=\"ws\">                        </span>_assert_all_finite(array, allow_nan=False, msg_dtype=dtype)</pre>\n<pre class=\"line before\"><span class=\"ws\">                    </span>array = array.astype(dtype, casting=&quot;unsafe&quot;, copy=False)</pre>\n<pre class=\"line before\"><span class=\"ws\">                </span>else:</pre>\n<pre class=\"line current\"><span class=\"ws\">                    </span>array = np.asarray(array, order=order, dtype=dtype)</pre>\n<pre class=\"line after\"><span class=\"ws\">            </span>except ComplexWarning as complex_warning:</pre>\n<pre class=\"line after\"><span class=\"ws\">                </span>raise ValueError(</pre>\n<pre class=\"line after\"><span class=\"ws\">                    </span>&quot;Complex data not supported\\n{}\\n&quot;.format(array)</pre>\n<pre class=\"line after\"><span class=\"ws\">                </span>) from complex_warning</pre>\n<pre class=\"line after\"><span class=\"ws\"></span> </pre></div>\n</div>\n\n<li><div class=\"frame\" id=\"frame-2384006713648\">\n  <h4>File <cite class=\"filename\">\"C:\\Users\\LENOVO\\anaconda3\\envs\\venv\\Lib\\site-packages\\pandas\\core\\generic.py\"</cite>,\n      line <em class=\"line\">2064</em>,\n      in <code class=\"function\">__array__</code></h4>\n  <div class=\"source library\"><pre class=\"line before\"><span class=\"ws\">    </span># This is also set in IndexOpsMixin</pre>\n<pre class=\"line before\"><span class=\"ws\">    </span># GH#23114 Ensure ndarray.__op__(DataFrame) returns NotImplemented</pre>\n<pre class=\"line before\"><span class=\"ws\">    </span>__array_priority__ = 1000</pre>\n<pre class=\"line before\"><span class=\"ws\"></span> </pre>\n<pre class=\"line before\"><span class=\"ws\">    </span>def __array__(self, dtype: npt.DTypeLike | None = None) -&gt; np.ndarray:</pre>\n<pre class=\"line current\"><span class=\"ws\">        </span>return np.asarray(self._values, dtype=dtype)</pre>\n<pre class=\"line after\"><span class=\"ws\"></span> </pre>\n<pre class=\"line after\"><span class=\"ws\">    </span>def __array_wrap__(</pre>\n<pre class=\"line after\"><span class=\"ws\">        </span>self,</pre>\n<pre class=\"line after\"><span class=\"ws\">        </span>result: np.ndarray,</pre>\n<pre class=\"line after\"><span class=\"ws\">        </span>context: tuple[Callable, tuple[Any, ...], int] | None = None,</pre></div>\n</div>\n</ul>\n  <blockquote>ValueError: setting an array element with a sequence.</blockquote>\n</div>\n\n<div class=\"plain\">\n    <p>\n      This is the Copy/Paste friendly version of the traceback.\n    </p>\n    <textarea cols=\"50\" rows=\"10\" name=\"code\" readonly>Traceback (most recent call last):\nTypeError: float() argument must be a string or a number, not &#x27;list&#x27;\n\nThe above exception was the direct cause of the following exception:\n\nTraceback (most recent call last):\n  File &quot;C:\\Users\\LENOVO\\anaconda3\\envs\\venv\\Lib\\site-packages\\flask\\app.py&quot;, line 2464, in __call__\n    return self.wsgi_app(environ, start_response)\n  File &quot;C:\\Users\\LENOVO\\anaconda3\\envs\\venv\\Lib\\site-packages\\flask\\app.py&quot;, line 2450, in wsgi_app\n    response = self.handle_exception(e)\n  File &quot;C:\\Users\\LENOVO\\anaconda3\\envs\\venv\\Lib\\site-packages\\flask\\app.py&quot;, line 1867, in handle_exception\n    reraise(exc_type, exc_value, tb)\n  File &quot;C:\\Users\\LENOVO\\anaconda3\\envs\\venv\\Lib\\site-packages\\flask\\_compat.py&quot;, line 39, in reraise\n    raise value\n  File &quot;C:\\Users\\LENOVO\\anaconda3\\envs\\venv\\Lib\\site-packages\\flask\\app.py&quot;, line 2447, in wsgi_app\n    response = self.full_dispatch_request()\n  File &quot;C:\\Users\\LENOVO\\anaconda3\\envs\\venv\\Lib\\site-packages\\flask\\app.py&quot;, line 1952, in full_dispatch_request\n    rv = self.handle_user_exception(e)\n  File &quot;C:\\Users\\LENOVO\\anaconda3\\envs\\venv\\Lib\\site-packages\\flask\\app.py&quot;, line 1821, in handle_user_exception\n    reraise(exc_type, exc_value, tb)\n  File &quot;C:\\Users\\LENOVO\\anaconda3\\envs\\venv\\Lib\\site-packages\\flask\\_compat.py&quot;, line 39, in reraise\n    raise value\n  File &quot;C:\\Users\\LENOVO\\anaconda3\\envs\\venv\\Lib\\site-packages\\flask\\app.py&quot;, line 1950, in full_dispatch_request\n    rv = self.dispatch_request()\n  File &quot;C:\\Users\\LENOVO\\anaconda3\\envs\\venv\\Lib\\site-packages\\flask\\app.py&quot;, line 1936, in dispatch_request\n    return self.view_functions[rule.endpoint](**req.view_args)\n  File &quot;E:\\exploring\\4. Deployment\\test\\backend\\backend.py&quot;, line 30, in body_inference\n    data_inf = pickled_model.transform(new_data)\n  File &quot;C:\\Users\\LENOVO\\anaconda3\\envs\\venv\\Lib\\site-packages\\sklearn\\utils\\metaestimators.py&quot;, line 113, in &lt;lambda&gt;\n    out = lambda *args, **kwargs: self.fn(obj, *args, **kwargs)  # noqa\n  File &quot;C:\\Users\\LENOVO\\anaconda3\\envs\\venv\\Lib\\site-packages\\sklearn\\pipeline.py&quot;, line 647, in transform\n    Xt = transform.transform(Xt)\n  File &quot;C:\\Users\\LENOVO\\anaconda3\\envs\\venv\\Lib\\site-packages\\sklearn\\preprocessing\\_data.py&quot;, line 496, in transform\n    X = self._validate_data(\n  File &quot;C:\\Users\\LENOVO\\anaconda3\\envs\\venv\\Lib\\site-packages\\sklearn\\base.py&quot;, line 566, in _validate_data\n    X = check_array(X, **check_params)\n  File &quot;C:\\Users\\LENOVO\\anaconda3\\envs\\venv\\Lib\\site-packages\\sklearn\\utils\\validation.py&quot;, line 746, in check_array\n    array = np.asarray(array, order=order, dtype=dtype)\n  File &quot;C:\\Users\\LENOVO\\anaconda3\\envs\\venv\\Lib\\site-packages\\pandas\\core\\generic.py&quot;, line 2064, in __array__\n    return np.asarray(self._values, dtype=dtype)\nValueError: setting an array element with a sequence.</textarea>\n</div>\n<div class=\"explanation\">\n  The debugger caught an exception in your WSGI application.  You can now\n  look at the traceback which led to the error.  <span class=\"nojavascript\">\n  If you enable JavaScript you can also use additional features such as code\n  execution (if the evalex feature is enabled), automatic pasting of the\n  exceptions and much more.</span>\n</div>\n      <div class=\"footer\">\n        Brought to you by <strong class=\"arthur\">DON'T PANIC</strong>, your\n        friendly Werkzeug powered traceback interpreter.\n      </div>\n    </div>\n\n    <div class=\"pin-prompt\">\n      <div class=\"inner\">\n        <h3>Console Locked</h3>\n        <p>\n          The console is locked and needs to be unlocked by entering the PIN.\n          You can find the PIN printed out on the standard output of your\n          shell that runs the server.\n        <form>\n          <p>PIN:\n            <input type=text name=pin size=14>\n            <input type=submit name=btn value=\"Confirm Pin\">\n        </form>\n      </div>\n    </div>\n  </body>\n</html>\n\n<!--\n\nTraceback (most recent call last):\nTypeError: float() argument must be a string or a number, not 'list'\n\nThe above exception was the direct cause of the following exception:\n\nTraceback (most recent call last):\n  File \"C:\\Users\\LENOVO\\anaconda3\\envs\\venv\\Lib\\site-packages\\flask\\app.py\", line 2464, in __call__\n    return self.wsgi_app(environ, start_response)\n  File \"C:\\Users\\LENOVO\\anaconda3\\envs\\venv\\Lib\\site-packages\\flask\\app.py\", line 2450, in wsgi_app\n    response = self.handle_exception(e)\n  File \"C:\\Users\\LENOVO\\anaconda3\\envs\\venv\\Lib\\site-packages\\flask\\app.py\", line 1867, in handle_exception\n    reraise(exc_type, exc_value, tb)\n  File \"C:\\Users\\LENOVO\\anaconda3\\envs\\venv\\Lib\\site-packages\\flask\\_compat.py\", line 39, in reraise\n    raise value\n  File \"C:\\Users\\LENOVO\\anaconda3\\envs\\venv\\Lib\\site-packages\\flask\\app.py\", line 2447, in wsgi_app\n    response = self.full_dispatch_request()\n  File \"C:\\Users\\LENOVO\\anaconda3\\envs\\venv\\Lib\\site-packages\\flask\\app.py\", line 1952, in full_dispatch_request\n    rv = self.handle_user_exception(e)\n  File \"C:\\Users\\LENOVO\\anaconda3\\envs\\venv\\Lib\\site-packages\\flask\\app.py\", line 1821, in handle_user_exception\n    reraise(exc_type, exc_value, tb)\n  File \"C:\\Users\\LENOVO\\anaconda3\\envs\\venv\\Lib\\site-packages\\flask\\_compat.py\", line 39, in reraise\n    raise value\n  File \"C:\\Users\\LENOVO\\anaconda3\\envs\\venv\\Lib\\site-packages\\flask\\app.py\", line 1950, in full_dispatch_request\n    rv = self.dispatch_request()\n  File \"C:\\Users\\LENOVO\\anaconda3\\envs\\venv\\Lib\\site-packages\\flask\\app.py\", line 1936, in dispatch_request\n    return self.view_functions[rule.endpoint](**req.view_args)\n  File \"E:\\exploring\\4. Deployment\\test\\backend\\backend.py\", line 30, in body_inference\n    data_inf = pickled_model.transform(new_data)\n  File \"C:\\Users\\LENOVO\\anaconda3\\envs\\venv\\Lib\\site-packages\\sklearn\\utils\\metaestimators.py\", line 113, in <lambda>\n    out = lambda *args, **kwargs: self.fn(obj, *args, **kwargs)  # noqa\n  File \"C:\\Users\\LENOVO\\anaconda3\\envs\\venv\\Lib\\site-packages\\sklearn\\pipeline.py\", line 647, in transform\n    Xt = transform.transform(Xt)\n  File \"C:\\Users\\LENOVO\\anaconda3\\envs\\venv\\Lib\\site-packages\\sklearn\\preprocessing\\_data.py\", line 496, in transform\n    X = self._validate_data(\n  File \"C:\\Users\\LENOVO\\anaconda3\\envs\\venv\\Lib\\site-packages\\sklearn\\base.py\", line 566, in _validate_data\n    X = check_array(X, **check_params)\n  File \"C:\\Users\\LENOVO\\anaconda3\\envs\\venv\\Lib\\site-packages\\sklearn\\utils\\validation.py\", line 746, in check_array\n    array = np.asarray(array, order=order, dtype=dtype)\n  File \"C:\\Users\\LENOVO\\anaconda3\\envs\\venv\\Lib\\site-packages\\pandas\\core\\generic.py\", line 2064, in __array__\n    return np.asarray(self._values, dtype=dtype)\nValueError: setting an array element with a sequence.\n\n-->\n: 0"
     ]
    }
   ],
   "source": [
    "import requests\n",
    "\n",
    "# Post\n",
    "\n",
    "URL = \"http://127.0.0.1:5000/forecast\"\n",
    "data = {'Close' : data_inf.tolist()}\n",
    "\n",
    "r = requests.post(URL, json=data)\n",
    "r.json()"
   ]
  },
  {
   "cell_type": "code",
   "execution_count": 55,
   "metadata": {},
   "outputs": [
    {
     "data": {
      "text/plain": [
       "dict_values([[[1.03603663734021], [1.0477199112990347], [1.0433101061204741], [1.0418270770695757], [1.041861131696859], [1.049046581180872], [1.0483056047646575], [1.0567393908004816], [1.0493158664164772], [1.0567264761788484], [1.050757461056302], [1.0572911833843168], [1.0601646866977414], [1.0613167785692847], [1.0672139945453694], [1.0722646878224857], [1.065324462404011], [1.068969306869038], [1.0821100881264858], [1.081001583102955], [1.0827312968016003], [1.0902875804210859], [1.0859983117111034], [1.0922574445839135], [1.0802833610200946], [1.0847120000218704], [1.092399736040124], [1.084435565620718], [1.0829199425247449], [1.0854662754234574], [1.079894846152624], [1.0849563784871827], [1.0347088143671552], [1.0205463942912107], [1.0199810721037597], [0.985917835072777], [0.9856271023405306], [0.9929436967323205], [1.0163932672176135], [1.0211038754583845], [1.0360301800293932], [1.023849539392188], [1.035399977242784], [1.0305765966809644], [1.0530508057419465], [1.0548312554541515], [1.0723703878507351], [1.0723314902403394], [1.0777217304445663], [1.0641226338646297], [1.0711226662809064], [1.0793516633165443], [1.0777011285481513], [1.0625586578102793], [1.048199597245417], [1.0567703705178522], [1.0500270930792863], [1.0568403247183662], [1.0389935475850165], [1.045198100806876]]])"
      ]
     },
     "execution_count": 55,
     "metadata": {},
     "output_type": "execute_result"
    }
   ],
   "source": [
    "data.values()"
   ]
  },
  {
   "cell_type": "code",
   "execution_count": 51,
   "metadata": {},
   "outputs": [
    {
     "data": {
      "text/html": [
       "<div>\n",
       "<style scoped>\n",
       "    .dataframe tbody tr th:only-of-type {\n",
       "        vertical-align: middle;\n",
       "    }\n",
       "\n",
       "    .dataframe tbody tr th {\n",
       "        vertical-align: top;\n",
       "    }\n",
       "\n",
       "    .dataframe thead th {\n",
       "        text-align: right;\n",
       "    }\n",
       "</style>\n",
       "<table border=\"1\" class=\"dataframe\">\n",
       "  <thead>\n",
       "    <tr style=\"text-align: right;\">\n",
       "      <th></th>\n",
       "      <th>Close</th>\n",
       "    </tr>\n",
       "  </thead>\n",
       "  <tbody>\n",
       "    <tr>\n",
       "      <th>0</th>\n",
       "      <td>[1.03603663734021]</td>\n",
       "    </tr>\n",
       "    <tr>\n",
       "      <th>1</th>\n",
       "      <td>[1.0477199112990347]</td>\n",
       "    </tr>\n",
       "    <tr>\n",
       "      <th>2</th>\n",
       "      <td>[1.0433101061204741]</td>\n",
       "    </tr>\n",
       "    <tr>\n",
       "      <th>3</th>\n",
       "      <td>[1.0418270770695757]</td>\n",
       "    </tr>\n",
       "    <tr>\n",
       "      <th>4</th>\n",
       "      <td>[1.041861131696859]</td>\n",
       "    </tr>\n",
       "    <tr>\n",
       "      <th>5</th>\n",
       "      <td>[1.049046581180872]</td>\n",
       "    </tr>\n",
       "    <tr>\n",
       "      <th>6</th>\n",
       "      <td>[1.0483056047646575]</td>\n",
       "    </tr>\n",
       "    <tr>\n",
       "      <th>7</th>\n",
       "      <td>[1.0567393908004816]</td>\n",
       "    </tr>\n",
       "    <tr>\n",
       "      <th>8</th>\n",
       "      <td>[1.0493158664164772]</td>\n",
       "    </tr>\n",
       "    <tr>\n",
       "      <th>9</th>\n",
       "      <td>[1.0567264761788484]</td>\n",
       "    </tr>\n",
       "    <tr>\n",
       "      <th>10</th>\n",
       "      <td>[1.050757461056302]</td>\n",
       "    </tr>\n",
       "    <tr>\n",
       "      <th>11</th>\n",
       "      <td>[1.0572911833843168]</td>\n",
       "    </tr>\n",
       "    <tr>\n",
       "      <th>12</th>\n",
       "      <td>[1.0601646866977414]</td>\n",
       "    </tr>\n",
       "    <tr>\n",
       "      <th>13</th>\n",
       "      <td>[1.0613167785692847]</td>\n",
       "    </tr>\n",
       "    <tr>\n",
       "      <th>14</th>\n",
       "      <td>[1.0672139945453694]</td>\n",
       "    </tr>\n",
       "    <tr>\n",
       "      <th>15</th>\n",
       "      <td>[1.0722646878224857]</td>\n",
       "    </tr>\n",
       "    <tr>\n",
       "      <th>16</th>\n",
       "      <td>[1.065324462404011]</td>\n",
       "    </tr>\n",
       "    <tr>\n",
       "      <th>17</th>\n",
       "      <td>[1.068969306869038]</td>\n",
       "    </tr>\n",
       "    <tr>\n",
       "      <th>18</th>\n",
       "      <td>[1.0821100881264858]</td>\n",
       "    </tr>\n",
       "    <tr>\n",
       "      <th>19</th>\n",
       "      <td>[1.081001583102955]</td>\n",
       "    </tr>\n",
       "    <tr>\n",
       "      <th>20</th>\n",
       "      <td>[1.0827312968016003]</td>\n",
       "    </tr>\n",
       "    <tr>\n",
       "      <th>21</th>\n",
       "      <td>[1.0902875804210859]</td>\n",
       "    </tr>\n",
       "    <tr>\n",
       "      <th>22</th>\n",
       "      <td>[1.0859983117111034]</td>\n",
       "    </tr>\n",
       "    <tr>\n",
       "      <th>23</th>\n",
       "      <td>[1.0922574445839135]</td>\n",
       "    </tr>\n",
       "    <tr>\n",
       "      <th>24</th>\n",
       "      <td>[1.0802833610200946]</td>\n",
       "    </tr>\n",
       "    <tr>\n",
       "      <th>25</th>\n",
       "      <td>[1.0847120000218704]</td>\n",
       "    </tr>\n",
       "    <tr>\n",
       "      <th>26</th>\n",
       "      <td>[1.092399736040124]</td>\n",
       "    </tr>\n",
       "    <tr>\n",
       "      <th>27</th>\n",
       "      <td>[1.084435565620718]</td>\n",
       "    </tr>\n",
       "    <tr>\n",
       "      <th>28</th>\n",
       "      <td>[1.0829199425247449]</td>\n",
       "    </tr>\n",
       "    <tr>\n",
       "      <th>29</th>\n",
       "      <td>[1.0854662754234574]</td>\n",
       "    </tr>\n",
       "    <tr>\n",
       "      <th>30</th>\n",
       "      <td>[1.079894846152624]</td>\n",
       "    </tr>\n",
       "    <tr>\n",
       "      <th>31</th>\n",
       "      <td>[1.0849563784871827]</td>\n",
       "    </tr>\n",
       "    <tr>\n",
       "      <th>32</th>\n",
       "      <td>[1.0347088143671552]</td>\n",
       "    </tr>\n",
       "    <tr>\n",
       "      <th>33</th>\n",
       "      <td>[1.0205463942912107]</td>\n",
       "    </tr>\n",
       "    <tr>\n",
       "      <th>34</th>\n",
       "      <td>[1.0199810721037597]</td>\n",
       "    </tr>\n",
       "    <tr>\n",
       "      <th>35</th>\n",
       "      <td>[0.985917835072777]</td>\n",
       "    </tr>\n",
       "    <tr>\n",
       "      <th>36</th>\n",
       "      <td>[0.9856271023405306]</td>\n",
       "    </tr>\n",
       "    <tr>\n",
       "      <th>37</th>\n",
       "      <td>[0.9929436967323205]</td>\n",
       "    </tr>\n",
       "    <tr>\n",
       "      <th>38</th>\n",
       "      <td>[1.0163932672176135]</td>\n",
       "    </tr>\n",
       "    <tr>\n",
       "      <th>39</th>\n",
       "      <td>[1.0211038754583845]</td>\n",
       "    </tr>\n",
       "    <tr>\n",
       "      <th>40</th>\n",
       "      <td>[1.0360301800293932]</td>\n",
       "    </tr>\n",
       "    <tr>\n",
       "      <th>41</th>\n",
       "      <td>[1.023849539392188]</td>\n",
       "    </tr>\n",
       "    <tr>\n",
       "      <th>42</th>\n",
       "      <td>[1.035399977242784]</td>\n",
       "    </tr>\n",
       "    <tr>\n",
       "      <th>43</th>\n",
       "      <td>[1.0305765966809644]</td>\n",
       "    </tr>\n",
       "    <tr>\n",
       "      <th>44</th>\n",
       "      <td>[1.0530508057419465]</td>\n",
       "    </tr>\n",
       "    <tr>\n",
       "      <th>45</th>\n",
       "      <td>[1.0548312554541515]</td>\n",
       "    </tr>\n",
       "    <tr>\n",
       "      <th>46</th>\n",
       "      <td>[1.0723703878507351]</td>\n",
       "    </tr>\n",
       "    <tr>\n",
       "      <th>47</th>\n",
       "      <td>[1.0723314902403394]</td>\n",
       "    </tr>\n",
       "    <tr>\n",
       "      <th>48</th>\n",
       "      <td>[1.0777217304445663]</td>\n",
       "    </tr>\n",
       "    <tr>\n",
       "      <th>49</th>\n",
       "      <td>[1.0641226338646297]</td>\n",
       "    </tr>\n",
       "    <tr>\n",
       "      <th>50</th>\n",
       "      <td>[1.0711226662809064]</td>\n",
       "    </tr>\n",
       "    <tr>\n",
       "      <th>51</th>\n",
       "      <td>[1.0793516633165443]</td>\n",
       "    </tr>\n",
       "    <tr>\n",
       "      <th>52</th>\n",
       "      <td>[1.0777011285481513]</td>\n",
       "    </tr>\n",
       "    <tr>\n",
       "      <th>53</th>\n",
       "      <td>[1.0625586578102793]</td>\n",
       "    </tr>\n",
       "    <tr>\n",
       "      <th>54</th>\n",
       "      <td>[1.048199597245417]</td>\n",
       "    </tr>\n",
       "    <tr>\n",
       "      <th>55</th>\n",
       "      <td>[1.0567703705178522]</td>\n",
       "    </tr>\n",
       "    <tr>\n",
       "      <th>56</th>\n",
       "      <td>[1.0500270930792863]</td>\n",
       "    </tr>\n",
       "    <tr>\n",
       "      <th>57</th>\n",
       "      <td>[1.0568403247183662]</td>\n",
       "    </tr>\n",
       "    <tr>\n",
       "      <th>58</th>\n",
       "      <td>[1.0389935475850165]</td>\n",
       "    </tr>\n",
       "    <tr>\n",
       "      <th>59</th>\n",
       "      <td>[1.045198100806876]</td>\n",
       "    </tr>\n",
       "  </tbody>\n",
       "</table>\n",
       "</div>"
      ],
      "text/plain": [
       "                   Close\n",
       "0     [1.03603663734021]\n",
       "1   [1.0477199112990347]\n",
       "2   [1.0433101061204741]\n",
       "3   [1.0418270770695757]\n",
       "4    [1.041861131696859]\n",
       "5    [1.049046581180872]\n",
       "6   [1.0483056047646575]\n",
       "7   [1.0567393908004816]\n",
       "8   [1.0493158664164772]\n",
       "9   [1.0567264761788484]\n",
       "10   [1.050757461056302]\n",
       "11  [1.0572911833843168]\n",
       "12  [1.0601646866977414]\n",
       "13  [1.0613167785692847]\n",
       "14  [1.0672139945453694]\n",
       "15  [1.0722646878224857]\n",
       "16   [1.065324462404011]\n",
       "17   [1.068969306869038]\n",
       "18  [1.0821100881264858]\n",
       "19   [1.081001583102955]\n",
       "20  [1.0827312968016003]\n",
       "21  [1.0902875804210859]\n",
       "22  [1.0859983117111034]\n",
       "23  [1.0922574445839135]\n",
       "24  [1.0802833610200946]\n",
       "25  [1.0847120000218704]\n",
       "26   [1.092399736040124]\n",
       "27   [1.084435565620718]\n",
       "28  [1.0829199425247449]\n",
       "29  [1.0854662754234574]\n",
       "30   [1.079894846152624]\n",
       "31  [1.0849563784871827]\n",
       "32  [1.0347088143671552]\n",
       "33  [1.0205463942912107]\n",
       "34  [1.0199810721037597]\n",
       "35   [0.985917835072777]\n",
       "36  [0.9856271023405306]\n",
       "37  [0.9929436967323205]\n",
       "38  [1.0163932672176135]\n",
       "39  [1.0211038754583845]\n",
       "40  [1.0360301800293932]\n",
       "41   [1.023849539392188]\n",
       "42   [1.035399977242784]\n",
       "43  [1.0305765966809644]\n",
       "44  [1.0530508057419465]\n",
       "45  [1.0548312554541515]\n",
       "46  [1.0723703878507351]\n",
       "47  [1.0723314902403394]\n",
       "48  [1.0777217304445663]\n",
       "49  [1.0641226338646297]\n",
       "50  [1.0711226662809064]\n",
       "51  [1.0793516633165443]\n",
       "52  [1.0777011285481513]\n",
       "53  [1.0625586578102793]\n",
       "54   [1.048199597245417]\n",
       "55  [1.0567703705178522]\n",
       "56  [1.0500270930792863]\n",
       "57  [1.0568403247183662]\n",
       "58  [1.0389935475850165]\n",
       "59   [1.045198100806876]"
      ]
     },
     "execution_count": 51,
     "metadata": {},
     "output_type": "execute_result"
    }
   ],
   "source": [
    "new_data = pd.DataFrame(data)\n",
    "new_data"
   ]
  },
  {
   "cell_type": "code",
   "execution_count": 40,
   "metadata": {},
   "outputs": [
    {
     "name": "stdout",
     "output_type": "stream",
     "text": [
      "1/1 [==============================] - 0s 59ms/step\n"
     ]
    },
    {
     "name": "stderr",
     "output_type": "stream",
     "text": [
      "c:\\Users\\LENOVO\\anaconda3\\envs\\venv\\lib\\site-packages\\sklearn\\base.py:443: UserWarning: X has feature names, but MinMaxScaler was fitted without feature names\n",
      "  warnings.warn(\n"
     ]
    }
   ],
   "source": [
    "data_inf = pickled_model.transform(new_data)\n",
    "X_next = data_inf.reshape(1, 60, 1)\n",
    "next_day = saved_model.predict(X_next)\n",
    "next_day = pickled_model.inverse_transform(next_day)\n",
    "\n",
    "res = next_day[0]"
   ]
  },
  {
   "cell_type": "code",
   "execution_count": 43,
   "metadata": {},
   "outputs": [
    {
     "data": {
      "text/plain": [
       "7048.462"
      ]
     },
     "execution_count": 43,
     "metadata": {},
     "output_type": "execute_result"
    }
   ],
   "source": [
    "res[0]"
   ]
  },
  {
   "cell_type": "code",
   "execution_count": 42,
   "metadata": {},
   "outputs": [
    {
     "data": {
      "text/plain": [
       "array([[1.04139244],\n",
       "       [1.03603664],\n",
       "       [1.04771991],\n",
       "       [1.04331011],\n",
       "       [1.04182708],\n",
       "       [1.04186113],\n",
       "       [1.04904658],\n",
       "       [1.0483056 ],\n",
       "       [1.05673939],\n",
       "       [1.04931587],\n",
       "       [1.05672648],\n",
       "       [1.05075746],\n",
       "       [1.05729118],\n",
       "       [1.06016469],\n",
       "       [1.06131678],\n",
       "       [1.06721399],\n",
       "       [1.07226469],\n",
       "       [1.06532446],\n",
       "       [1.06896931],\n",
       "       [1.08211009],\n",
       "       [1.08100158],\n",
       "       [1.0827313 ],\n",
       "       [1.09028758],\n",
       "       [1.08599831],\n",
       "       [1.09225744],\n",
       "       [1.08028336],\n",
       "       [1.084712  ],\n",
       "       [1.09239974],\n",
       "       [1.08443557],\n",
       "       [1.08291994],\n",
       "       [1.08546628],\n",
       "       [1.07989485],\n",
       "       [1.08495638],\n",
       "       [1.03470881],\n",
       "       [1.02054639],\n",
       "       [1.01998107],\n",
       "       [0.98591784],\n",
       "       [0.9856271 ],\n",
       "       [0.9929437 ],\n",
       "       [1.01639327],\n",
       "       [1.02110388],\n",
       "       [1.03603018],\n",
       "       [1.02384954],\n",
       "       [1.03539998],\n",
       "       [1.0305766 ],\n",
       "       [1.05305081],\n",
       "       [1.05483126],\n",
       "       [1.07237039],\n",
       "       [1.07233149],\n",
       "       [1.07772173],\n",
       "       [1.06412263],\n",
       "       [1.07112267],\n",
       "       [1.07935166],\n",
       "       [1.07770113],\n",
       "       [1.06255866],\n",
       "       [1.0481996 ],\n",
       "       [1.05677037],\n",
       "       [1.05002709],\n",
       "       [1.05684032],\n",
       "       [1.03899355]])"
      ]
     },
     "execution_count": 42,
     "metadata": {},
     "output_type": "execute_result"
    }
   ],
   "source": [
    "data_inf"
   ]
  }
 ],
 "metadata": {
  "interpreter": {
   "hash": "2695a981a5cf4824d1a892024b0ea3cc627cc218bb0abeb84f3064fec52eefd3"
  },
  "kernelspec": {
   "display_name": "Python 3.9.12 ('venv')",
   "language": "python",
   "name": "python3"
  },
  "language_info": {
   "codemirror_mode": {
    "name": "ipython",
    "version": 3
   },
   "file_extension": ".py",
   "mimetype": "text/x-python",
   "name": "python",
   "nbconvert_exporter": "python",
   "pygments_lexer": "ipython3",
   "version": "3.9.12"
  },
  "orig_nbformat": 4
 },
 "nbformat": 4,
 "nbformat_minor": 2
}
