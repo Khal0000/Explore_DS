{
 "cells": [
  {
   "cell_type": "code",
   "execution_count": 3,
   "metadata": {},
   "outputs": [],
   "source": [
    "import pickle\n",
    "import tensorflow as tf\n",
    "import pandas as pd\n",
    "import yfinance as yf\n",
    "\n",
    "def forecast(data):\n",
    "    pickled_model = pickle.load(open('prep_pipeline.pkl', 'rb'))\n",
    "    saved_model = tf.keras.models.load_model('model_best.hdf5')\n",
    "\n",
    "    data_inference = pd.DataFrame(data.history(period=\"60d\"), columns=['Close'])\n",
    "\n",
    "    data_inf = pickled_model.transform(data_inference)\n",
    "    X_next = data_inf.reshape(1, 60, 1)\n",
    "    next_day = saved_model.predict(X_next)\n",
    "    next_day = pickled_model.inverse_transform(next_day)\n",
    "    return next_day\n"
   ]
  },
  {
   "cell_type": "code",
   "execution_count": 20,
   "metadata": {},
   "outputs": [
    {
     "name": "stderr",
     "output_type": "stream",
     "text": [
      "c:\\Users\\LENOVO\\anaconda3\\envs\\venv\\lib\\site-packages\\sklearn\\base.py:443: UserWarning: X has feature names, but MinMaxScaler was fitted without feature names\n",
      "  warnings.warn(\n"
     ]
    },
    {
     "name": "stdout",
     "output_type": "stream",
     "text": [
      "1/1 [==============================] - 3s 3s/step\n"
     ]
    },
    {
     "data": {
      "text/plain": [
       "7048.462"
      ]
     },
     "execution_count": 20,
     "metadata": {},
     "output_type": "execute_result"
    }
   ],
   "source": [
    "data0 = yf.Ticker('^JKSE')\n",
    "next_day = forecast(data0)[0][0]\n",
    "next_day"
   ]
  },
  {
   "cell_type": "code",
   "execution_count": 10,
   "metadata": {},
   "outputs": [],
   "source": [
    "pickled_model = pickle.load(open('prep_pipeline.pkl', 'rb'))\n",
    "saved_model = tf.keras.models.load_model('model_best.hdf5')"
   ]
  },
  {
   "cell_type": "code",
   "execution_count": 15,
   "metadata": {},
   "outputs": [
    {
     "data": {
      "text/html": [
       "<div>\n",
       "<style scoped>\n",
       "    .dataframe tbody tr th:only-of-type {\n",
       "        vertical-align: middle;\n",
       "    }\n",
       "\n",
       "    .dataframe tbody tr th {\n",
       "        vertical-align: top;\n",
       "    }\n",
       "\n",
       "    .dataframe thead th {\n",
       "        text-align: right;\n",
       "    }\n",
       "</style>\n",
       "<table border=\"1\" class=\"dataframe\">\n",
       "  <thead>\n",
       "    <tr style=\"text-align: right;\">\n",
       "      <th></th>\n",
       "      <th>Close</th>\n",
       "    </tr>\n",
       "    <tr>\n",
       "      <th>Date</th>\n",
       "      <th></th>\n",
       "    </tr>\n",
       "  </thead>\n",
       "  <tbody>\n",
       "    <tr>\n",
       "      <th>2022-06-13</th>\n",
       "      <td>6995.441895</td>\n",
       "    </tr>\n",
       "    <tr>\n",
       "      <th>2022-06-14</th>\n",
       "      <td>7049.881836</td>\n",
       "    </tr>\n",
       "    <tr>\n",
       "      <th>2022-06-15</th>\n",
       "      <td>7007.049805</td>\n",
       "    </tr>\n",
       "    <tr>\n",
       "      <th>2022-06-16</th>\n",
       "      <td>7050.326172</td>\n",
       "    </tr>\n",
       "    <tr>\n",
       "      <th>2022-06-17</th>\n",
       "      <td>6936.966797</td>\n",
       "    </tr>\n",
       "  </tbody>\n",
       "</table>\n",
       "</div>"
      ],
      "text/plain": [
       "                  Close\n",
       "Date                   \n",
       "2022-06-13  6995.441895\n",
       "2022-06-14  7049.881836\n",
       "2022-06-15  7007.049805\n",
       "2022-06-16  7050.326172\n",
       "2022-06-17  6936.966797"
      ]
     },
     "execution_count": 15,
     "metadata": {},
     "output_type": "execute_result"
    }
   ],
   "source": [
    "data_inference = pd.DataFrame(data0.history(period=\"60d\"), columns=['Close'])\n",
    "data_inference.tail()"
   ]
  },
  {
   "cell_type": "code",
   "execution_count": 17,
   "metadata": {},
   "outputs": [
    {
     "name": "stderr",
     "output_type": "stream",
     "text": [
      "c:\\Users\\LENOVO\\anaconda3\\envs\\venv\\lib\\site-packages\\sklearn\\base.py:443: UserWarning: X has feature names, but MinMaxScaler was fitted without feature names\n",
      "  warnings.warn(\n"
     ]
    },
    {
     "data": {
      "text/plain": [
       "array([[1.04139244],\n",
       "       [1.03603664],\n",
       "       [1.04771991],\n",
       "       [1.04331011],\n",
       "       [1.04182708],\n",
       "       [1.04186113],\n",
       "       [1.04904658],\n",
       "       [1.0483056 ],\n",
       "       [1.05673939],\n",
       "       [1.04931587],\n",
       "       [1.05672648],\n",
       "       [1.05075746],\n",
       "       [1.05729118],\n",
       "       [1.06016469],\n",
       "       [1.06131678],\n",
       "       [1.06721399],\n",
       "       [1.07226469],\n",
       "       [1.06532446],\n",
       "       [1.06896931],\n",
       "       [1.08211009],\n",
       "       [1.08100158],\n",
       "       [1.0827313 ],\n",
       "       [1.09028758],\n",
       "       [1.08599831],\n",
       "       [1.09225744],\n",
       "       [1.08028336],\n",
       "       [1.084712  ],\n",
       "       [1.09239974],\n",
       "       [1.08443557],\n",
       "       [1.08291994],\n",
       "       [1.08546628],\n",
       "       [1.07989485],\n",
       "       [1.08495638],\n",
       "       [1.03470881],\n",
       "       [1.02054639],\n",
       "       [1.01998107],\n",
       "       [0.98591784],\n",
       "       [0.9856271 ],\n",
       "       [0.9929437 ],\n",
       "       [1.01639327],\n",
       "       [1.02110388],\n",
       "       [1.03603018],\n",
       "       [1.02384954],\n",
       "       [1.03539998],\n",
       "       [1.0305766 ],\n",
       "       [1.05305081],\n",
       "       [1.05483126],\n",
       "       [1.07237039],\n",
       "       [1.07233149],\n",
       "       [1.07772173],\n",
       "       [1.06412263],\n",
       "       [1.07112267],\n",
       "       [1.07935166],\n",
       "       [1.07770113],\n",
       "       [1.06255866],\n",
       "       [1.0481996 ],\n",
       "       [1.05677037],\n",
       "       [1.05002709],\n",
       "       [1.05684032],\n",
       "       [1.03899355]])"
      ]
     },
     "execution_count": 17,
     "metadata": {},
     "output_type": "execute_result"
    }
   ],
   "source": [
    "data_inf = pickled_model.transform(data_inference)\n",
    "data_inf"
   ]
  }
 ],
 "metadata": {
  "interpreter": {
   "hash": "2695a981a5cf4824d1a892024b0ea3cc627cc218bb0abeb84f3064fec52eefd3"
  },
  "kernelspec": {
   "display_name": "Python 3.9.12 ('venv')",
   "language": "python",
   "name": "python3"
  },
  "language_info": {
   "codemirror_mode": {
    "name": "ipython",
    "version": 3
   },
   "file_extension": ".py",
   "mimetype": "text/x-python",
   "name": "python",
   "nbconvert_exporter": "python",
   "pygments_lexer": "ipython3",
   "version": "3.9.12"
  },
  "orig_nbformat": 4
 },
 "nbformat": 4,
 "nbformat_minor": 2
}
