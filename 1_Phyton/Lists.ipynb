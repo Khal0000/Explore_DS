{
 "cells": [
  {
   "cell_type": "markdown",
   "metadata": {},
   "source": [
    "### TASK LIST : https://www.hackerrank.com/challenges/python-lists/problem?isFullScreen=true\n",
    "```\n",
    "Consider a list (list = []). You can perform the following commands:\n",
    "\n",
    "insert i e: Insert integer  at position .\n",
    "print: Print the list.\n",
    "remove e: Delete the first occurrence of integer .\n",
    "append e: Insert integer  at the end of the list.\n",
    "sort: Sort the list.\n",
    "pop: Pop the last element from the list.\n",
    "reverse: Reverse the list.\n",
    "Initialize your list and read in the value of  followed by  lines of commands where each command will be of the  types listed above. Iterate through each command in order and perform the corresponding operation on your list.\n",
    "```"
   ]
  },
  {
   "cell_type": "code",
   "execution_count": 21,
   "metadata": {},
   "outputs": [
    {
     "name": "stdout",
     "output_type": "stream",
     "text": [
      "[1, 2, 3]\n"
     ]
    }
   ],
   "source": [
    "N = int(input())\n",
    "\n",
    "list_data = []\n",
    "\n",
    "for _ in range(N):\n",
    "    s = input().strip().split(\" \")\n",
    "\n",
    "    if s[0] == \"insert\" :\n",
    "        list_data.insert(int(s[1]), int(s[2]))\n",
    "    \n",
    "    elif s[0] == \"print\":\n",
    "        print(list_data)\n",
    "    \n",
    "    elif s[0] == \"remove\":\n",
    "        list_data.remove(int(s[1]))\n",
    "    \n",
    "    elif s[0] == \"append\":\n",
    "        list_data.append(int(s[1]))\n",
    "\n",
    "    elif s[0] == \"sort\":\n",
    "        list_data.sort()\n",
    "    \n",
    "    elif s[0] == \"pop\":\n",
    "        list_data.pop()\n",
    "    \n",
    "    elif s[0] == \"reverse\":\n",
    "        list_data.reverse()\n",
    "\n",
    "\n",
    "    \n"
   ]
  }
 ],
 "metadata": {
  "kernelspec": {
   "display_name": "Python 3.9.7 ('base')",
   "language": "python",
   "name": "python3"
  },
  "language_info": {
   "codemirror_mode": {
    "name": "ipython",
    "version": 3
   },
   "file_extension": ".py",
   "mimetype": "text/x-python",
   "name": "python",
   "nbconvert_exporter": "python",
   "pygments_lexer": "ipython3",
   "version": "3.9.7"
  },
  "orig_nbformat": 4,
  "vscode": {
   "interpreter": {
    "hash": "7679c2132d3f6ce38c9df14d554b39c06862b36a4e6689c81f9ae15bd0911d7d"
   }
  }
 },
 "nbformat": 4,
 "nbformat_minor": 2
}
