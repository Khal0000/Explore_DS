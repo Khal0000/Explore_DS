{
 "cells": [
  {
   "cell_type": "markdown",
   "metadata": {},
   "source": [
    "### TASK CAPITLIZE : https://www.hackerrank.com/challenges/capitalize/problem?isFullScreen=true\n",
    "\n",
    "```\n",
    "You are asked to ensure that the first and last names of people begin with a capital letter in their passports. For example, alison heck should be capitalised correctly as Alison Heck.\n",
    "\n",
    "        alison hack => Alison Hack\n",
    "\n",
    "Given a full name, your task is to capitalize the name appropriately.\n",
    "```"
   ]
  },
  {
   "cell_type": "code",
   "execution_count": null,
   "metadata": {},
   "outputs": [],
   "source": [
    "#!/bin/python3\n",
    "\n",
    "import math\n",
    "import os\n",
    "import random\n",
    "import re\n",
    "import sys\n",
    "\n",
    "# Complete the solve function below.\n",
    "def solve(s):\n",
    "    inp = s.split(\" \")\n",
    "    cap = []\n",
    "    \n",
    "    for i in inp:\n",
    "        a = i.capitalize()\n",
    "        cap.append(a)\n",
    "    \n",
    "    return (' '.join(cap))\n",
    "    \n",
    "\n",
    "if __name__ == '__main__':\n",
    "    fptr = open(os.environ['OUTPUT_PATH'], 'w')\n",
    "\n",
    "    s = input()\n",
    "\n",
    "    result = solve(s)\n",
    "\n",
    "    fptr.write(result + '\\n')\n",
    "\n",
    "    fptr.close()\n",
    "\n"
   ]
  },
  {
   "cell_type": "markdown",
   "metadata": {},
   "source": [
    "---"
   ]
  },
  {
   "cell_type": "code",
   "execution_count": 15,
   "metadata": {},
   "outputs": [
    {
     "name": "stdout",
     "output_type": "stream",
     "text": [
      "['khalisul', 'akbar']\n",
      "Khalisul Akbar\n"
     ]
    }
   ],
   "source": [
    "inp = 'khalisul akbar'\n",
    "\n",
    "inp = inp.split(\" \")\n",
    "\n",
    "print (inp)\n",
    "\n",
    "cap = []\n",
    "for i in inp:\n",
    "    a = i.capitalize()\n",
    "    cap.append(a)\n",
    "\n",
    "print ( ' '.join(cap))\n"
   ]
  }
 ],
 "metadata": {
  "kernelspec": {
   "display_name": "Python 3.9.7 ('base')",
   "language": "python",
   "name": "python3"
  },
  "language_info": {
   "codemirror_mode": {
    "name": "ipython",
    "version": 3
   },
   "file_extension": ".py",
   "mimetype": "text/x-python",
   "name": "python",
   "nbconvert_exporter": "python",
   "pygments_lexer": "ipython3",
   "version": "3.9.7"
  },
  "orig_nbformat": 4,
  "vscode": {
   "interpreter": {
    "hash": "7679c2132d3f6ce38c9df14d554b39c06862b36a4e6689c81f9ae15bd0911d7d"
   }
  }
 },
 "nbformat": 4,
 "nbformat_minor": 2
}
