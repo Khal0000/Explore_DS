{
  "cells": [
    {
      "cell_type": "markdown",
      "metadata": {
        "id": "dIIfxFfGKoM6"
      },
      "source": [
        "# 1 - Perkenalan"
      ]
    },
    {
      "cell_type": "markdown",
      "metadata": {
        "id": "WKHRK6vmKq5a"
      },
      "source": [
        "> Bab pengenalan harus diisi dengan identitas, gambaran besar dataset yang digunakan, dan objective yang ingin dicapai."
      ]
    },
    {
      "cell_type": "markdown",
      "metadata": {
        "id": "JanWjgRqKrua"
      },
      "source": [
        "Nama : Khalisul Akbar\n",
        "\n",
        "Batch : FTDS-010 \n",
        "\n",
        "Dataset : FIFA 2022"
      ]
    },
    {
      "cell_type": "markdown",
      "metadata": {
        "id": "fprqUishKzl6"
      },
      "source": [
        "# 2 - Import Libraries"
      ]
    },
    {
      "cell_type": "markdown",
      "metadata": {
        "id": "F0sntiQ5K453"
      },
      "source": [
        "> Cell pertama pada notebook harus berisi dan hanya berisi semua library yang digunakan dalam project."
      ]
    },
    {
      "cell_type": "code",
      "execution_count": null,
      "metadata": {
        "id": "D_vcVTbeK53T"
      },
      "outputs": [],
      "source": [
        "# Import Libraries\n",
        "\n",
        "import pandas as pd\n",
        "import numpy as np\n",
        "import seaborn as sns\n",
        "import matplotlib.pyplot as plt"
      ]
    },
    {
      "cell_type": "markdown",
      "metadata": {
        "id": "nIF2-I5OLa_a"
      },
      "source": [
        "# 3 - Data Loading"
      ]
    },
    {
      "cell_type": "markdown",
      "metadata": {
        "id": "6bG_1ckBLf7H"
      },
      "source": [
        "> Bagian ini berisi proses penyiapan data sebelum dilakukan eksplorasi data lebih lanjut. Proses Data Loading dapat berupa memberi nama baru untuk setiap kolom, mengecek ukuran dataset, dll."
      ]
    },
    {
      "cell_type": "code",
      "execution_count": null,
      "metadata": {
        "colab": {
          "base_uri": "https://localhost:8080/",
          "height": 539
        },
        "id": "vIUkGYd5LhEL",
        "outputId": "e343c357-01c9-4148-e337-ad44be51a693"
      },
      "outputs": [],
      "source": [
        "# Load Dataset \n",
        "\n",
        "df = pd.read_csv('')\n",
        "df"
      ]
    },
    {
      "cell_type": "code",
      "execution_count": null,
      "metadata": {
        "id": "wrSU6XkJL4kT"
      },
      "outputs": [],
      "source": [
        "# Duplicate Dataset\n",
        "\n",
        "data_copy = data.copy()"
      ]
    },
    {
      "cell_type": "code",
      "execution_count": null,
      "metadata": {
        "colab": {
          "base_uri": "https://localhost:8080/",
          "height": 539
        },
        "id": "hgqEx0BGMIX5",
        "outputId": "68ca84b9-34d0-456c-e757-ca3f555ebc63"
      },
      "outputs": [],
      "source": [
        "# Rename Columns\n",
        "\n"
      ]
    },
    {
      "cell_type": "code",
      "execution_count": null,
      "metadata": {
        "colab": {
          "base_uri": "https://localhost:8080/"
        },
        "id": "oDtUXuxLMd4R",
        "outputId": "8a7d68bf-3b9d-40be-ae33-c05776c7da60"
      },
      "outputs": [],
      "source": [
        "# Check Dataset\n",
        "\n",
        "data.info()"
      ]
    },
    {
      "cell_type": "code",
      "execution_count": null,
      "metadata": {
        "colab": {
          "base_uri": "https://localhost:8080/",
          "height": 300
        },
        "id": "mOHBexeTMnMu",
        "outputId": "b7ec9227-37ab-43f7-dfb8-d5b00a1b83b6"
      },
      "outputs": [],
      "source": [
        "# Check Dataset\n",
        "\n",
        "data.describe()"
      ]
    },
    {
      "cell_type": "markdown",
      "metadata": {
        "id": "plL7gqIeNEnk"
      },
      "source": [
        "# 4 - Exploratory Data Analysis (EDA)"
      ]
    },
    {
      "cell_type": "markdown",
      "metadata": {
        "id": "lovG2mP4NHYe"
      },
      "source": [
        "> Bagian ini berisi eksplorasi data pada dataset diatas dengan menggunakan query, grouping, visualisasi sederhana, dan lain sebagainya."
      ]
    },
    {
      "cell_type": "code",
      "execution_count": null,
      "metadata": {
        "colab": {
          "base_uri": "https://localhost:8080/",
          "height": 350
        },
        "id": "GF2wyVXRNIUE",
        "outputId": "b49de820-db79-40e5-d915-1b4af76b08cf"
      },
      "outputs": [],
      "source": [
        "# Create Histogram Plot and Scatter Plot\n",
        "\n"
      ]
    },
    {
      "cell_type": "markdown",
      "metadata": {
        "id": "MWR9w_kfOxPY"
      },
      "source": [
        "# 5 - Data Preprocessing"
      ]
    },
    {
      "cell_type": "markdown",
      "metadata": {
        "id": "gtbR0g48O2_F"
      },
      "source": [
        "> Bagian ini berisi proses penyiapan data untuk proses pelatihan model, seperti pembagian data menjadi train-dev-test, transformasi data (normalisasi, encoding, dll.), dan proses-proses lain yang dibutuhkan."
      ]
    },
    {
      "cell_type": "code",
      "execution_count": null,
      "metadata": {
        "colab": {
          "base_uri": "https://localhost:8080/",
          "height": 461
        },
        "id": "f5W7vKKxO37C",
        "outputId": "f56dd0c6-5a03-4efb-9baa-36961c729f2e"
      },
      "outputs": [],
      "source": [
        "# Get Data for Model Inference\n",
        "\n",
        "data_inf = data.sample(10, random_state=17)\n",
        "data_inf"
      ]
    },
    {
      "cell_type": "code",
      "execution_count": null,
      "metadata": {
        "colab": {
          "base_uri": "https://localhost:8080/",
          "height": 539
        },
        "id": "zkcAb6V7RWJj",
        "outputId": "2ec9ecd6-4cc6-4cb9-fa19-e21154374a89"
      },
      "outputs": [],
      "source": [
        "# Remove Inference-Set from Dataset\n",
        "\n",
        "data_train_test = data.drop(data_inf.index)\n",
        "data_train_test"
      ]
    },
    {
      "cell_type": "code",
      "execution_count": null,
      "metadata": {
        "colab": {
          "base_uri": "https://localhost:8080/",
          "height": 461
        },
        "id": "VK5WIsK-RlPE",
        "outputId": "d234277a-2955-46f3-f3cd-336f29b1db4d"
      },
      "outputs": [],
      "source": [
        "# Reset Index\n",
        "\n",
        "data_train_test.reset_index(drop=True, inplace=True)\n",
        "data_inf.reset_index(drop=True, inplace=True)\n",
        "data_inf"
      ]
    },
    {
      "cell_type": "markdown",
      "metadata": {
        "id": "uM0NHiW6R7_n"
      },
      "source": [
        "## Splitting Dataset"
      ]
    },
    {
      "cell_type": "code",
      "execution_count": null,
      "metadata": {
        "colab": {
          "base_uri": "https://localhost:8080/",
          "height": 539
        },
        "id": "wYcgxGFiR9w3",
        "outputId": "95058189-5db7-438a-acc8-d55d24dd6f37"
      },
      "outputs": [],
      "source": [
        "# Split between X (features) and y (target)\n",
        "\n",
        "X = data_train_test.drop('Rating', axis=1)\n",
        "y = data_train_test['Rating']\n",
        "X"
      ]
    },
    {
      "cell_type": "code",
      "execution_count": null,
      "metadata": {
        "colab": {
          "base_uri": "https://localhost:8080/"
        },
        "id": "n4A8_aFPS3_I",
        "outputId": "53509ca9-369a-4da6-a79f-8478f600298a"
      },
      "outputs": [],
      "source": [
        "# Split between Train-Set and Test-Set\n",
        "\n",
        "from sklearn.model_selection import train_test_split\n",
        "\n",
        "X_train, X_test, y_train, y_test = train_test_split(X, y, test_size=0.2, random_state=17)\n",
        "\n",
        "print('Train Size : ', X_train.shape)\n",
        "print('Test Size  : ', X_test.shape)"
      ]
    },
    {
      "cell_type": "markdown",
      "metadata": {
        "id": "aYKlxTPcUxQF"
      },
      "source": [
        "---\n",
        "## Handling Outlier"
      ]
    },
    {
      "cell_type": "markdown",
      "metadata": {
        "id": "69MgCUF8U1Pb"
      },
      "source": [
        "Ini akan dijelaskan di pertemuan besok Selasa."
      ]
    },
    {
      "cell_type": "markdown",
      "metadata": {
        "id": "Jbj7zYHMU44K"
      },
      "source": [
        "---\n",
        "## Handling Missing Values"
      ]
    },
    {
      "cell_type": "markdown",
      "metadata": {
        "id": "hsiillryU78n"
      },
      "source": [
        "Ini akan dijelaskan di pertemuan besok Selasa."
      ]
    },
    {
      "cell_type": "code",
      "execution_count": null,
      "metadata": {
        "colab": {
          "base_uri": "https://localhost:8080/"
        },
        "id": "RJVbDSwlU-12",
        "outputId": "a3a26462-9aca-4598-b1bc-2e845887a332"
      },
      "outputs": [],
      "source": [
        "# Check missing values on X_train\n",
        "\n",
        "X_train.isnull().sum()"
      ]
    },
    {
      "cell_type": "code",
      "execution_count": null,
      "metadata": {
        "colab": {
          "base_uri": "https://localhost:8080/"
        },
        "id": "Ma_65BERVM89",
        "outputId": "46fddc56-7681-42d3-bdee-782f4afb84db"
      },
      "outputs": [],
      "source": [
        "# Check missing values on X_test\n",
        "\n",
        "X_test.isnull().sum()"
      ]
    },
    {
      "cell_type": "code",
      "execution_count": null,
      "metadata": {
        "colab": {
          "base_uri": "https://localhost:8080/"
        },
        "id": "kjA0qHYdVTDO",
        "outputId": "d6c80465-6d70-4e65-cc3d-8636c5937f88"
      },
      "outputs": [],
      "source": [
        "# Check missing values on y_train\n",
        "\n",
        "y_train.isnull().sum()"
      ]
    },
    {
      "cell_type": "code",
      "execution_count": null,
      "metadata": {
        "colab": {
          "base_uri": "https://localhost:8080/"
        },
        "id": "MhVcQiK0VZ9H",
        "outputId": "7aa78dc9-9539-417c-cd81-5b17269b96dc"
      },
      "outputs": [],
      "source": [
        "# Check missing values on y_test\n",
        "\n",
        "y_test.isnull().sum()"
      ]
    },
    {
      "cell_type": "markdown",
      "metadata": {
        "id": "Cvp33WdhVZS5"
      },
      "source": [
        "---\n",
        "## Feature Selection"
      ]
    },
    {
      "cell_type": "code",
      "execution_count": null,
      "metadata": {
        "colab": {
          "base_uri": "https://localhost:8080/",
          "height": 609
        },
        "id": "WM2saWa_VlHb",
        "outputId": "8547c3bc-0627-45eb-c790-bdc7d525d221"
      },
      "outputs": [],
      "source": [
        "# Display X_train\n",
        "\n",
        "X_train"
      ]
    },
    {
      "cell_type": "markdown",
      "metadata": {
        "id": "a4aephUpWJxI"
      },
      "source": [
        "Karena `Name` tidak ada hubungannya dengan `Rating`, maka column `Name` ini dapat dihapus. Hal ini dibuktikan dengan jika ada nama `Danu Ronaldo`, tidak akan ada kaitannya dengan `Cristiano Ronaldo` sehingga sudah pasti nilai `Rating` kedua pemain ini pasti akan berbeda."
      ]
    },
    {
      "cell_type": "code",
      "execution_count": null,
      "metadata": {
        "colab": {
          "base_uri": "https://localhost:8080/",
          "height": 423
        },
        "id": "l7AHaPGbWJfE",
        "outputId": "20bff857-b616-4635-d978-f7a0cc76b1a3"
      },
      "outputs": [],
      "source": [
        "# Drop Column `Name`\n",
        "\n",
        "X_train.drop('Name', axis=1, inplace=True)\n",
        "X_test.drop('Name', axis=1, inplace=True)\n",
        "\n",
        "X_train"
      ]
    },
    {
      "cell_type": "markdown",
      "metadata": {
        "id": "N5TTpAjrXwDt"
      },
      "source": [
        "---\n",
        "## Split between numerical and categorical columns\n"
      ]
    },
    {
      "cell_type": "code",
      "execution_count": null,
      "metadata": {
        "colab": {
          "base_uri": "https://localhost:8080/"
        },
        "id": "BMJSwH3RXpbK",
        "outputId": "b649f571-8f77-45eb-f350-5905f81b34d5"
      },
      "outputs": [],
      "source": [
        "# Get Numerical Columns and Categorical Columns\n",
        "\n",
        "num_columns = X_train.select_dtypes(include=np.number).columns.tolist()\n",
        "cat_columns = X_train.select_dtypes(include=['object']).columns.tolist()\n",
        "\n",
        "print('Numerical Columns : ', num_columns)\n",
        "print('Categorical Columns : ', cat_columns)"
      ]
    },
    {
      "cell_type": "code",
      "execution_count": null,
      "metadata": {
        "id": "GqgVmfNeYrjw"
      },
      "outputs": [],
      "source": [
        "# Split Train-Set and Test-Set based on Column Type (Numerical/Categorical)\n",
        "\n",
        "X_train_num = X_train[num_columns]\n",
        "X_train_cat = X_train[cat_columns]\n",
        "\n",
        "X_test_num = X_test[num_columns]\n",
        "X_test_cat = X_test[cat_columns]"
      ]
    },
    {
      "cell_type": "markdown",
      "metadata": {
        "id": "t15ve41sZULO"
      },
      "source": [
        "---\n",
        "## Feature Scaling"
      ]
    },
    {
      "cell_type": "code",
      "execution_count": null,
      "metadata": {
        "colab": {
          "base_uri": "https://localhost:8080/",
          "height": 423
        },
        "id": "5LO7gS_0ZXVj",
        "outputId": "daf07dba-9b44-4e6f-9b8a-c2831fa83834"
      },
      "outputs": [],
      "source": [
        "# Display X_train_num\n",
        "\n",
        "X_train_num"
      ]
    },
    {
      "cell_type": "code",
      "execution_count": null,
      "metadata": {
        "colab": {
          "base_uri": "https://localhost:8080/"
        },
        "id": "PjTDb3yeZbBv",
        "outputId": "ba1273c1-0c59-4fcf-dc9c-7202e1a0e0e6"
      },
      "outputs": [],
      "source": [
        "# Feature Scaling using MinMaxScaler\n",
        "\n",
        "from sklearn.preprocessing import MinMaxScaler\n",
        "\n",
        "scaler = MinMaxScaler()\n",
        "scaler.fit(X_train_num)\n",
        "\n",
        "X_train_num_scaled = scaler.transform(X_train_num)\n",
        "X_test_num_scaled = scaler.transform(X_test_num)\n",
        "\n",
        "X_train_num_scaled"
      ]
    },
    {
      "cell_type": "markdown",
      "metadata": {
        "id": "rOQSfNZdbpZf"
      },
      "source": [
        "---\n",
        "## Feature Encoding"
      ]
    },
    {
      "cell_type": "code",
      "execution_count": null,
      "metadata": {
        "colab": {
          "base_uri": "https://localhost:8080/",
          "height": 423
        },
        "id": "f2MaaAdqc5bL",
        "outputId": "48559b77-b7bf-436f-9553-7b00a3f26784"
      },
      "outputs": [],
      "source": [
        "# Display X_train_cat\n",
        "\n",
        "X_train_cat"
      ]
    },
    {
      "cell_type": "code",
      "execution_count": null,
      "metadata": {
        "colab": {
          "base_uri": "https://localhost:8080/"
        },
        "id": "6g57I1rkbuL-",
        "outputId": "ec4faa48-ab6a-4ade-e993-c67be5c64084"
      },
      "outputs": [],
      "source": [
        "# Feature Encoding using Ordinal Encoder\n",
        "\n",
        "from sklearn.preprocessing import OrdinalEncoder \n",
        "encoder = OrdinalEncoder()\n",
        "encoder.fit(X_train_cat)\n",
        "\n",
        "X_train_cat_enc = encoder.transform(X_train_cat)\n",
        "X_test_cat_enc = encoder.transform(X_test_cat)\n",
        "X_train_cat_enc"
      ]
    },
    {
      "cell_type": "markdown",
      "metadata": {
        "id": "C0PP-0spdeee"
      },
      "source": [
        "---\n",
        "## Concat between Numerical Columns and Categorical Columns"
      ]
    },
    {
      "cell_type": "code",
      "execution_count": null,
      "metadata": {
        "colab": {
          "base_uri": "https://localhost:8080/"
        },
        "id": "KNaP-yhzdkQP",
        "outputId": "bbc137f0-ba88-43ce-d0ea-50f61ff6b019"
      },
      "outputs": [],
      "source": [
        "# Concate Columns\n",
        "\n",
        "X_train_final = np.concatenate([X_train_num_scaled, X_train_cat_enc], axis=1)\n",
        "X_test_final = np.concatenate([X_test_num_scaled, X_test_cat_enc], axis=1)\n",
        "X_train_final"
      ]
    },
    {
      "cell_type": "code",
      "execution_count": null,
      "metadata": {
        "colab": {
          "base_uri": "https://localhost:8080/",
          "height": 467
        },
        "id": "b6bpMm-gd9G6",
        "outputId": "37a3d319-48b5-421c-b865-3d8beb88de4b"
      },
      "outputs": [],
      "source": [
        "# Display Concate's Result as a DataFrame\n",
        "\n",
        "X_train_final_df = pd.DataFrame(X_train_final, columns=[num_columns + cat_columns])\n",
        "X_train_final_df"
      ]
    },
    {
      "cell_type": "markdown",
      "metadata": {
        "id": "J-bRMz1teacx"
      },
      "source": [
        "# 6 - Model Definition"
      ]
    },
    {
      "cell_type": "markdown",
      "metadata": {
        "id": "G2_AEfHMedLo"
      },
      "source": [
        "> Bagian ini berisi cell untuk mendefinisikan model. Jelaskan alasan menggunakan suatu algoritma/model, hyperparameter yang dipakai, jenis penggunaan metrics yang dipakai, dan hal lain yang terkait dengan model."
      ]
    },
    {
      "cell_type": "code",
      "execution_count": null,
      "metadata": {
        "id": "T_xaMB3iec33"
      },
      "outputs": [],
      "source": [
        "# Training using Linear Regression\n",
        "\n",
        "from sklearn.linear_model import LinearRegression\n",
        "\n",
        "model_lin_reg = LinearRegression()"
      ]
    },
    {
      "cell_type": "markdown",
      "metadata": {
        "id": "Ro4z5jK9fThC"
      },
      "source": [
        "Metrics yang dipakai dalam kasus ini adalah `MAE` (Mean Absolute Error)"
      ]
    },
    {
      "cell_type": "markdown",
      "metadata": {
        "id": "_ljzK9oWfe_H"
      },
      "source": [
        "# 7 - Model Training"
      ]
    },
    {
      "cell_type": "markdown",
      "metadata": {
        "id": "dLJ5H8s-fjCc"
      },
      "source": [
        "> Cell pada bagian ini hanya berisi code untuk melatih model dan output yang dihasilkan. Lakukan beberapa kali proses training dengan hyperparameter yang berbeda untuk melihat hasil yang didapatkan. Analisis dan narasikan hasil ini pada bagian Model Evaluation."
      ]
    },
    {
      "cell_type": "code",
      "execution_count": null,
      "metadata": {
        "colab": {
          "base_uri": "https://localhost:8080/"
        },
        "id": "7VLXwbw2fnzy",
        "outputId": "d77320af-d7b0-4419-f036-3911f9d222ca"
      },
      "outputs": [],
      "source": [
        "# Train the Model\n",
        "\n",
        "model_lin_reg.fit(X_train_final, y_train)"
      ]
    },
    {
      "cell_type": "markdown",
      "metadata": {
        "id": "HlyAVit0fzJC"
      },
      "source": [
        "# 8 - Model Evaluation"
      ]
    },
    {
      "cell_type": "markdown",
      "metadata": {
        "id": "n3F_PNH2f32u"
      },
      "source": [
        "> Pada bagian ini, dilakukan evaluasi model yang harus menunjukkan bagaimana performa model berdasarkan metrics yang dipilih. Hal ini harus dibuktikan dengan visualisasi tren performa dan/atau tingkat kesalahan model. Lakukan analisis terkait dengan hasil pada model dan tuliskan hasil analisisnya."
      ]
    },
    {
      "cell_type": "code",
      "execution_count": null,
      "metadata": {
        "id": "LjwBVvi5f452"
      },
      "outputs": [],
      "source": [
        "# Get Prediction of Train-Set and Test-Set\n",
        "\n",
        "y_pred_train = model_lin_reg.predict(X_train_final)\n",
        "y_pred_test = model_lin_reg.predict(X_test_final)"
      ]
    },
    {
      "cell_type": "code",
      "execution_count": null,
      "metadata": {
        "colab": {
          "base_uri": "https://localhost:8080/"
        },
        "id": "5G08AKHvgGo2",
        "outputId": "5a631877-7814-4820-db3a-1314551b8d88"
      },
      "outputs": [],
      "source": [
        "# Evaluate Model using Mean Absolute Error\n",
        "\n",
        "from sklearn.metrics import mean_absolute_error\n",
        "\n",
        "print('Error - Train : ', mean_absolute_error(y_train, y_pred_train))\n",
        "print('Error - Test  : ', mean_absolute_error(y_test, y_pred_test))"
      ]
    },
    {
      "cell_type": "markdown",
      "metadata": {
        "id": "RWJ6uKfPhH8B"
      },
      "source": [
        "# 9 - Model Inference"
      ]
    },
    {
      "cell_type": "code",
      "execution_count": null,
      "metadata": {
        "colab": {
          "base_uri": "https://localhost:8080/",
          "height": 461
        },
        "id": "M7GJPfKAhLVo",
        "outputId": "9452f235-2a88-4354-9ee4-6843cb7775c6"
      },
      "outputs": [],
      "source": [
        "# Display Inference-Set\n",
        "\n",
        "data_inf"
      ]
    },
    {
      "cell_type": "code",
      "execution_count": null,
      "metadata": {
        "id": "0Cxa6LJ6hGAJ"
      },
      "outputs": [],
      "source": [
        "# Split between Numerical Columns and Categorical Columns\n",
        "\n",
        "data_inf_num = data_inf[num_columns]\n",
        "data_inf_cat = data_inf[cat_columns]"
      ]
    },
    {
      "cell_type": "code",
      "execution_count": null,
      "metadata": {
        "id": "OsCVhsyqhdKi"
      },
      "outputs": [],
      "source": [
        "# Feature Scaling and Feature Encoding\n",
        "\n",
        "data_inf_num_scaled = scaler.transform(data_inf_num)\n",
        "data_inf_cat_enc = encoder.transform(data_inf_cat)"
      ]
    },
    {
      "cell_type": "code",
      "execution_count": null,
      "metadata": {
        "colab": {
          "base_uri": "https://localhost:8080/",
          "height": 407
        },
        "id": "lr9Nlxdoh706",
        "outputId": "c4eccd81-4785-4978-a299-f2540a271f34"
      },
      "outputs": [],
      "source": [
        "# Merge Numerical Data and Categorical Data\n",
        "\n",
        "data_inf_final = np.concatenate([data_inf_num_scaled, data_inf_cat_enc], axis=1)\n",
        "data_inf_final_df = pd.DataFrame(data_inf_final, columns=[num_columns + cat_columns])\n",
        "data_inf_final_df "
      ]
    },
    {
      "cell_type": "code",
      "execution_count": null,
      "metadata": {
        "colab": {
          "base_uri": "https://localhost:8080/",
          "height": 362
        },
        "id": "7c-IJxDoieJz",
        "outputId": "984af52f-73c4-465e-99d8-ecdcdf874de1"
      },
      "outputs": [],
      "source": [
        "# Predict Inference-Set\n",
        "\n",
        "y_pred_inf = model_lin_reg.predict(data_inf_final)\n",
        "y_pred_inf_df = pd.DataFrame(y_pred_inf, columns=['Ratings - Prediction'])\n",
        "y_pred_inf_df"
      ]
    },
    {
      "cell_type": "code",
      "execution_count": null,
      "metadata": {
        "colab": {
          "base_uri": "https://localhost:8080/",
          "height": 479
        },
        "id": "QTK8sb8Wi5Ct",
        "outputId": "9046b2b6-bebc-4560-ed89-f351599ad624"
      },
      "outputs": [],
      "source": [
        "# Concat Inference-Set with Prediction\n",
        "\n",
        "pd.concat([data_inf, y_pred_inf_df], axis=1)"
      ]
    },
    {
      "cell_type": "markdown",
      "metadata": {
        "id": "K4tqPWDJjU3S"
      },
      "source": [
        "# 10 - Pengambilan Kesimpulan"
      ]
    },
    {
      "cell_type": "code",
      "execution_count": null,
      "metadata": {
        "colab": {
          "base_uri": "https://localhost:8080/"
        },
        "id": "lth82h56jXfM",
        "outputId": "e76cf741-4e44-4cb5-f30a-8d559c3fe9c6"
      },
      "outputs": [],
      "source": [
        "# Find Intercept and Slope\n",
        "\n",
        "intercept = model_lin_reg.intercept_\n",
        "slope = model_lin_reg.coef_ \n",
        "\n",
        "print('Intercept : ', intercept)\n",
        "print('Slope     : ', slope)"
      ]
    },
    {
      "cell_type": "code",
      "execution_count": null,
      "metadata": {
        "colab": {
          "base_uri": "https://localhost:8080/"
        },
        "id": "PpapI_lsjqoR",
        "outputId": "b46cae9b-dd54-4435-eef3-13006a217460"
      },
      "outputs": [],
      "source": [
        "# Display Column's Name\n",
        "\n",
        "X_train.columns.tolist()"
      ]
    }
  ],
  "metadata": {
    "colab": {
      "collapsed_sections": [],
      "name": "P1W1D1PM - 20220411 - FTDS-010 - Machine Learning Problem Framing.ipynb",
      "provenance": []
    },
    "kernelspec": {
      "display_name": "Python 3.9.7 ('base')",
      "language": "python",
      "name": "python3"
    },
    "language_info": {
      "codemirror_mode": {
        "name": "ipython",
        "version": 3
      },
      "file_extension": ".py",
      "mimetype": "text/x-python",
      "name": "python",
      "nbconvert_exporter": "python",
      "pygments_lexer": "ipython3",
      "version": "3.9.7"
    },
    "vscode": {
      "interpreter": {
        "hash": "7679c2132d3f6ce38c9df14d554b39c06862b36a4e6689c81f9ae15bd0911d7d"
      }
    }
  },
  "nbformat": 4,
  "nbformat_minor": 0
}
