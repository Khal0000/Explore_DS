{
  "cells": [
    {
      "cell_type": "code",
      "execution_count": 1,
      "metadata": {
        "colab": {
          "base_uri": "https://localhost:8080/"
        },
        "id": "4vjiGwCzzuxD",
        "outputId": "ff081e11-161a-49cd-cd31-3e56c5575f32"
      },
      "outputs": [],
      "source": [
        "# from google.colab import drive\n",
        "# drive.mount('/content/drive')"
      ]
    },
    {
      "cell_type": "markdown",
      "metadata": {
        "id": "b3KoNO_BzdLj"
      },
      "source": [
        "---"
      ]
    },
    {
      "cell_type": "markdown",
      "metadata": {
        "id": "Vgzxi8xazdLo"
      },
      "source": [
        "# **Milestone 1 Phase 2**"
      ]
    },
    {
      "cell_type": "markdown",
      "metadata": {
        "id": "dIIfxFfGKoM6"
      },
      "source": [
        "## 1 - Perkenalan"
      ]
    },
    {
      "cell_type": "markdown",
      "metadata": {
        "id": "TqickhQxzdLr"
      },
      "source": [
        "```\n",
        "Nama : Khalisul Akbar\n",
        "\n",
        "Batch : FTDS-Batch 10\n",
        "```\n"
      ]
    },
    {
      "cell_type": "markdown",
      "metadata": {
        "id": "tjN0vIZfzdLt"
      },
      "source": [
        "### Description\n",
        "\n"
      ]
    },
    {
      "cell_type": "markdown",
      "metadata": {
        "id": "uQoZEpbYzdLu"
      },
      "source": [
        "#### Objective :\n",
        "\n",
        "```\n",
        "Adapun objective yang ingin dicapai pada project ini adalah :\n",
        "1. Exploratory Data Analysis untuk memperoleh pemahaman dataset yang baik.\n",
        "2. Preprocessing data yang baik untuk mendapatkan model yang baik.\n",
        "3. Features Engineering untuk mendapatkan Feature yang memiliki korelasi yang baik dengan Target.\n",
        "4. Mampu mengimplementasikan logistic regression dan Mendapatkan model prediksi logistic regression.\n",
        "5. Mampu mengimplementasikan SVM dan Mendapatkan model prediksi SVC.\n",
        "\n",
        "```"
      ]
    },
    {
      "cell_type": "markdown",
      "metadata": {
        "id": "c5oUADCCzdLv"
      },
      "source": [
        "#### Problem Statement :"
      ]
    },
    {
      "cell_type": "markdown",
      "metadata": {
        "id": "6C96rc2PzdLw"
      },
      "source": [
        "```\n",
        "Beberapa tahapan-tahapan yang harus dilalui pada project ini adalah :\n",
        "1. Melakukan visualisasi dataset untuk mengetahui gambaran umum dari dataset yang digunakan.\n",
        "2. Pengecekan dan menghandle outliers dan missing value.\n",
        "3. Memilih Feature yang akan digunakan untuk membuat model dengan menghitung korelasi antara Feature dengan label/target.\n",
        "4. Memingmplementasikan logistic regression dan svm untuk membuat model yang sesuai dengan objective atau dataset.\n",
        "5. Melakukan pengetesan model yang telah dibuat dengan data inference.\n",
        "```"
      ]
    },
    {
      "cell_type": "markdown",
      "metadata": {
        "id": "7AjCZdX3zdLy"
      },
      "source": [
        "---"
      ]
    },
    {
      "cell_type": "markdown",
      "metadata": {
        "id": "fQLf2xcdzdL0"
      },
      "source": [
        "## **Working Area**\n"
      ]
    },
    {
      "cell_type": "markdown",
      "metadata": {
        "id": "fprqUishKzl6"
      },
      "source": [
        "## 2 - Import Libraries"
      ]
    },
    {
      "cell_type": "code",
      "execution_count": 2,
      "metadata": {
        "id": "kS8hO3IEzdL3"
      },
      "outputs": [],
      "source": [
        "# Import library\n",
        "\n",
        "import pandas as pd\n",
        "import numpy as np\n",
        "import matplotlib.pyplot as plt\n",
        "import seaborn as sns\n",
        "\n",
        "pd.options.mode.chained_assignment = None  # default='warn'\n",
        "%matplotlib inline"
      ]
    },
    {
      "cell_type": "markdown",
      "metadata": {
        "id": "nIF2-I5OLa_a"
      },
      "source": [
        "## 3 - Data Loading"
      ]
    },
    {
      "cell_type": "code",
      "execution_count": 3,
      "metadata": {
        "colab": {
          "base_uri": "https://localhost:8080/",
          "height": 386
        },
        "id": "qeYNqCzF0r2z",
        "outputId": "7c9a9ce0-4540-4fd6-e038-56ff09bda6e9"
      },
      "outputs": [
        {
          "data": {
            "text/html": [
              "<div>\n",
              "<style scoped>\n",
              "    .dataframe tbody tr th:only-of-type {\n",
              "        vertical-align: middle;\n",
              "    }\n",
              "\n",
              "    .dataframe tbody tr th {\n",
              "        vertical-align: top;\n",
              "    }\n",
              "\n",
              "    .dataframe thead th {\n",
              "        text-align: right;\n",
              "    }\n",
              "</style>\n",
              "<table border=\"1\" class=\"dataframe\">\n",
              "  <thead>\n",
              "    <tr style=\"text-align: right;\">\n",
              "      <th></th>\n",
              "      <th>customerID</th>\n",
              "      <th>gender</th>\n",
              "      <th>SeniorCitizen</th>\n",
              "      <th>Partner</th>\n",
              "      <th>Dependents</th>\n",
              "      <th>tenure</th>\n",
              "      <th>PhoneService</th>\n",
              "      <th>MultipleLines</th>\n",
              "      <th>InternetService</th>\n",
              "      <th>OnlineSecurity</th>\n",
              "      <th>...</th>\n",
              "      <th>DeviceProtection</th>\n",
              "      <th>TechSupport</th>\n",
              "      <th>StreamingTV</th>\n",
              "      <th>StreamingMovies</th>\n",
              "      <th>Contract</th>\n",
              "      <th>PaperlessBilling</th>\n",
              "      <th>PaymentMethod</th>\n",
              "      <th>MonthlyCharges</th>\n",
              "      <th>TotalCharges</th>\n",
              "      <th>Churn</th>\n",
              "    </tr>\n",
              "  </thead>\n",
              "  <tbody>\n",
              "    <tr>\n",
              "      <th>0</th>\n",
              "      <td>7590-VHVEG</td>\n",
              "      <td>Female</td>\n",
              "      <td>0</td>\n",
              "      <td>Yes</td>\n",
              "      <td>No</td>\n",
              "      <td>1</td>\n",
              "      <td>No</td>\n",
              "      <td>No phone service</td>\n",
              "      <td>DSL</td>\n",
              "      <td>No</td>\n",
              "      <td>...</td>\n",
              "      <td>No</td>\n",
              "      <td>No</td>\n",
              "      <td>No</td>\n",
              "      <td>No</td>\n",
              "      <td>Month-to-month</td>\n",
              "      <td>Yes</td>\n",
              "      <td>Electronic check</td>\n",
              "      <td>29.85</td>\n",
              "      <td>29.85</td>\n",
              "      <td>No</td>\n",
              "    </tr>\n",
              "    <tr>\n",
              "      <th>1</th>\n",
              "      <td>5575-GNVDE</td>\n",
              "      <td>Male</td>\n",
              "      <td>0</td>\n",
              "      <td>No</td>\n",
              "      <td>No</td>\n",
              "      <td>34</td>\n",
              "      <td>Yes</td>\n",
              "      <td>No</td>\n",
              "      <td>DSL</td>\n",
              "      <td>Yes</td>\n",
              "      <td>...</td>\n",
              "      <td>Yes</td>\n",
              "      <td>No</td>\n",
              "      <td>No</td>\n",
              "      <td>No</td>\n",
              "      <td>One year</td>\n",
              "      <td>No</td>\n",
              "      <td>Mailed check</td>\n",
              "      <td>56.95</td>\n",
              "      <td>1889.5</td>\n",
              "      <td>No</td>\n",
              "    </tr>\n",
              "    <tr>\n",
              "      <th>2</th>\n",
              "      <td>3668-QPYBK</td>\n",
              "      <td>Male</td>\n",
              "      <td>0</td>\n",
              "      <td>No</td>\n",
              "      <td>No</td>\n",
              "      <td>2</td>\n",
              "      <td>Yes</td>\n",
              "      <td>No</td>\n",
              "      <td>DSL</td>\n",
              "      <td>Yes</td>\n",
              "      <td>...</td>\n",
              "      <td>No</td>\n",
              "      <td>No</td>\n",
              "      <td>No</td>\n",
              "      <td>No</td>\n",
              "      <td>Month-to-month</td>\n",
              "      <td>Yes</td>\n",
              "      <td>Mailed check</td>\n",
              "      <td>53.85</td>\n",
              "      <td>108.15</td>\n",
              "      <td>Yes</td>\n",
              "    </tr>\n",
              "    <tr>\n",
              "      <th>3</th>\n",
              "      <td>7795-CFOCW</td>\n",
              "      <td>Male</td>\n",
              "      <td>0</td>\n",
              "      <td>No</td>\n",
              "      <td>No</td>\n",
              "      <td>45</td>\n",
              "      <td>No</td>\n",
              "      <td>No phone service</td>\n",
              "      <td>DSL</td>\n",
              "      <td>Yes</td>\n",
              "      <td>...</td>\n",
              "      <td>Yes</td>\n",
              "      <td>Yes</td>\n",
              "      <td>No</td>\n",
              "      <td>No</td>\n",
              "      <td>One year</td>\n",
              "      <td>No</td>\n",
              "      <td>Bank transfer (automatic)</td>\n",
              "      <td>42.30</td>\n",
              "      <td>1840.75</td>\n",
              "      <td>No</td>\n",
              "    </tr>\n",
              "    <tr>\n",
              "      <th>4</th>\n",
              "      <td>9237-HQITU</td>\n",
              "      <td>Female</td>\n",
              "      <td>0</td>\n",
              "      <td>No</td>\n",
              "      <td>No</td>\n",
              "      <td>2</td>\n",
              "      <td>Yes</td>\n",
              "      <td>No</td>\n",
              "      <td>Fiber optic</td>\n",
              "      <td>No</td>\n",
              "      <td>...</td>\n",
              "      <td>No</td>\n",
              "      <td>No</td>\n",
              "      <td>No</td>\n",
              "      <td>No</td>\n",
              "      <td>Month-to-month</td>\n",
              "      <td>Yes</td>\n",
              "      <td>Electronic check</td>\n",
              "      <td>70.70</td>\n",
              "      <td>151.65</td>\n",
              "      <td>Yes</td>\n",
              "    </tr>\n",
              "  </tbody>\n",
              "</table>\n",
              "<p>5 rows × 21 columns</p>\n",
              "</div>"
            ],
            "text/plain": [
              "   customerID  gender  SeniorCitizen Partner Dependents  tenure PhoneService  \\\n",
              "0  7590-VHVEG  Female              0     Yes         No       1           No   \n",
              "1  5575-GNVDE    Male              0      No         No      34          Yes   \n",
              "2  3668-QPYBK    Male              0      No         No       2          Yes   \n",
              "3  7795-CFOCW    Male              0      No         No      45           No   \n",
              "4  9237-HQITU  Female              0      No         No       2          Yes   \n",
              "\n",
              "      MultipleLines InternetService OnlineSecurity  ... DeviceProtection  \\\n",
              "0  No phone service             DSL             No  ...               No   \n",
              "1                No             DSL            Yes  ...              Yes   \n",
              "2                No             DSL            Yes  ...               No   \n",
              "3  No phone service             DSL            Yes  ...              Yes   \n",
              "4                No     Fiber optic             No  ...               No   \n",
              "\n",
              "  TechSupport StreamingTV StreamingMovies        Contract PaperlessBilling  \\\n",
              "0          No          No              No  Month-to-month              Yes   \n",
              "1          No          No              No        One year               No   \n",
              "2          No          No              No  Month-to-month              Yes   \n",
              "3         Yes          No              No        One year               No   \n",
              "4          No          No              No  Month-to-month              Yes   \n",
              "\n",
              "               PaymentMethod MonthlyCharges  TotalCharges Churn  \n",
              "0           Electronic check          29.85         29.85    No  \n",
              "1               Mailed check          56.95        1889.5    No  \n",
              "2               Mailed check          53.85        108.15   Yes  \n",
              "3  Bank transfer (automatic)          42.30       1840.75    No  \n",
              "4           Electronic check          70.70        151.65   Yes  \n",
              "\n",
              "[5 rows x 21 columns]"
            ]
          },
          "execution_count": 3,
          "metadata": {},
          "output_type": "execute_result"
        }
      ],
      "source": [
        "# Load the dataset\n",
        "\n",
        "df = pd.read_csv('WA_Fn-UseC_-Telco-Customer-Churn.csv')\n",
        "df.head()"
      ]
    },
    {
      "cell_type": "code",
      "execution_count": 4,
      "metadata": {
        "id": "Zlz6XIp_1MgP"
      },
      "outputs": [],
      "source": [
        "# Duplicate the dataset\n",
        "\n",
        "df_ori = df.copy()"
      ]
    },
    {
      "cell_type": "code",
      "execution_count": 5,
      "metadata": {
        "colab": {
          "base_uri": "https://localhost:8080/"
        },
        "id": "0kqCy2gz1RHt",
        "outputId": "840dbb6a-223e-49ce-878a-fbd99935addc"
      },
      "outputs": [
        {
          "name": "stdout",
          "output_type": "stream",
          "text": [
            "<class 'pandas.core.frame.DataFrame'>\n",
            "RangeIndex: 7043 entries, 0 to 7042\n",
            "Data columns (total 21 columns):\n",
            " #   Column            Non-Null Count  Dtype  \n",
            "---  ------            --------------  -----  \n",
            " 0   customerID        7043 non-null   object \n",
            " 1   gender            7043 non-null   object \n",
            " 2   SeniorCitizen     7043 non-null   int64  \n",
            " 3   Partner           7043 non-null   object \n",
            " 4   Dependents        7043 non-null   object \n",
            " 5   tenure            7043 non-null   int64  \n",
            " 6   PhoneService      7043 non-null   object \n",
            " 7   MultipleLines     7043 non-null   object \n",
            " 8   InternetService   7043 non-null   object \n",
            " 9   OnlineSecurity    7043 non-null   object \n",
            " 10  OnlineBackup      7043 non-null   object \n",
            " 11  DeviceProtection  7043 non-null   object \n",
            " 12  TechSupport       7043 non-null   object \n",
            " 13  StreamingTV       7043 non-null   object \n",
            " 14  StreamingMovies   7043 non-null   object \n",
            " 15  Contract          7043 non-null   object \n",
            " 16  PaperlessBilling  7043 non-null   object \n",
            " 17  PaymentMethod     7043 non-null   object \n",
            " 18  MonthlyCharges    7043 non-null   float64\n",
            " 19  TotalCharges      7043 non-null   object \n",
            " 20  Churn             7043 non-null   object \n",
            "dtypes: float64(1), int64(2), object(18)\n",
            "memory usage: 1.1+ MB\n"
          ]
        }
      ],
      "source": [
        "# Check Dataset Info\n",
        "\n",
        "df.info()"
      ]
    },
    {
      "cell_type": "markdown",
      "metadata": {
        "id": "GF4XklhM1cEe"
      },
      "source": [
        "From the info above we can see that the dataset have 7043 rows with 21 columns. At a glance it seems that there are no missing values shown."
      ]
    },
    {
      "cell_type": "code",
      "execution_count": 6,
      "metadata": {
        "colab": {
          "base_uri": "https://localhost:8080/",
          "height": 300
        },
        "id": "dYu2Aj8D2SWI",
        "outputId": "78c0b8f5-8a23-46eb-8828-9ba41ddaff15"
      },
      "outputs": [
        {
          "data": {
            "text/html": [
              "<div>\n",
              "<style scoped>\n",
              "    .dataframe tbody tr th:only-of-type {\n",
              "        vertical-align: middle;\n",
              "    }\n",
              "\n",
              "    .dataframe tbody tr th {\n",
              "        vertical-align: top;\n",
              "    }\n",
              "\n",
              "    .dataframe thead th {\n",
              "        text-align: right;\n",
              "    }\n",
              "</style>\n",
              "<table border=\"1\" class=\"dataframe\">\n",
              "  <thead>\n",
              "    <tr style=\"text-align: right;\">\n",
              "      <th></th>\n",
              "      <th>SeniorCitizen</th>\n",
              "      <th>tenure</th>\n",
              "      <th>MonthlyCharges</th>\n",
              "    </tr>\n",
              "  </thead>\n",
              "  <tbody>\n",
              "    <tr>\n",
              "      <th>count</th>\n",
              "      <td>7043.000000</td>\n",
              "      <td>7043.000000</td>\n",
              "      <td>7043.000000</td>\n",
              "    </tr>\n",
              "    <tr>\n",
              "      <th>mean</th>\n",
              "      <td>0.162147</td>\n",
              "      <td>32.371149</td>\n",
              "      <td>64.761692</td>\n",
              "    </tr>\n",
              "    <tr>\n",
              "      <th>std</th>\n",
              "      <td>0.368612</td>\n",
              "      <td>24.559481</td>\n",
              "      <td>30.090047</td>\n",
              "    </tr>\n",
              "    <tr>\n",
              "      <th>min</th>\n",
              "      <td>0.000000</td>\n",
              "      <td>0.000000</td>\n",
              "      <td>18.250000</td>\n",
              "    </tr>\n",
              "    <tr>\n",
              "      <th>25%</th>\n",
              "      <td>0.000000</td>\n",
              "      <td>9.000000</td>\n",
              "      <td>35.500000</td>\n",
              "    </tr>\n",
              "    <tr>\n",
              "      <th>50%</th>\n",
              "      <td>0.000000</td>\n",
              "      <td>29.000000</td>\n",
              "      <td>70.350000</td>\n",
              "    </tr>\n",
              "    <tr>\n",
              "      <th>75%</th>\n",
              "      <td>0.000000</td>\n",
              "      <td>55.000000</td>\n",
              "      <td>89.850000</td>\n",
              "    </tr>\n",
              "    <tr>\n",
              "      <th>max</th>\n",
              "      <td>1.000000</td>\n",
              "      <td>72.000000</td>\n",
              "      <td>118.750000</td>\n",
              "    </tr>\n",
              "  </tbody>\n",
              "</table>\n",
              "</div>"
            ],
            "text/plain": [
              "       SeniorCitizen       tenure  MonthlyCharges\n",
              "count    7043.000000  7043.000000     7043.000000\n",
              "mean        0.162147    32.371149       64.761692\n",
              "std         0.368612    24.559481       30.090047\n",
              "min         0.000000     0.000000       18.250000\n",
              "25%         0.000000     9.000000       35.500000\n",
              "50%         0.000000    29.000000       70.350000\n",
              "75%         0.000000    55.000000       89.850000\n",
              "max         1.000000    72.000000      118.750000"
            ]
          },
          "execution_count": 6,
          "metadata": {},
          "output_type": "execute_result"
        }
      ],
      "source": [
        "# Check Dataset's statistical info\n",
        "\n",
        "df.describe()"
      ]
    },
    {
      "cell_type": "code",
      "execution_count": 7,
      "metadata": {
        "colab": {
          "base_uri": "https://localhost:8080/",
          "height": 256
        },
        "id": "59r17Elm5-qp",
        "outputId": "f5b22101-b4ab-4e6c-cde1-c2ccf3b556e6"
      },
      "outputs": [
        {
          "data": {
            "text/html": [
              "<div>\n",
              "<style scoped>\n",
              "    .dataframe tbody tr th:only-of-type {\n",
              "        vertical-align: middle;\n",
              "    }\n",
              "\n",
              "    .dataframe tbody tr th {\n",
              "        vertical-align: top;\n",
              "    }\n",
              "\n",
              "    .dataframe thead th {\n",
              "        text-align: right;\n",
              "    }\n",
              "</style>\n",
              "<table border=\"1\" class=\"dataframe\">\n",
              "  <thead>\n",
              "    <tr style=\"text-align: right;\">\n",
              "      <th></th>\n",
              "      <th>customerID</th>\n",
              "      <th>gender</th>\n",
              "      <th>Partner</th>\n",
              "      <th>Dependents</th>\n",
              "      <th>PhoneService</th>\n",
              "      <th>MultipleLines</th>\n",
              "      <th>InternetService</th>\n",
              "      <th>OnlineSecurity</th>\n",
              "      <th>OnlineBackup</th>\n",
              "      <th>DeviceProtection</th>\n",
              "      <th>TechSupport</th>\n",
              "      <th>StreamingTV</th>\n",
              "      <th>StreamingMovies</th>\n",
              "      <th>Contract</th>\n",
              "      <th>PaperlessBilling</th>\n",
              "      <th>PaymentMethod</th>\n",
              "      <th>TotalCharges</th>\n",
              "      <th>Churn</th>\n",
              "    </tr>\n",
              "  </thead>\n",
              "  <tbody>\n",
              "    <tr>\n",
              "      <th>count</th>\n",
              "      <td>7043</td>\n",
              "      <td>7043</td>\n",
              "      <td>7043</td>\n",
              "      <td>7043</td>\n",
              "      <td>7043</td>\n",
              "      <td>7043</td>\n",
              "      <td>7043</td>\n",
              "      <td>7043</td>\n",
              "      <td>7043</td>\n",
              "      <td>7043</td>\n",
              "      <td>7043</td>\n",
              "      <td>7043</td>\n",
              "      <td>7043</td>\n",
              "      <td>7043</td>\n",
              "      <td>7043</td>\n",
              "      <td>7043</td>\n",
              "      <td>7043</td>\n",
              "      <td>7043</td>\n",
              "    </tr>\n",
              "    <tr>\n",
              "      <th>unique</th>\n",
              "      <td>7043</td>\n",
              "      <td>2</td>\n",
              "      <td>2</td>\n",
              "      <td>2</td>\n",
              "      <td>2</td>\n",
              "      <td>3</td>\n",
              "      <td>3</td>\n",
              "      <td>3</td>\n",
              "      <td>3</td>\n",
              "      <td>3</td>\n",
              "      <td>3</td>\n",
              "      <td>3</td>\n",
              "      <td>3</td>\n",
              "      <td>3</td>\n",
              "      <td>2</td>\n",
              "      <td>4</td>\n",
              "      <td>6531</td>\n",
              "      <td>2</td>\n",
              "    </tr>\n",
              "    <tr>\n",
              "      <th>top</th>\n",
              "      <td>7590-VHVEG</td>\n",
              "      <td>Male</td>\n",
              "      <td>No</td>\n",
              "      <td>No</td>\n",
              "      <td>Yes</td>\n",
              "      <td>No</td>\n",
              "      <td>Fiber optic</td>\n",
              "      <td>No</td>\n",
              "      <td>No</td>\n",
              "      <td>No</td>\n",
              "      <td>No</td>\n",
              "      <td>No</td>\n",
              "      <td>No</td>\n",
              "      <td>Month-to-month</td>\n",
              "      <td>Yes</td>\n",
              "      <td>Electronic check</td>\n",
              "      <td></td>\n",
              "      <td>No</td>\n",
              "    </tr>\n",
              "    <tr>\n",
              "      <th>freq</th>\n",
              "      <td>1</td>\n",
              "      <td>3555</td>\n",
              "      <td>3641</td>\n",
              "      <td>4933</td>\n",
              "      <td>6361</td>\n",
              "      <td>3390</td>\n",
              "      <td>3096</td>\n",
              "      <td>3498</td>\n",
              "      <td>3088</td>\n",
              "      <td>3095</td>\n",
              "      <td>3473</td>\n",
              "      <td>2810</td>\n",
              "      <td>2785</td>\n",
              "      <td>3875</td>\n",
              "      <td>4171</td>\n",
              "      <td>2365</td>\n",
              "      <td>11</td>\n",
              "      <td>5174</td>\n",
              "    </tr>\n",
              "  </tbody>\n",
              "</table>\n",
              "</div>"
            ],
            "text/plain": [
              "        customerID gender Partner Dependents PhoneService MultipleLines  \\\n",
              "count         7043   7043    7043       7043         7043          7043   \n",
              "unique        7043      2       2          2            2             3   \n",
              "top     7590-VHVEG   Male      No         No          Yes            No   \n",
              "freq             1   3555    3641       4933         6361          3390   \n",
              "\n",
              "       InternetService OnlineSecurity OnlineBackup DeviceProtection  \\\n",
              "count             7043           7043         7043             7043   \n",
              "unique               3              3            3                3   \n",
              "top        Fiber optic             No           No               No   \n",
              "freq              3096           3498         3088             3095   \n",
              "\n",
              "       TechSupport StreamingTV StreamingMovies        Contract  \\\n",
              "count         7043        7043            7043            7043   \n",
              "unique           3           3               3               3   \n",
              "top             No          No              No  Month-to-month   \n",
              "freq          3473        2810            2785            3875   \n",
              "\n",
              "       PaperlessBilling     PaymentMethod TotalCharges Churn  \n",
              "count              7043              7043         7043  7043  \n",
              "unique                2                 4         6531     2  \n",
              "top                 Yes  Electronic check                 No  \n",
              "freq               4171              2365           11  5174  "
            ]
          },
          "execution_count": 7,
          "metadata": {},
          "output_type": "execute_result"
        }
      ],
      "source": [
        "# Check Dataset's statistical info\n",
        "\n",
        "df.describe(include=['O'])"
      ]
    },
    {
      "cell_type": "markdown",
      "metadata": {
        "id": "vUGrO9rC_pUI"
      },
      "source": [
        "From the table above, there are two columns we have to handle first, which are :\n",
        "1. customersID which has number and string mixed in its values. However, since customersID's unique has 7043 from 7043 count, it means that we ccan drop this column since it is not essential.\n",
        "2. TotalCharges which has numerical values but labeled as object. moreover it has 6531 unique value on 7043 count an, so we will check it later."
      ]
    },
    {
      "cell_type": "code",
      "execution_count": 8,
      "metadata": {
        "id": "oqH2m5NxbMCy"
      },
      "outputs": [],
      "source": [
        "# Drop column\n",
        "\n",
        "df.drop('customerID', axis=1, inplace=True)"
      ]
    },
    {
      "cell_type": "code",
      "execution_count": 9,
      "metadata": {
        "colab": {
          "base_uri": "https://localhost:8080/"
        },
        "id": "6QTbmnfE7qwZ",
        "outputId": "238c207c-2793-4642-9505-c775b990921f"
      },
      "outputs": [
        {
          "data": {
            "text/plain": [
              "          11\n",
              "20.2      11\n",
              "19.75      9\n",
              "20.05      8\n",
              "19.9       8\n",
              "          ..\n",
              "6849.4     1\n",
              "692.35     1\n",
              "130.15     1\n",
              "3211.9     1\n",
              "6844.5     1\n",
              "Name: TotalCharges, Length: 6531, dtype: int64"
            ]
          },
          "execution_count": 9,
          "metadata": {},
          "output_type": "execute_result"
        }
      ],
      "source": [
        "df['TotalCharges'].value_counts()"
      ]
    },
    {
      "cell_type": "markdown",
      "metadata": {
        "id": "SmlEjWD_CkbL"
      },
      "source": [
        "there are 11 ' ' values, so it need to be change to np.nan first."
      ]
    },
    {
      "cell_type": "code",
      "execution_count": 10,
      "metadata": {
        "id": "0lczi-8PDHl9"
      },
      "outputs": [],
      "source": [
        "# Treat unknown as missing value\n",
        "\n",
        "df = df.replace(' ', np.nan)\n",
        "\n"
      ]
    },
    {
      "cell_type": "markdown",
      "metadata": {
        "id": "ezruWJV7eGS8"
      },
      "source": [
        "so then we can change df['TotalCharges'] to float"
      ]
    },
    {
      "cell_type": "code",
      "execution_count": 11,
      "metadata": {
        "id": "23z8cvdubuz4"
      },
      "outputs": [],
      "source": [
        "# change data type from object to float\n",
        "\n",
        "df['TotalCharges'] = df['TotalCharges'].astype(float)"
      ]
    },
    {
      "cell_type": "markdown",
      "metadata": {
        "id": "fJ65ExkfDC85"
      },
      "source": [
        "So, we can treat those ' ' values as missing values\n"
      ]
    },
    {
      "cell_type": "code",
      "execution_count": 12,
      "metadata": {
        "colab": {
          "base_uri": "https://localhost:8080/"
        },
        "id": "bOYSh5iLDj25",
        "outputId": "9a9acb6d-cfc8-46d0-f128-74dc7de5b99a"
      },
      "outputs": [
        {
          "data": {
            "text/plain": [
              "gender               0\n",
              "SeniorCitizen        0\n",
              "Partner              0\n",
              "Dependents           0\n",
              "tenure               0\n",
              "PhoneService         0\n",
              "MultipleLines        0\n",
              "InternetService      0\n",
              "OnlineSecurity       0\n",
              "OnlineBackup         0\n",
              "DeviceProtection     0\n",
              "TechSupport          0\n",
              "StreamingTV          0\n",
              "StreamingMovies      0\n",
              "Contract             0\n",
              "PaperlessBilling     0\n",
              "PaymentMethod        0\n",
              "MonthlyCharges       0\n",
              "TotalCharges        11\n",
              "Churn                0\n",
              "dtype: int64"
            ]
          },
          "execution_count": 12,
          "metadata": {},
          "output_type": "execute_result"
        }
      ],
      "source": [
        "df.isnull().sum()"
      ]
    },
    {
      "cell_type": "markdown",
      "metadata": {
        "id": "plL7gqIeNEnk"
      },
      "source": [
        "## 4 - Exploratory Data Analysis (EDA)"
      ]
    },
    {
      "cell_type": "markdown",
      "metadata": {
        "id": "FfOGX87yDsQB"
      },
      "source": [
        "### 1. Taking a look at the numerical and categorical columns"
      ]
    },
    {
      "cell_type": "code",
      "execution_count": 13,
      "metadata": {
        "id": "G734NtG6ZYpz"
      },
      "outputs": [],
      "source": [
        "# Get Numerical Columns and Categorical Columns (original)\n",
        "\n",
        "num_columns = df.select_dtypes(include=np.number).columns.tolist()\n",
        "cat_columns = df.select_dtypes(include=['object']).columns.tolist()"
      ]
    },
    {
      "cell_type": "code",
      "execution_count": 14,
      "metadata": {
        "colab": {
          "base_uri": "https://localhost:8080/"
        },
        "id": "Ac-Vr9bQao35",
        "outputId": "b9734ba4-19b5-4d00-dbf2-17d88e30b971"
      },
      "outputs": [
        {
          "name": "stdout",
          "output_type": "stream",
          "text": [
            "Numerical Columns : \n",
            " SeniorCitizen        2\n",
            "tenure              73\n",
            "MonthlyCharges    1585\n",
            "TotalCharges      6530\n",
            "dtype: int64\n"
          ]
        }
      ],
      "source": [
        "# Numerical columns\n",
        "\n",
        "print('Numerical Columns : \\n' , df[num_columns].nunique())"
      ]
    },
    {
      "cell_type": "code",
      "execution_count": 15,
      "metadata": {
        "colab": {
          "base_uri": "https://localhost:8080/",
          "height": 444
        },
        "id": "62T5Rn-cckXq",
        "outputId": "3272d9b7-a67c-4154-a99c-3f0ba0e57d86"
      },
      "outputs": [
        {
          "data": {
            "image/png": "[encoded data removed]",
            "text/plain": [
              "<Figure size 1440x504 with 4 Axes>"
            ]
          },
          "metadata": {
            "needs_background": "light"
          },
          "output_type": "display_data"
        }
      ],
      "source": [
        "# Numerical column's value histogram\n",
        "\n",
        "df.hist(bins=20, figsize=(20,7), grid=False, color='darkblue', edgecolor='c')\n",
        "plt.show()"
      ]
    },
    {
      "cell_type": "markdown",
      "metadata": {
        "id": "VMudXQxx6GFD"
      },
      "source": [
        "From histogram plot above we can conclude that :\n",
        "\n",
        "*   From SeniorCitizen graph (Indicates if the customer is 65 or older) : older customers [1] is significantly lower than younger customers [0] \n",
        "\n",
        "*   Tenure Graph (indicate how long in month the customers has been with the Telco :  Customers tenure varies between 0 month to 72 months with 3 months-old customers has the highest number followed by 70-72 months-old customers as the second highest.\n",
        "\n",
        "* Taking a look at the MonthlyCharges graph (the customer's Monthly charge) : it seems that most of the customers are getting charge at the cheapest rate at only 20 dollars monthly. However, there are also customer that getting charge at a rate of 40, 60 to 120 dollars.\n",
        "\n",
        "* TotalCharge (indicate the total amount of charge the customers have to pay) : from the graph we can see that the customer charge rate varies from the lowest 18 dollars to the highses 8000++ dollars. However, most of the customers total charge is at around below 2000 dollars.\n",
        "\n",
        "\n"
      ]
    },
    {
      "cell_type": "code",
      "execution_count": 16,
      "metadata": {
        "colab": {
          "base_uri": "https://localhost:8080/"
        },
        "id": "P2UodLxucTln",
        "outputId": "7339178b-b179-4022-b3c5-484ad1239463"
      },
      "outputs": [
        {
          "name": "stdout",
          "output_type": "stream",
          "text": [
            "Categorical Columns : \n",
            "gender (2): ['Female' 'Male']\n",
            "----------------------------------------\n",
            "Partner (2): ['Yes' 'No']\n",
            "----------------------------------------\n",
            "Dependents (2): ['No' 'Yes']\n",
            "----------------------------------------\n",
            "PhoneService (2): ['No' 'Yes']\n",
            "----------------------------------------\n",
            "MultipleLines (3): ['No phone service' 'No' 'Yes']\n",
            "----------------------------------------\n",
            "InternetService (3): ['DSL' 'Fiber optic' 'No']\n",
            "----------------------------------------\n",
            "OnlineSecurity (3): ['No' 'Yes' 'No internet service']\n",
            "----------------------------------------\n",
            "OnlineBackup (3): ['Yes' 'No' 'No internet service']\n",
            "----------------------------------------\n",
            "DeviceProtection (3): ['No' 'Yes' 'No internet service']\n",
            "----------------------------------------\n",
            "TechSupport (3): ['No' 'Yes' 'No internet service']\n",
            "----------------------------------------\n",
            "StreamingTV (3): ['No' 'Yes' 'No internet service']\n",
            "----------------------------------------\n",
            "StreamingMovies (3): ['No' 'Yes' 'No internet service']\n",
            "----------------------------------------\n",
            "Contract (3): ['Month-to-month' 'One year' 'Two year']\n",
            "----------------------------------------\n",
            "PaperlessBilling (2): ['Yes' 'No']\n",
            "----------------------------------------\n",
            "PaymentMethod (4): ['Electronic check' 'Mailed check' 'Bank transfer (automatic)'\n",
            " 'Credit card (automatic)']\n",
            "----------------------------------------\n",
            "Churn (2): ['No' 'Yes']\n",
            "----------------------------------------\n"
          ]
        }
      ],
      "source": [
        "# Categorical columns\n",
        "\n",
        "print('Categorical Columns : ')\n",
        "for i in cat_columns:\n",
        "    cat = df_ori[i].unique()\n",
        "    print(f'{i} ({len(cat)}):',cat)\n",
        "    print('----------------------------------------')\n",
        "\n"
      ]
    },
    {
      "cell_type": "markdown",
      "metadata": {
        "id": "1VK4GIpX__2E"
      },
      "source": [
        "### 2. Plot the target column to see its value proportion "
      ]
    },
    {
      "cell_type": "code",
      "execution_count": 17,
      "metadata": {
        "colab": {
          "base_uri": "https://localhost:8080/",
          "height": 373
        },
        "id": "VrNZ59dohkSk",
        "outputId": "703379b6-ef5a-4d12-a1fe-e21d26cc5e67"
      },
      "outputs": [
        {
          "data": {
            "image/png": "[encoded data removed]",
            "text/plain": [
              "<Figure size 1440x432 with 1 Axes>"
            ]
          },
          "metadata": {},
          "output_type": "display_data"
        }
      ],
      "source": [
        "# Plot the target\n",
        "\n",
        "explode = (0, 0.1)\n",
        "plt.figure(figsize=(20,6))\n",
        "df.groupby(\"Churn\")['Churn'].count().sort_values().plot(kind='pie', autopct='%.0f%%' , ylabel='' , startangle=90, cmap= 'summer_r', explode=explode).set_title('Customers Churn')\n",
        "plt.show()"
      ]
    },
    {
      "cell_type": "markdown",
      "metadata": {
        "id": "JQIuhf0nhE06"
      },
      "source": [
        "From the pie chart above, we can see that the proportion between churn/Yes (27%) and No (73%) is not balanced. So we will have to balance it later using oversampling or undersasmpling method in order to improve model performance."
      ]
    },
    {
      "cell_type": "markdown",
      "metadata": {},
      "source": [
        "### 3. Churn Proportion by Gender, Partner, and Dependent"
      ]
    },
    {
      "cell_type": "code",
      "execution_count": 18,
      "metadata": {
        "id": "JeGWEruQ3t9T"
      },
      "outputs": [],
      "source": [
        "def stacked_plot(df, x, y, orient='h'):\n",
        "      crosstab = pd.crosstab(index=df[x], columns=df[y])\n",
        "\n",
        "      if orient == 'h':\n",
        "            \n",
        "          plt.figure(figsize=(16,10))\n",
        "          crosstab.plot(kind='barh', stacked=True, color=['darkblue', 'cyan']).set_title(f'{y} by {x}')\n",
        "          plt.legend(loc='upper right')\n",
        "          plt.show()\n",
        "      \n",
        "      else :\n",
        "          plt.figure(figsize=(16,10))\n",
        "          crosstab.plot(kind='bar', stacked=True, color=['darkblue', 'cyan']).set_title(f'{y} by {x}')\n",
        "          plt.legend(loc='upper right')\n",
        "          plt.show()"
      ]
    },
    {
      "cell_type": "markdown",
      "metadata": {},
      "source": [
        "1. by gender"
      ]
    },
    {
      "cell_type": "code",
      "execution_count": 19,
      "metadata": {
        "colab": {
          "base_uri": "https://localhost:8080/",
          "height": 281
        },
        "id": "zcNGQZhF4tO5",
        "outputId": "43f82d5f-d39b-4aba-f0fc-ae823a52f409"
      },
      "outputs": [
        {
          "data": {
            "text/plain": [
              "<Figure size 1152x720 with 0 Axes>"
            ]
          },
          "metadata": {},
          "output_type": "display_data"
        },
        {
          "data": {
            "image/png": "[encoded data removed]",
            "text/plain": [
              "<Figure size 432x288 with 1 Axes>"
            ]
          },
          "metadata": {
            "needs_background": "light"
          },
          "output_type": "display_data"
        }
      ],
      "source": [
        "stacked_plot(df, 'gender', 'Churn')"
      ]
    },
    {
      "cell_type": "markdown",
      "metadata": {},
      "source": [
        "`According to its gender, the number of male and female who terminated the Telco(Churn) is quite similar.`"
      ]
    },
    {
      "cell_type": "markdown",
      "metadata": {},
      "source": [
        "2. by Partner"
      ]
    },
    {
      "cell_type": "code",
      "execution_count": 20,
      "metadata": {},
      "outputs": [
        {
          "data": {
            "text/plain": [
              "<Figure size 1152x720 with 0 Axes>"
            ]
          },
          "metadata": {},
          "output_type": "display_data"
        },
        {
          "data": {
            "image/png": "[encoded data removed]",
            "text/plain": [
              "<Figure size 432x288 with 1 Axes>"
            ]
          },
          "metadata": {
            "needs_background": "light"
          },
          "output_type": "display_data"
        }
      ],
      "source": [
        "stacked_plot(df, 'Partner', 'Churn')"
      ]
    },
    {
      "cell_type": "markdown",
      "metadata": {},
      "source": [
        "`according to the graph above, the customers with NO partner have higher probability to stop the Telco service(Churn) than the customers with Partners.`  "
      ]
    },
    {
      "cell_type": "markdown",
      "metadata": {},
      "source": [
        "3. by Dependents"
      ]
    },
    {
      "cell_type": "code",
      "execution_count": 21,
      "metadata": {},
      "outputs": [
        {
          "data": {
            "text/plain": [
              "<Figure size 1152x720 with 0 Axes>"
            ]
          },
          "metadata": {},
          "output_type": "display_data"
        },
        {
          "data": {
            "image/png": "[encoded data removed]",
            "text/plain": [
              "<Figure size 432x288 with 1 Axes>"
            ]
          },
          "metadata": {
            "needs_background": "light"
          },
          "output_type": "display_data"
        }
      ],
      "source": [
        "stacked_plot(df, 'Dependents', 'Churn')"
      ]
    },
    {
      "cell_type": "markdown",
      "metadata": {},
      "source": [
        "`If we take a look at whether the customer has dependents or not, we can see that people who have Dependents are smaller in number than people who dont have dependents. Furthermore, the customers with No dependents have higher probability to churn.`"
      ]
    },
    {
      "cell_type": "markdown",
      "metadata": {},
      "source": [
        "### 4. Churn by Telco Services"
      ]
    },
    {
      "cell_type": "code",
      "execution_count": 22,
      "metadata": {},
      "outputs": [],
      "source": [
        "def countplot(df, variable1, variable2, hue = None , rotate=False):\n",
        "    fig, ax = plt.subplots(ncols= 2, figsize=(20,6))\n",
        "    sns.countplot(data=df , x=variable1, palette='magma' , hue= hue , ax=ax[0]).set_title(f'{variable1}')\n",
        "    ax[0].tick_params(axis='x', rotation=45) if rotate == True else False\n",
        "    sns.countplot(data=df , x=variable2, palette='magma' ,hue= hue , ax=ax[1]).set_title(f'{variable2}')\n",
        "    ax[1].tick_params(axis='x', rotation=45) if rotate == True else False\n",
        "    plt.show"
      ]
    },
    {
      "cell_type": "code",
      "execution_count": 23,
      "metadata": {},
      "outputs": [
        {
          "data": {
            "image/png": "[encoded data removed]",
            "text/plain": [
              "<Figure size 1440x432 with 2 Axes>"
            ]
          },
          "metadata": {
            "needs_background": "light"
          },
          "output_type": "display_data"
        }
      ],
      "source": [
        "countplot(df, 'PhoneService', 'InternetService', hue='Churn')"
      ]
    },
    {
      "cell_type": "code",
      "execution_count": 24,
      "metadata": {},
      "outputs": [
        {
          "data": {
            "image/png": "[encoded data removed]",
            "text/plain": [
              "<Figure size 1440x432 with 2 Axes>"
            ]
          },
          "metadata": {
            "needs_background": "light"
          },
          "output_type": "display_data"
        }
      ],
      "source": [
        "countplot(df, 'StreamingTV', 'StreamingMovies', hue='Churn')"
      ]
    },
    {
      "cell_type": "code",
      "execution_count": 25,
      "metadata": {},
      "outputs": [
        {
          "data": {
            "image/png": "[encoded data removed]",
            "text/plain": [
              "<Figure size 1440x432 with 2 Axes>"
            ]
          },
          "metadata": {
            "needs_background": "light"
          },
          "output_type": "display_data"
        }
      ],
      "source": [
        "countplot(df, 'TechSupport', 'Contract', hue='Churn')"
      ]
    },
    {
      "cell_type": "code",
      "execution_count": 26,
      "metadata": {},
      "outputs": [
        {
          "data": {
            "image/png": "[encoded data removed]",
            "text/plain": [
              "<Figure size 1440x432 with 2 Axes>"
            ]
          },
          "metadata": {
            "needs_background": "light"
          },
          "output_type": "display_data"
        }
      ],
      "source": [
        "countplot(df, 'PaperlessBilling', 'PaymentMethod', hue='Churn')"
      ]
    },
    {
      "cell_type": "markdown",
      "metadata": {
        "id": "MWR9w_kfOxPY"
      },
      "source": [
        "---\n",
        "## 5 - Data Preprocessing"
      ]
    },
    {
      "cell_type": "markdown",
      "metadata": {
        "id": "gtbR0g48O2_F"
      },
      "source": [
        "> Bagian ini berisi proses penyiapan data untuk proses pelatihan model, seperti pembagian data menjadi train-dev-test, transformasi data (normalisasi, encoding, dll.), dan proses-proses lain yang dibutuhkan."
      ]
    },
    {
      "cell_type": "markdown",
      "metadata": {
        "id": "-U_e25ZNzdL8"
      },
      "source": [
        "### 1. Data Inference"
      ]
    },
    {
      "cell_type": "code",
      "execution_count": 27,
      "metadata": {},
      "outputs": [
        {
          "data": {
            "text/html": [
              "<div>\n",
              "<style scoped>\n",
              "    .dataframe tbody tr th:only-of-type {\n",
              "        vertical-align: middle;\n",
              "    }\n",
              "\n",
              "    .dataframe tbody tr th {\n",
              "        vertical-align: top;\n",
              "    }\n",
              "\n",
              "    .dataframe thead th {\n",
              "        text-align: right;\n",
              "    }\n",
              "</style>\n",
              "<table border=\"1\" class=\"dataframe\">\n",
              "  <thead>\n",
              "    <tr style=\"text-align: right;\">\n",
              "      <th></th>\n",
              "      <th>gender</th>\n",
              "      <th>SeniorCitizen</th>\n",
              "      <th>Partner</th>\n",
              "      <th>Dependents</th>\n",
              "      <th>tenure</th>\n",
              "      <th>PhoneService</th>\n",
              "      <th>MultipleLines</th>\n",
              "      <th>InternetService</th>\n",
              "      <th>OnlineSecurity</th>\n",
              "      <th>OnlineBackup</th>\n",
              "      <th>DeviceProtection</th>\n",
              "      <th>TechSupport</th>\n",
              "      <th>StreamingTV</th>\n",
              "      <th>StreamingMovies</th>\n",
              "      <th>Contract</th>\n",
              "      <th>PaperlessBilling</th>\n",
              "      <th>PaymentMethod</th>\n",
              "      <th>MonthlyCharges</th>\n",
              "      <th>TotalCharges</th>\n",
              "      <th>Churn</th>\n",
              "    </tr>\n",
              "  </thead>\n",
              "  <tbody>\n",
              "    <tr>\n",
              "      <th>3616</th>\n",
              "      <td>Female</td>\n",
              "      <td>1</td>\n",
              "      <td>Yes</td>\n",
              "      <td>No</td>\n",
              "      <td>69</td>\n",
              "      <td>Yes</td>\n",
              "      <td>No</td>\n",
              "      <td>Fiber optic</td>\n",
              "      <td>Yes</td>\n",
              "      <td>Yes</td>\n",
              "      <td>No</td>\n",
              "      <td>No</td>\n",
              "      <td>No</td>\n",
              "      <td>Yes</td>\n",
              "      <td>One year</td>\n",
              "      <td>No</td>\n",
              "      <td>Credit card (automatic)</td>\n",
              "      <td>87.30</td>\n",
              "      <td>6055.55</td>\n",
              "      <td>No</td>\n",
              "    </tr>\n",
              "    <tr>\n",
              "      <th>2055</th>\n",
              "      <td>Male</td>\n",
              "      <td>0</td>\n",
              "      <td>No</td>\n",
              "      <td>No</td>\n",
              "      <td>45</td>\n",
              "      <td>Yes</td>\n",
              "      <td>Yes</td>\n",
              "      <td>Fiber optic</td>\n",
              "      <td>Yes</td>\n",
              "      <td>No</td>\n",
              "      <td>Yes</td>\n",
              "      <td>Yes</td>\n",
              "      <td>Yes</td>\n",
              "      <td>Yes</td>\n",
              "      <td>Month-to-month</td>\n",
              "      <td>Yes</td>\n",
              "      <td>Credit card (automatic)</td>\n",
              "      <td>108.45</td>\n",
              "      <td>4964.70</td>\n",
              "      <td>No</td>\n",
              "    </tr>\n",
              "    <tr>\n",
              "      <th>5394</th>\n",
              "      <td>Female</td>\n",
              "      <td>0</td>\n",
              "      <td>Yes</td>\n",
              "      <td>No</td>\n",
              "      <td>48</td>\n",
              "      <td>Yes</td>\n",
              "      <td>Yes</td>\n",
              "      <td>Fiber optic</td>\n",
              "      <td>No</td>\n",
              "      <td>Yes</td>\n",
              "      <td>No</td>\n",
              "      <td>Yes</td>\n",
              "      <td>Yes</td>\n",
              "      <td>Yes</td>\n",
              "      <td>Month-to-month</td>\n",
              "      <td>Yes</td>\n",
              "      <td>Credit card (automatic)</td>\n",
              "      <td>105.10</td>\n",
              "      <td>5083.55</td>\n",
              "      <td>No</td>\n",
              "    </tr>\n",
              "    <tr>\n",
              "      <th>3697</th>\n",
              "      <td>Female</td>\n",
              "      <td>0</td>\n",
              "      <td>Yes</td>\n",
              "      <td>Yes</td>\n",
              "      <td>32</td>\n",
              "      <td>Yes</td>\n",
              "      <td>Yes</td>\n",
              "      <td>Fiber optic</td>\n",
              "      <td>Yes</td>\n",
              "      <td>No</td>\n",
              "      <td>No</td>\n",
              "      <td>No</td>\n",
              "      <td>Yes</td>\n",
              "      <td>No</td>\n",
              "      <td>Month-to-month</td>\n",
              "      <td>No</td>\n",
              "      <td>Electronic check</td>\n",
              "      <td>89.60</td>\n",
              "      <td>2901.80</td>\n",
              "      <td>No</td>\n",
              "    </tr>\n",
              "    <tr>\n",
              "      <th>2516</th>\n",
              "      <td>Female</td>\n",
              "      <td>1</td>\n",
              "      <td>No</td>\n",
              "      <td>No</td>\n",
              "      <td>16</td>\n",
              "      <td>Yes</td>\n",
              "      <td>Yes</td>\n",
              "      <td>Fiber optic</td>\n",
              "      <td>No</td>\n",
              "      <td>No</td>\n",
              "      <td>No</td>\n",
              "      <td>No</td>\n",
              "      <td>Yes</td>\n",
              "      <td>Yes</td>\n",
              "      <td>Month-to-month</td>\n",
              "      <td>Yes</td>\n",
              "      <td>Electronic check</td>\n",
              "      <td>96.40</td>\n",
              "      <td>1581.20</td>\n",
              "      <td>Yes</td>\n",
              "    </tr>\n",
              "  </tbody>\n",
              "</table>\n",
              "</div>"
            ],
            "text/plain": [
              "      gender  SeniorCitizen Partner Dependents  tenure PhoneService  \\\n",
              "3616  Female              1     Yes         No      69          Yes   \n",
              "2055    Male              0      No         No      45          Yes   \n",
              "5394  Female              0     Yes         No      48          Yes   \n",
              "3697  Female              0     Yes        Yes      32          Yes   \n",
              "2516  Female              1      No         No      16          Yes   \n",
              "\n",
              "     MultipleLines InternetService OnlineSecurity OnlineBackup  \\\n",
              "3616            No     Fiber optic            Yes          Yes   \n",
              "2055           Yes     Fiber optic            Yes           No   \n",
              "5394           Yes     Fiber optic             No          Yes   \n",
              "3697           Yes     Fiber optic            Yes           No   \n",
              "2516           Yes     Fiber optic             No           No   \n",
              "\n",
              "     DeviceProtection TechSupport StreamingTV StreamingMovies        Contract  \\\n",
              "3616               No          No          No             Yes        One year   \n",
              "2055              Yes         Yes         Yes             Yes  Month-to-month   \n",
              "5394               No         Yes         Yes             Yes  Month-to-month   \n",
              "3697               No          No         Yes              No  Month-to-month   \n",
              "2516               No          No         Yes             Yes  Month-to-month   \n",
              "\n",
              "     PaperlessBilling            PaymentMethod  MonthlyCharges  TotalCharges  \\\n",
              "3616               No  Credit card (automatic)           87.30       6055.55   \n",
              "2055              Yes  Credit card (automatic)          108.45       4964.70   \n",
              "5394              Yes  Credit card (automatic)          105.10       5083.55   \n",
              "3697               No         Electronic check           89.60       2901.80   \n",
              "2516              Yes         Electronic check           96.40       1581.20   \n",
              "\n",
              "     Churn  \n",
              "3616    No  \n",
              "2055    No  \n",
              "5394    No  \n",
              "3697    No  \n",
              "2516   Yes  "
            ]
          },
          "execution_count": 27,
          "metadata": {},
          "output_type": "execute_result"
        }
      ],
      "source": [
        "# Get Data for Model Inference\n",
        "\n",
        "data_inf = df.sample(43, random_state=17)\n",
        "data_inf.head()"
      ]
    },
    {
      "cell_type": "code",
      "execution_count": 28,
      "metadata": {},
      "outputs": [
        {
          "data": {
            "text/html": [
              "<div>\n",
              "<style scoped>\n",
              "    .dataframe tbody tr th:only-of-type {\n",
              "        vertical-align: middle;\n",
              "    }\n",
              "\n",
              "    .dataframe tbody tr th {\n",
              "        vertical-align: top;\n",
              "    }\n",
              "\n",
              "    .dataframe thead th {\n",
              "        text-align: right;\n",
              "    }\n",
              "</style>\n",
              "<table border=\"1\" class=\"dataframe\">\n",
              "  <thead>\n",
              "    <tr style=\"text-align: right;\">\n",
              "      <th></th>\n",
              "      <th>gender</th>\n",
              "      <th>SeniorCitizen</th>\n",
              "      <th>Partner</th>\n",
              "      <th>Dependents</th>\n",
              "      <th>tenure</th>\n",
              "      <th>PhoneService</th>\n",
              "      <th>MultipleLines</th>\n",
              "      <th>InternetService</th>\n",
              "      <th>OnlineSecurity</th>\n",
              "      <th>OnlineBackup</th>\n",
              "      <th>DeviceProtection</th>\n",
              "      <th>TechSupport</th>\n",
              "      <th>StreamingTV</th>\n",
              "      <th>StreamingMovies</th>\n",
              "      <th>Contract</th>\n",
              "      <th>PaperlessBilling</th>\n",
              "      <th>PaymentMethod</th>\n",
              "      <th>MonthlyCharges</th>\n",
              "      <th>TotalCharges</th>\n",
              "      <th>Churn</th>\n",
              "    </tr>\n",
              "  </thead>\n",
              "  <tbody>\n",
              "    <tr>\n",
              "      <th>0</th>\n",
              "      <td>Female</td>\n",
              "      <td>0</td>\n",
              "      <td>Yes</td>\n",
              "      <td>No</td>\n",
              "      <td>1</td>\n",
              "      <td>No</td>\n",
              "      <td>No phone service</td>\n",
              "      <td>DSL</td>\n",
              "      <td>No</td>\n",
              "      <td>Yes</td>\n",
              "      <td>No</td>\n",
              "      <td>No</td>\n",
              "      <td>No</td>\n",
              "      <td>No</td>\n",
              "      <td>Month-to-month</td>\n",
              "      <td>Yes</td>\n",
              "      <td>Electronic check</td>\n",
              "      <td>29.85</td>\n",
              "      <td>29.85</td>\n",
              "      <td>No</td>\n",
              "    </tr>\n",
              "    <tr>\n",
              "      <th>1</th>\n",
              "      <td>Male</td>\n",
              "      <td>0</td>\n",
              "      <td>No</td>\n",
              "      <td>No</td>\n",
              "      <td>34</td>\n",
              "      <td>Yes</td>\n",
              "      <td>No</td>\n",
              "      <td>DSL</td>\n",
              "      <td>Yes</td>\n",
              "      <td>No</td>\n",
              "      <td>Yes</td>\n",
              "      <td>No</td>\n",
              "      <td>No</td>\n",
              "      <td>No</td>\n",
              "      <td>One year</td>\n",
              "      <td>No</td>\n",
              "      <td>Mailed check</td>\n",
              "      <td>56.95</td>\n",
              "      <td>1889.50</td>\n",
              "      <td>No</td>\n",
              "    </tr>\n",
              "    <tr>\n",
              "      <th>2</th>\n",
              "      <td>Male</td>\n",
              "      <td>0</td>\n",
              "      <td>No</td>\n",
              "      <td>No</td>\n",
              "      <td>2</td>\n",
              "      <td>Yes</td>\n",
              "      <td>No</td>\n",
              "      <td>DSL</td>\n",
              "      <td>Yes</td>\n",
              "      <td>Yes</td>\n",
              "      <td>No</td>\n",
              "      <td>No</td>\n",
              "      <td>No</td>\n",
              "      <td>No</td>\n",
              "      <td>Month-to-month</td>\n",
              "      <td>Yes</td>\n",
              "      <td>Mailed check</td>\n",
              "      <td>53.85</td>\n",
              "      <td>108.15</td>\n",
              "      <td>Yes</td>\n",
              "    </tr>\n",
              "    <tr>\n",
              "      <th>3</th>\n",
              "      <td>Male</td>\n",
              "      <td>0</td>\n",
              "      <td>No</td>\n",
              "      <td>No</td>\n",
              "      <td>45</td>\n",
              "      <td>No</td>\n",
              "      <td>No phone service</td>\n",
              "      <td>DSL</td>\n",
              "      <td>Yes</td>\n",
              "      <td>No</td>\n",
              "      <td>Yes</td>\n",
              "      <td>Yes</td>\n",
              "      <td>No</td>\n",
              "      <td>No</td>\n",
              "      <td>One year</td>\n",
              "      <td>No</td>\n",
              "      <td>Bank transfer (automatic)</td>\n",
              "      <td>42.30</td>\n",
              "      <td>1840.75</td>\n",
              "      <td>No</td>\n",
              "    </tr>\n",
              "    <tr>\n",
              "      <th>4</th>\n",
              "      <td>Female</td>\n",
              "      <td>0</td>\n",
              "      <td>No</td>\n",
              "      <td>No</td>\n",
              "      <td>2</td>\n",
              "      <td>Yes</td>\n",
              "      <td>No</td>\n",
              "      <td>Fiber optic</td>\n",
              "      <td>No</td>\n",
              "      <td>No</td>\n",
              "      <td>No</td>\n",
              "      <td>No</td>\n",
              "      <td>No</td>\n",
              "      <td>No</td>\n",
              "      <td>Month-to-month</td>\n",
              "      <td>Yes</td>\n",
              "      <td>Electronic check</td>\n",
              "      <td>70.70</td>\n",
              "      <td>151.65</td>\n",
              "      <td>Yes</td>\n",
              "    </tr>\n",
              "  </tbody>\n",
              "</table>\n",
              "</div>"
            ],
            "text/plain": [
              "   gender  SeniorCitizen Partner Dependents  tenure PhoneService  \\\n",
              "0  Female              0     Yes         No       1           No   \n",
              "1    Male              0      No         No      34          Yes   \n",
              "2    Male              0      No         No       2          Yes   \n",
              "3    Male              0      No         No      45           No   \n",
              "4  Female              0      No         No       2          Yes   \n",
              "\n",
              "      MultipleLines InternetService OnlineSecurity OnlineBackup  \\\n",
              "0  No phone service             DSL             No          Yes   \n",
              "1                No             DSL            Yes           No   \n",
              "2                No             DSL            Yes          Yes   \n",
              "3  No phone service             DSL            Yes           No   \n",
              "4                No     Fiber optic             No           No   \n",
              "\n",
              "  DeviceProtection TechSupport StreamingTV StreamingMovies        Contract  \\\n",
              "0               No          No          No              No  Month-to-month   \n",
              "1              Yes          No          No              No        One year   \n",
              "2               No          No          No              No  Month-to-month   \n",
              "3              Yes         Yes          No              No        One year   \n",
              "4               No          No          No              No  Month-to-month   \n",
              "\n",
              "  PaperlessBilling              PaymentMethod  MonthlyCharges  TotalCharges  \\\n",
              "0              Yes           Electronic check           29.85         29.85   \n",
              "1               No               Mailed check           56.95       1889.50   \n",
              "2              Yes               Mailed check           53.85        108.15   \n",
              "3               No  Bank transfer (automatic)           42.30       1840.75   \n",
              "4              Yes           Electronic check           70.70        151.65   \n",
              "\n",
              "  Churn  \n",
              "0    No  \n",
              "1    No  \n",
              "2   Yes  \n",
              "3    No  \n",
              "4   Yes  "
            ]
          },
          "execution_count": 28,
          "metadata": {},
          "output_type": "execute_result"
        }
      ],
      "source": [
        "# Remove Inference-Set from Dataset\n",
        "\n",
        "data_train_test = df.drop(data_inf.index)\n",
        "data_train_test.head()"
      ]
    },
    {
      "cell_type": "code",
      "execution_count": 29,
      "metadata": {},
      "outputs": [
        {
          "data": {
            "text/html": [
              "<div>\n",
              "<style scoped>\n",
              "    .dataframe tbody tr th:only-of-type {\n",
              "        vertical-align: middle;\n",
              "    }\n",
              "\n",
              "    .dataframe tbody tr th {\n",
              "        vertical-align: top;\n",
              "    }\n",
              "\n",
              "    .dataframe thead th {\n",
              "        text-align: right;\n",
              "    }\n",
              "</style>\n",
              "<table border=\"1\" class=\"dataframe\">\n",
              "  <thead>\n",
              "    <tr style=\"text-align: right;\">\n",
              "      <th></th>\n",
              "      <th>gender</th>\n",
              "      <th>SeniorCitizen</th>\n",
              "      <th>Partner</th>\n",
              "      <th>Dependents</th>\n",
              "      <th>tenure</th>\n",
              "      <th>PhoneService</th>\n",
              "      <th>MultipleLines</th>\n",
              "      <th>InternetService</th>\n",
              "      <th>OnlineSecurity</th>\n",
              "      <th>OnlineBackup</th>\n",
              "      <th>DeviceProtection</th>\n",
              "      <th>TechSupport</th>\n",
              "      <th>StreamingTV</th>\n",
              "      <th>StreamingMovies</th>\n",
              "      <th>Contract</th>\n",
              "      <th>PaperlessBilling</th>\n",
              "      <th>PaymentMethod</th>\n",
              "      <th>MonthlyCharges</th>\n",
              "      <th>TotalCharges</th>\n",
              "      <th>Churn</th>\n",
              "    </tr>\n",
              "  </thead>\n",
              "  <tbody>\n",
              "    <tr>\n",
              "      <th>0</th>\n",
              "      <td>Female</td>\n",
              "      <td>1</td>\n",
              "      <td>Yes</td>\n",
              "      <td>No</td>\n",
              "      <td>69</td>\n",
              "      <td>Yes</td>\n",
              "      <td>No</td>\n",
              "      <td>Fiber optic</td>\n",
              "      <td>Yes</td>\n",
              "      <td>Yes</td>\n",
              "      <td>No</td>\n",
              "      <td>No</td>\n",
              "      <td>No</td>\n",
              "      <td>Yes</td>\n",
              "      <td>One year</td>\n",
              "      <td>No</td>\n",
              "      <td>Credit card (automatic)</td>\n",
              "      <td>87.30</td>\n",
              "      <td>6055.55</td>\n",
              "      <td>No</td>\n",
              "    </tr>\n",
              "    <tr>\n",
              "      <th>1</th>\n",
              "      <td>Male</td>\n",
              "      <td>0</td>\n",
              "      <td>No</td>\n",
              "      <td>No</td>\n",
              "      <td>45</td>\n",
              "      <td>Yes</td>\n",
              "      <td>Yes</td>\n",
              "      <td>Fiber optic</td>\n",
              "      <td>Yes</td>\n",
              "      <td>No</td>\n",
              "      <td>Yes</td>\n",
              "      <td>Yes</td>\n",
              "      <td>Yes</td>\n",
              "      <td>Yes</td>\n",
              "      <td>Month-to-month</td>\n",
              "      <td>Yes</td>\n",
              "      <td>Credit card (automatic)</td>\n",
              "      <td>108.45</td>\n",
              "      <td>4964.70</td>\n",
              "      <td>No</td>\n",
              "    </tr>\n",
              "    <tr>\n",
              "      <th>2</th>\n",
              "      <td>Female</td>\n",
              "      <td>0</td>\n",
              "      <td>Yes</td>\n",
              "      <td>No</td>\n",
              "      <td>48</td>\n",
              "      <td>Yes</td>\n",
              "      <td>Yes</td>\n",
              "      <td>Fiber optic</td>\n",
              "      <td>No</td>\n",
              "      <td>Yes</td>\n",
              "      <td>No</td>\n",
              "      <td>Yes</td>\n",
              "      <td>Yes</td>\n",
              "      <td>Yes</td>\n",
              "      <td>Month-to-month</td>\n",
              "      <td>Yes</td>\n",
              "      <td>Credit card (automatic)</td>\n",
              "      <td>105.10</td>\n",
              "      <td>5083.55</td>\n",
              "      <td>No</td>\n",
              "    </tr>\n",
              "    <tr>\n",
              "      <th>3</th>\n",
              "      <td>Female</td>\n",
              "      <td>0</td>\n",
              "      <td>Yes</td>\n",
              "      <td>Yes</td>\n",
              "      <td>32</td>\n",
              "      <td>Yes</td>\n",
              "      <td>Yes</td>\n",
              "      <td>Fiber optic</td>\n",
              "      <td>Yes</td>\n",
              "      <td>No</td>\n",
              "      <td>No</td>\n",
              "      <td>No</td>\n",
              "      <td>Yes</td>\n",
              "      <td>No</td>\n",
              "      <td>Month-to-month</td>\n",
              "      <td>No</td>\n",
              "      <td>Electronic check</td>\n",
              "      <td>89.60</td>\n",
              "      <td>2901.80</td>\n",
              "      <td>No</td>\n",
              "    </tr>\n",
              "    <tr>\n",
              "      <th>4</th>\n",
              "      <td>Female</td>\n",
              "      <td>1</td>\n",
              "      <td>No</td>\n",
              "      <td>No</td>\n",
              "      <td>16</td>\n",
              "      <td>Yes</td>\n",
              "      <td>Yes</td>\n",
              "      <td>Fiber optic</td>\n",
              "      <td>No</td>\n",
              "      <td>No</td>\n",
              "      <td>No</td>\n",
              "      <td>No</td>\n",
              "      <td>Yes</td>\n",
              "      <td>Yes</td>\n",
              "      <td>Month-to-month</td>\n",
              "      <td>Yes</td>\n",
              "      <td>Electronic check</td>\n",
              "      <td>96.40</td>\n",
              "      <td>1581.20</td>\n",
              "      <td>Yes</td>\n",
              "    </tr>\n",
              "  </tbody>\n",
              "</table>\n",
              "</div>"
            ],
            "text/plain": [
              "   gender  SeniorCitizen Partner Dependents  tenure PhoneService  \\\n",
              "0  Female              1     Yes         No      69          Yes   \n",
              "1    Male              0      No         No      45          Yes   \n",
              "2  Female              0     Yes         No      48          Yes   \n",
              "3  Female              0     Yes        Yes      32          Yes   \n",
              "4  Female              1      No         No      16          Yes   \n",
              "\n",
              "  MultipleLines InternetService OnlineSecurity OnlineBackup DeviceProtection  \\\n",
              "0            No     Fiber optic            Yes          Yes               No   \n",
              "1           Yes     Fiber optic            Yes           No              Yes   \n",
              "2           Yes     Fiber optic             No          Yes               No   \n",
              "3           Yes     Fiber optic            Yes           No               No   \n",
              "4           Yes     Fiber optic             No           No               No   \n",
              "\n",
              "  TechSupport StreamingTV StreamingMovies        Contract PaperlessBilling  \\\n",
              "0          No          No             Yes        One year               No   \n",
              "1         Yes         Yes             Yes  Month-to-month              Yes   \n",
              "2         Yes         Yes             Yes  Month-to-month              Yes   \n",
              "3          No         Yes              No  Month-to-month               No   \n",
              "4          No         Yes             Yes  Month-to-month              Yes   \n",
              "\n",
              "             PaymentMethod  MonthlyCharges  TotalCharges Churn  \n",
              "0  Credit card (automatic)           87.30       6055.55    No  \n",
              "1  Credit card (automatic)          108.45       4964.70    No  \n",
              "2  Credit card (automatic)          105.10       5083.55    No  \n",
              "3         Electronic check           89.60       2901.80    No  \n",
              "4         Electronic check           96.40       1581.20   Yes  "
            ]
          },
          "execution_count": 29,
          "metadata": {},
          "output_type": "execute_result"
        }
      ],
      "source": [
        "# Reset Index\n",
        "\n",
        "data_train_test.reset_index(drop=True, inplace=True)\n",
        "data_inf.reset_index(drop=True, inplace=True)\n",
        "data_inf.head()"
      ]
    },
    {
      "cell_type": "markdown",
      "metadata": {
        "id": "uM0NHiW6R7_n"
      },
      "source": [
        "### 2. Splitting Dataset"
      ]
    },
    {
      "cell_type": "code",
      "execution_count": 30,
      "metadata": {},
      "outputs": [
        {
          "data": {
            "text/html": [
              "<div>\n",
              "<style scoped>\n",
              "    .dataframe tbody tr th:only-of-type {\n",
              "        vertical-align: middle;\n",
              "    }\n",
              "\n",
              "    .dataframe tbody tr th {\n",
              "        vertical-align: top;\n",
              "    }\n",
              "\n",
              "    .dataframe thead th {\n",
              "        text-align: right;\n",
              "    }\n",
              "</style>\n",
              "<table border=\"1\" class=\"dataframe\">\n",
              "  <thead>\n",
              "    <tr style=\"text-align: right;\">\n",
              "      <th></th>\n",
              "      <th>gender</th>\n",
              "      <th>SeniorCitizen</th>\n",
              "      <th>Partner</th>\n",
              "      <th>Dependents</th>\n",
              "      <th>tenure</th>\n",
              "      <th>PhoneService</th>\n",
              "      <th>MultipleLines</th>\n",
              "      <th>InternetService</th>\n",
              "      <th>OnlineSecurity</th>\n",
              "      <th>OnlineBackup</th>\n",
              "      <th>DeviceProtection</th>\n",
              "      <th>TechSupport</th>\n",
              "      <th>StreamingTV</th>\n",
              "      <th>StreamingMovies</th>\n",
              "      <th>Contract</th>\n",
              "      <th>PaperlessBilling</th>\n",
              "      <th>PaymentMethod</th>\n",
              "      <th>MonthlyCharges</th>\n",
              "      <th>TotalCharges</th>\n",
              "    </tr>\n",
              "  </thead>\n",
              "  <tbody>\n",
              "    <tr>\n",
              "      <th>0</th>\n",
              "      <td>Female</td>\n",
              "      <td>0</td>\n",
              "      <td>Yes</td>\n",
              "      <td>No</td>\n",
              "      <td>1</td>\n",
              "      <td>No</td>\n",
              "      <td>No phone service</td>\n",
              "      <td>DSL</td>\n",
              "      <td>No</td>\n",
              "      <td>Yes</td>\n",
              "      <td>No</td>\n",
              "      <td>No</td>\n",
              "      <td>No</td>\n",
              "      <td>No</td>\n",
              "      <td>Month-to-month</td>\n",
              "      <td>Yes</td>\n",
              "      <td>Electronic check</td>\n",
              "      <td>29.85</td>\n",
              "      <td>29.85</td>\n",
              "    </tr>\n",
              "    <tr>\n",
              "      <th>1</th>\n",
              "      <td>Male</td>\n",
              "      <td>0</td>\n",
              "      <td>No</td>\n",
              "      <td>No</td>\n",
              "      <td>34</td>\n",
              "      <td>Yes</td>\n",
              "      <td>No</td>\n",
              "      <td>DSL</td>\n",
              "      <td>Yes</td>\n",
              "      <td>No</td>\n",
              "      <td>Yes</td>\n",
              "      <td>No</td>\n",
              "      <td>No</td>\n",
              "      <td>No</td>\n",
              "      <td>One year</td>\n",
              "      <td>No</td>\n",
              "      <td>Mailed check</td>\n",
              "      <td>56.95</td>\n",
              "      <td>1889.50</td>\n",
              "    </tr>\n",
              "    <tr>\n",
              "      <th>2</th>\n",
              "      <td>Male</td>\n",
              "      <td>0</td>\n",
              "      <td>No</td>\n",
              "      <td>No</td>\n",
              "      <td>2</td>\n",
              "      <td>Yes</td>\n",
              "      <td>No</td>\n",
              "      <td>DSL</td>\n",
              "      <td>Yes</td>\n",
              "      <td>Yes</td>\n",
              "      <td>No</td>\n",
              "      <td>No</td>\n",
              "      <td>No</td>\n",
              "      <td>No</td>\n",
              "      <td>Month-to-month</td>\n",
              "      <td>Yes</td>\n",
              "      <td>Mailed check</td>\n",
              "      <td>53.85</td>\n",
              "      <td>108.15</td>\n",
              "    </tr>\n",
              "    <tr>\n",
              "      <th>3</th>\n",
              "      <td>Male</td>\n",
              "      <td>0</td>\n",
              "      <td>No</td>\n",
              "      <td>No</td>\n",
              "      <td>45</td>\n",
              "      <td>No</td>\n",
              "      <td>No phone service</td>\n",
              "      <td>DSL</td>\n",
              "      <td>Yes</td>\n",
              "      <td>No</td>\n",
              "      <td>Yes</td>\n",
              "      <td>Yes</td>\n",
              "      <td>No</td>\n",
              "      <td>No</td>\n",
              "      <td>One year</td>\n",
              "      <td>No</td>\n",
              "      <td>Bank transfer (automatic)</td>\n",
              "      <td>42.30</td>\n",
              "      <td>1840.75</td>\n",
              "    </tr>\n",
              "    <tr>\n",
              "      <th>4</th>\n",
              "      <td>Female</td>\n",
              "      <td>0</td>\n",
              "      <td>No</td>\n",
              "      <td>No</td>\n",
              "      <td>2</td>\n",
              "      <td>Yes</td>\n",
              "      <td>No</td>\n",
              "      <td>Fiber optic</td>\n",
              "      <td>No</td>\n",
              "      <td>No</td>\n",
              "      <td>No</td>\n",
              "      <td>No</td>\n",
              "      <td>No</td>\n",
              "      <td>No</td>\n",
              "      <td>Month-to-month</td>\n",
              "      <td>Yes</td>\n",
              "      <td>Electronic check</td>\n",
              "      <td>70.70</td>\n",
              "      <td>151.65</td>\n",
              "    </tr>\n",
              "    <tr>\n",
              "      <th>...</th>\n",
              "      <td>...</td>\n",
              "      <td>...</td>\n",
              "      <td>...</td>\n",
              "      <td>...</td>\n",
              "      <td>...</td>\n",
              "      <td>...</td>\n",
              "      <td>...</td>\n",
              "      <td>...</td>\n",
              "      <td>...</td>\n",
              "      <td>...</td>\n",
              "      <td>...</td>\n",
              "      <td>...</td>\n",
              "      <td>...</td>\n",
              "      <td>...</td>\n",
              "      <td>...</td>\n",
              "      <td>...</td>\n",
              "      <td>...</td>\n",
              "      <td>...</td>\n",
              "      <td>...</td>\n",
              "    </tr>\n",
              "    <tr>\n",
              "      <th>6995</th>\n",
              "      <td>Male</td>\n",
              "      <td>0</td>\n",
              "      <td>Yes</td>\n",
              "      <td>Yes</td>\n",
              "      <td>24</td>\n",
              "      <td>Yes</td>\n",
              "      <td>Yes</td>\n",
              "      <td>DSL</td>\n",
              "      <td>Yes</td>\n",
              "      <td>No</td>\n",
              "      <td>Yes</td>\n",
              "      <td>Yes</td>\n",
              "      <td>Yes</td>\n",
              "      <td>Yes</td>\n",
              "      <td>One year</td>\n",
              "      <td>Yes</td>\n",
              "      <td>Mailed check</td>\n",
              "      <td>84.80</td>\n",
              "      <td>1990.50</td>\n",
              "    </tr>\n",
              "    <tr>\n",
              "      <th>6996</th>\n",
              "      <td>Female</td>\n",
              "      <td>0</td>\n",
              "      <td>Yes</td>\n",
              "      <td>Yes</td>\n",
              "      <td>72</td>\n",
              "      <td>Yes</td>\n",
              "      <td>Yes</td>\n",
              "      <td>Fiber optic</td>\n",
              "      <td>No</td>\n",
              "      <td>Yes</td>\n",
              "      <td>Yes</td>\n",
              "      <td>No</td>\n",
              "      <td>Yes</td>\n",
              "      <td>Yes</td>\n",
              "      <td>One year</td>\n",
              "      <td>Yes</td>\n",
              "      <td>Credit card (automatic)</td>\n",
              "      <td>103.20</td>\n",
              "      <td>7362.90</td>\n",
              "    </tr>\n",
              "    <tr>\n",
              "      <th>6997</th>\n",
              "      <td>Female</td>\n",
              "      <td>0</td>\n",
              "      <td>Yes</td>\n",
              "      <td>Yes</td>\n",
              "      <td>11</td>\n",
              "      <td>No</td>\n",
              "      <td>No phone service</td>\n",
              "      <td>DSL</td>\n",
              "      <td>Yes</td>\n",
              "      <td>No</td>\n",
              "      <td>No</td>\n",
              "      <td>No</td>\n",
              "      <td>No</td>\n",
              "      <td>No</td>\n",
              "      <td>Month-to-month</td>\n",
              "      <td>Yes</td>\n",
              "      <td>Electronic check</td>\n",
              "      <td>29.60</td>\n",
              "      <td>346.45</td>\n",
              "    </tr>\n",
              "    <tr>\n",
              "      <th>6998</th>\n",
              "      <td>Male</td>\n",
              "      <td>1</td>\n",
              "      <td>Yes</td>\n",
              "      <td>No</td>\n",
              "      <td>4</td>\n",
              "      <td>Yes</td>\n",
              "      <td>Yes</td>\n",
              "      <td>Fiber optic</td>\n",
              "      <td>No</td>\n",
              "      <td>No</td>\n",
              "      <td>No</td>\n",
              "      <td>No</td>\n",
              "      <td>No</td>\n",
              "      <td>No</td>\n",
              "      <td>Month-to-month</td>\n",
              "      <td>Yes</td>\n",
              "      <td>Mailed check</td>\n",
              "      <td>74.40</td>\n",
              "      <td>306.60</td>\n",
              "    </tr>\n",
              "    <tr>\n",
              "      <th>6999</th>\n",
              "      <td>Male</td>\n",
              "      <td>0</td>\n",
              "      <td>No</td>\n",
              "      <td>No</td>\n",
              "      <td>66</td>\n",
              "      <td>Yes</td>\n",
              "      <td>No</td>\n",
              "      <td>Fiber optic</td>\n",
              "      <td>Yes</td>\n",
              "      <td>No</td>\n",
              "      <td>Yes</td>\n",
              "      <td>Yes</td>\n",
              "      <td>Yes</td>\n",
              "      <td>Yes</td>\n",
              "      <td>Two year</td>\n",
              "      <td>Yes</td>\n",
              "      <td>Bank transfer (automatic)</td>\n",
              "      <td>105.65</td>\n",
              "      <td>6844.50</td>\n",
              "    </tr>\n",
              "  </tbody>\n",
              "</table>\n",
              "<p>7000 rows × 19 columns</p>\n",
              "</div>"
            ],
            "text/plain": [
              "      gender  SeniorCitizen Partner Dependents  tenure PhoneService  \\\n",
              "0     Female              0     Yes         No       1           No   \n",
              "1       Male              0      No         No      34          Yes   \n",
              "2       Male              0      No         No       2          Yes   \n",
              "3       Male              0      No         No      45           No   \n",
              "4     Female              0      No         No       2          Yes   \n",
              "...      ...            ...     ...        ...     ...          ...   \n",
              "6995    Male              0     Yes        Yes      24          Yes   \n",
              "6996  Female              0     Yes        Yes      72          Yes   \n",
              "6997  Female              0     Yes        Yes      11           No   \n",
              "6998    Male              1     Yes         No       4          Yes   \n",
              "6999    Male              0      No         No      66          Yes   \n",
              "\n",
              "         MultipleLines InternetService OnlineSecurity OnlineBackup  \\\n",
              "0     No phone service             DSL             No          Yes   \n",
              "1                   No             DSL            Yes           No   \n",
              "2                   No             DSL            Yes          Yes   \n",
              "3     No phone service             DSL            Yes           No   \n",
              "4                   No     Fiber optic             No           No   \n",
              "...                ...             ...            ...          ...   \n",
              "6995               Yes             DSL            Yes           No   \n",
              "6996               Yes     Fiber optic             No          Yes   \n",
              "6997  No phone service             DSL            Yes           No   \n",
              "6998               Yes     Fiber optic             No           No   \n",
              "6999                No     Fiber optic            Yes           No   \n",
              "\n",
              "     DeviceProtection TechSupport StreamingTV StreamingMovies        Contract  \\\n",
              "0                  No          No          No              No  Month-to-month   \n",
              "1                 Yes          No          No              No        One year   \n",
              "2                  No          No          No              No  Month-to-month   \n",
              "3                 Yes         Yes          No              No        One year   \n",
              "4                  No          No          No              No  Month-to-month   \n",
              "...               ...         ...         ...             ...             ...   \n",
              "6995              Yes         Yes         Yes             Yes        One year   \n",
              "6996              Yes          No         Yes             Yes        One year   \n",
              "6997               No          No          No              No  Month-to-month   \n",
              "6998               No          No          No              No  Month-to-month   \n",
              "6999              Yes         Yes         Yes             Yes        Two year   \n",
              "\n",
              "     PaperlessBilling              PaymentMethod  MonthlyCharges  TotalCharges  \n",
              "0                 Yes           Electronic check           29.85         29.85  \n",
              "1                  No               Mailed check           56.95       1889.50  \n",
              "2                 Yes               Mailed check           53.85        108.15  \n",
              "3                  No  Bank transfer (automatic)           42.30       1840.75  \n",
              "4                 Yes           Electronic check           70.70        151.65  \n",
              "...               ...                        ...             ...           ...  \n",
              "6995              Yes               Mailed check           84.80       1990.50  \n",
              "6996              Yes    Credit card (automatic)          103.20       7362.90  \n",
              "6997              Yes           Electronic check           29.60        346.45  \n",
              "6998              Yes               Mailed check           74.40        306.60  \n",
              "6999              Yes  Bank transfer (automatic)          105.65       6844.50  \n",
              "\n",
              "[7000 rows x 19 columns]"
            ]
          },
          "execution_count": 30,
          "metadata": {},
          "output_type": "execute_result"
        }
      ],
      "source": [
        "# Split between X (features) and y (target)\n",
        "\n",
        "X = data_train_test.drop('Churn', axis=1)\n",
        "y = data_train_test['Churn']\n",
        "X"
      ]
    },
    {
      "cell_type": "code",
      "execution_count": 31,
      "metadata": {},
      "outputs": [
        {
          "name": "stdout",
          "output_type": "stream",
          "text": [
            "X_Train Size :  (5600, 19)\n",
            "X_Test Size  :  (1400, 19)\n",
            "y_train : (5600,)\n",
            "y_test : (1400,)\n"
          ]
        }
      ],
      "source": [
        "# Split between Train-Set and Test-Set\n",
        "\n",
        "from sklearn.model_selection import train_test_split\n",
        "\n",
        "X_train, X_test, y_train, y_test = train_test_split(X, y, test_size=0.2, stratify=y, random_state=17)\n",
        "\n",
        "print('X_Train Size : ', X_train.shape)\n",
        "print('X_Test Size  : ', X_test.shape)\n",
        "print('y_train :' , y_train.shape)\n",
        "print('y_test :', y_test.shape)"
      ]
    },
    {
      "cell_type": "code",
      "execution_count": 32,
      "metadata": {},
      "outputs": [
        {
          "name": "stdout",
          "output_type": "stream",
          "text": [
            "X_Train Size :  (5040, 19)\n",
            "X_val Size  :  (560, 19)\n",
            "y_train : (5040,)\n",
            "y_val : (560,)\n"
          ]
        }
      ],
      "source": [
        "# Split X_train, y_train into X_val and y_val for validation purpose\n",
        "\n",
        "X_train, X_val, y_train, y_val = train_test_split(X_train, y_train, test_size=0.1, stratify=y_train, random_state=17)\n",
        "\n",
        "print('X_Train Size : ', X_train.shape)\n",
        "print('X_val Size  : ', X_val.shape)\n",
        "print('y_train :' , y_train.shape)\n",
        "print('y_val :', y_val.shape)"
      ]
    },
    {
      "cell_type": "markdown",
      "metadata": {
        "id": "aYKlxTPcUxQF"
      },
      "source": [
        "### 3. Handling Outlier"
      ]
    },
    {
      "cell_type": "code",
      "execution_count": 33,
      "metadata": {},
      "outputs": [],
      "source": [
        "# Function to create histogram and cecking outlier.\n",
        "\n",
        "def cek_outlier(df, variable):\n",
        "    # Define figure size\n",
        "    plt.figure(figsize=(16, 4))\n",
        "\n",
        "    # Histogram\n",
        "    plt.subplot(1, 2, 1)\n",
        "    sns.histplot(df[variable], bins=30, kde=True, color='grey', edgecolor='black')\n",
        "    plt.title(f'{variable} Histogram')\n",
        "\n",
        "    cek_skew0 = df[variable].skew()\n",
        "    print (f'{variable} Skewness :', cek_skew0)\n",
        "\n",
        "    #normal distirbution\n",
        "    upper = df[variable].mean() + 3*df[variable].std()\n",
        "    lower = df[variable].mean() - 3*df[variable].std()\n",
        "    outlier_upper = df[df[variable] > upper]\n",
        "    outlier_lower = df[df[variable] < lower]\n",
        "    total_normal = pd.concat([outlier_upper, outlier_lower])\n",
        "\n",
        "    #skewed distribution\n",
        "    IQR = df[variable].quantile(0.75) - df[variable].quantile(0.25)\n",
        "\n",
        "    lower_skew = df[variable].quantile(0.25) - (IQR * 3)\n",
        "    upper_skew = df[variable].quantile(0.75) + (IQR * 3)\n",
        "    outlier_upper_skew = df[df[variable] > upper_skew]\n",
        "    outlier_lower_skew = df[df[variable] < lower_skew]\n",
        "    total_skew = pd.concat([outlier_upper_skew + outlier_lower_skew])\n",
        "\n",
        "    if cek_skew0 < 0.5 and cek_skew0 > -0.5:\n",
        "        # Boxplot normal distribution\n",
        "        plt.subplot(1, 2, 2)\n",
        "        sns.boxplot(y=df[variable], whis=3, palette= 'Greys')\n",
        "        plt.title('Boxplot normal dist.')\n",
        "        plt.show()\n",
        "        \n",
        "        print(f'normal distribution - Jumlah {variable} outlier : ', len(total_normal))\n",
        "        print('jumlah data : ' , len(df[variable]))\n",
        "        print('% upper outliers : ' , np.round((len(outlier_upper)/len(df[variable]) * 100),3))\n",
        "        print('% lower outliers : ' , np.round((len(outlier_lower)/len(df[variable]) * 100),3))\n",
        "        print('% Total outliers : ', np.round(((len(outlier_upper)/len(df[variable]) * 100) + (len(outlier_lower)/len(df[variable]) * 100)),3))\n",
        "        print('--------------------------------------------------------------------------------------------------------\\n')\n",
        "    else :\n",
        "        # Boxplot skewed distribution\n",
        "        plt.subplot(1, 2, 2)\n",
        "        sns.boxplot(y=df[variable], whis=3, palette= 'Greys', showmeans=True)\n",
        "        plt.title('Boxplot skewed dist.')\n",
        "        plt.show()\n",
        "\n",
        "        # Mean, median, modus\n",
        "        mean = df[variable].mean()\n",
        "        median = df[variable].median()\n",
        "        mode = df[variable].mode()[0]\n",
        "\n",
        "        if  mean > median and median > mode :\n",
        "            print (f'Right skewed distribution, Jumlah {variable} outlier : ', len(total_skew))\n",
        "        elif mean < median and median < mode :\n",
        "            print (f'Left skewed distribution, Jumlah {variable} outlier : ', len(total_skew))\n",
        "        else:\n",
        "            print(f'skewed distribution, Jumlah {variable} outlier : ', len(total_skew))\n",
        "            \n",
        "        # print(f'Jumlah {variable} outlier : ', len(total_skew))\n",
        "        print('jumlah data : ' , len(df[variable]))\n",
        "        print('% upper outliers : ' , np.round((len(outlier_upper_skew)/len(df[variable]) * 100),3))\n",
        "        print('% lower outliers : ' , np.round((len(outlier_lower_skew)/len(df[variable]) * 100),3))\n",
        "        print('% Total outliers : ', np.round(((len(outlier_upper_skew)/len(df[variable]) * 100) + (len(outlier_lower_skew)/len(df[variable]) * 100)),3))\n",
        "        print('--------------------------------------------------------------------------------------------------------\\n')\n",
        "\n",
        "# Function to see precentage of every outlier  \n",
        "def rank_normal(df, variable):\n",
        "    #normal distirbution\n",
        "    upper = df[variable].mean() + 3*df[variable].std()\n",
        "    lower = df[variable].mean() - 3*df[variable].std()\n",
        "    outlier_upper = df[df[variable] > upper]\n",
        "    outlier_lower = df[df[variable] < lower]\n",
        "    total_normal = pd.concat([outlier_upper, outlier_lower])\n",
        "    pctg = (len(total_normal)/len(df[variable])* 100)\n",
        "    print(f'{variable} : {len(total_normal)}  ({round(pctg,2)})%')\n",
        "\n",
        "def rank_skew(df, variable):\n",
        "    #skewed distribution\n",
        "    IQR = df[variable].quantile(0.75) - df[variable].quantile(0.25)\n",
        "\n",
        "    lower_skew = df[variable].quantile(0.25) - (IQR * 3)\n",
        "    upper_skew = df[variable].quantile(0.75) + (IQR * 3)\n",
        "    outlier_upper_skew = df[df[variable] > upper_skew]\n",
        "    outlier_lower_skew = df[df[variable] < lower_skew]\n",
        "    total_skew = pd.concat([outlier_upper_skew + outlier_lower_skew])\n",
        "    pctg = (len(total_skew)/len(df[variable])* 100)\n",
        "    print(f'{variable} : {len(total_skew)}  ({round(pctg,2)})%')"
      ]
    },
    {
      "cell_type": "markdown",
      "metadata": {
        "id": "LUhCAT3QzdL_"
      },
      "source": [
        "- ##### X_train :"
      ]
    },
    {
      "cell_type": "code",
      "execution_count": 34,
      "metadata": {},
      "outputs": [
        {
          "name": "stdout",
          "output_type": "stream",
          "text": [
            "['SeniorCitizen', 'tenure', 'MonthlyCharges', 'TotalCharges']\n"
          ]
        }
      ],
      "source": [
        "num_col = X_train.select_dtypes(include=np.number).columns.tolist()\n",
        "print(num_col)"
      ]
    },
    {
      "cell_type": "code",
      "execution_count": 35,
      "metadata": {},
      "outputs": [
        {
          "name": "stdout",
          "output_type": "stream",
          "text": [
            "SeniorCitizen Skewness : 1.7893869816826768\n"
          ]
        },
        {
          "data": {
            "image/png": "[encoded data removed]",
            "text/plain": [
              "<Figure size 1152x288 with 2 Axes>"
            ]
          },
          "metadata": {
            "needs_background": "light"
          },
          "output_type": "display_data"
        },
        {
          "name": "stdout",
          "output_type": "stream",
          "text": [
            "skewed distribution, Jumlah SeniorCitizen outlier :  840\n",
            "jumlah data :  5040\n",
            "% upper outliers :  16.667\n",
            "% lower outliers :  0.0\n",
            "% Total outliers :  16.667\n",
            "--------------------------------------------------------------------------------------------------------\n",
            "\n",
            "tenure Skewness : 0.2367521104344726\n"
          ]
        },
        {
          "data": {
            "image/png": "[encoded data removed]",
            "text/plain": [
              "<Figure size 1152x288 with 2 Axes>"
            ]
          },
          "metadata": {
            "needs_background": "light"
          },
          "output_type": "display_data"
        },
        {
          "name": "stdout",
          "output_type": "stream",
          "text": [
            "normal distribution - Jumlah tenure outlier :  0\n",
            "jumlah data :  5040\n",
            "% upper outliers :  0.0\n",
            "% lower outliers :  0.0\n",
            "% Total outliers :  0.0\n",
            "--------------------------------------------------------------------------------------------------------\n",
            "\n",
            "MonthlyCharges Skewness : -0.2476867709918359\n"
          ]
        },
        {
          "data": {
            "image/png": "[encoded data removed]",
            "text/plain": [
              "<Figure size 1152x288 with 2 Axes>"
            ]
          },
          "metadata": {
            "needs_background": "light"
          },
          "output_type": "display_data"
        },
        {
          "name": "stdout",
          "output_type": "stream",
          "text": [
            "normal distribution - Jumlah MonthlyCharges outlier :  0\n",
            "jumlah data :  5040\n",
            "% upper outliers :  0.0\n",
            "% lower outliers :  0.0\n",
            "% Total outliers :  0.0\n",
            "--------------------------------------------------------------------------------------------------------\n",
            "\n",
            "TotalCharges Skewness : 0.9419388280144597\n"
          ]
        },
        {
          "data": {
            "image/png": "[encoded data removed]",
            "text/plain": [
              "<Figure size 1152x288 with 2 Axes>"
            ]
          },
          "metadata": {
            "needs_background": "light"
          },
          "output_type": "display_data"
        },
        {
          "name": "stdout",
          "output_type": "stream",
          "text": [
            "Right skewed distribution, Jumlah TotalCharges outlier :  0\n",
            "jumlah data :  5040\n",
            "% upper outliers :  0.0\n",
            "% lower outliers :  0.0\n",
            "% Total outliers :  0.0\n",
            "--------------------------------------------------------------------------------------------------------\n",
            "\n"
          ]
        }
      ],
      "source": [
        "for i in num_col:\n",
        "    cek_outlier(X_train, i)"
      ]
    },
    {
      "cell_type": "code",
      "execution_count": 36,
      "metadata": {},
      "outputs": [
        {
          "name": "stdout",
          "output_type": "stream",
          "text": [
            "Normal :\n",
            "----------------------\n",
            "tenure : 0  (0.0)%\n",
            "MonthlyCharges : 0  (0.0)%\n",
            "\n",
            "Skewed : \n",
            "--------------------------\n",
            "SeniorCitizen : 840  (16.67)%\n",
            "TotalCharges : 0  (0.0)%\n"
          ]
        }
      ],
      "source": [
        "# looping untuk membagi data normal distribution dan skewed distribution\n",
        "normal = []\n",
        "skew = []\n",
        "for i in num_col:\n",
        "    if X_train[i].skew() > - 0.5 and X_train[i].skew() < 0.5 :\n",
        "        normal.append(i)\n",
        "    else :\n",
        "        skew.append(i)\n",
        "\n",
        "print('Normal :\\n----------------------')\n",
        "for i in normal:\n",
        "    rank_normal(X_train, i)\n",
        "print('\\nSkewed : \\n--------------------------')\n",
        "for i in skew:\n",
        "    rank_skew(X_train, i)"
      ]
    },
    {
      "cell_type": "markdown",
      "metadata": {},
      "source": [
        "`From the result above, we can see that the only outliers we have is from SeniorCitizen. However, if we take a closer look at its value, i think it is not an outlier that need to be handled. Its value is how it is collected from customers.`"
      ]
    },
    {
      "cell_type": "markdown",
      "metadata": {
        "id": "P0CEP7MszdL_"
      },
      "source": [
        "- ##### y_train :"
      ]
    },
    {
      "cell_type": "markdown",
      "metadata": {},
      "source": [
        "`No outliers.`"
      ]
    },
    {
      "cell_type": "markdown",
      "metadata": {
        "id": "Jbj7zYHMU44K"
      },
      "source": [
        "\n",
        "###  4. Handling Missing Values"
      ]
    },
    {
      "cell_type": "markdown",
      "metadata": {
        "id": "Sw59wyYNzdMA"
      },
      "source": [
        "#### TRAIN SET"
      ]
    },
    {
      "cell_type": "markdown",
      "metadata": {
        "id": "GgbN21gjzdMB"
      },
      "source": [
        "* X_train :"
      ]
    },
    {
      "cell_type": "code",
      "execution_count": 37,
      "metadata": {},
      "outputs": [
        {
          "data": {
            "text/html": [
              "<div>\n",
              "<style scoped>\n",
              "    .dataframe tbody tr th:only-of-type {\n",
              "        vertical-align: middle;\n",
              "    }\n",
              "\n",
              "    .dataframe tbody tr th {\n",
              "        vertical-align: top;\n",
              "    }\n",
              "\n",
              "    .dataframe thead th {\n",
              "        text-align: right;\n",
              "    }\n",
              "</style>\n",
              "<table border=\"1\" class=\"dataframe\">\n",
              "  <thead>\n",
              "    <tr style=\"text-align: right;\">\n",
              "      <th></th>\n",
              "      <th>missing value</th>\n",
              "      <th>%pctg</th>\n",
              "    </tr>\n",
              "  </thead>\n",
              "  <tbody>\n",
              "    <tr>\n",
              "      <th>TotalCharges</th>\n",
              "      <td>9</td>\n",
              "      <td>0.2</td>\n",
              "    </tr>\n",
              "  </tbody>\n",
              "</table>\n",
              "</div>"
            ],
            "text/plain": [
              "              missing value  %pctg\n",
              "TotalCharges              9    0.2"
            ]
          },
          "execution_count": 37,
          "metadata": {},
          "output_type": "execute_result"
        }
      ],
      "source": [
        "# Checking missing values\n",
        "\n",
        "missing = pd.DataFrame(X_train.isnull().sum(), columns = ['missing value'])\n",
        "missing['%pctg'] = (missing/len(X_train)).round(3) * 100\n",
        "missing[missing['missing value'] > 0].sort_values(by='%pctg')"
      ]
    },
    {
      "cell_type": "markdown",
      "metadata": {},
      "source": [
        "`a small number of missing values that we can handle by simply dropping the rows.`"
      ]
    },
    {
      "cell_type": "code",
      "execution_count": 38,
      "metadata": {},
      "outputs": [],
      "source": [
        "# Drop missing values\n",
        "\n",
        "X_train.dropna(axis=0, subset=['TotalCharges'], inplace=True)"
      ]
    },
    {
      "cell_type": "markdown",
      "metadata": {
        "id": "Vs1yhxdvzdMB"
      },
      "source": [
        "* y_train :"
      ]
    },
    {
      "cell_type": "code",
      "execution_count": 39,
      "metadata": {},
      "outputs": [
        {
          "data": {
            "text/plain": [
              "(5031, 19)"
            ]
          },
          "execution_count": 39,
          "metadata": {},
          "output_type": "execute_result"
        }
      ],
      "source": [
        "X_train.shape"
      ]
    },
    {
      "cell_type": "code",
      "execution_count": 40,
      "metadata": {},
      "outputs": [
        {
          "data": {
            "text/plain": [
              "(5040,)"
            ]
          },
          "execution_count": 40,
          "metadata": {},
          "output_type": "execute_result"
        }
      ],
      "source": [
        "y_train.shape"
      ]
    },
    {
      "cell_type": "code",
      "execution_count": 41,
      "metadata": {},
      "outputs": [],
      "source": [
        "# make the dimensions of y_train similar to X_train\n",
        "\n",
        "y_train = y_train.loc[X_train.index]"
      ]
    },
    {
      "cell_type": "code",
      "execution_count": 42,
      "metadata": {},
      "outputs": [
        {
          "data": {
            "text/plain": [
              "(5031,)"
            ]
          },
          "execution_count": 42,
          "metadata": {},
          "output_type": "execute_result"
        }
      ],
      "source": [
        "# check the rsult \n",
        "\n",
        "y_train.shape"
      ]
    },
    {
      "cell_type": "markdown",
      "metadata": {
        "id": "RfjDYYSYzdMB"
      },
      "source": [
        "#### TEST SET"
      ]
    },
    {
      "cell_type": "markdown",
      "metadata": {
        "id": "tpkkiGALzdMC"
      },
      "source": [
        "* X_test :"
      ]
    },
    {
      "cell_type": "code",
      "execution_count": 43,
      "metadata": {},
      "outputs": [
        {
          "data": {
            "text/plain": [
              "gender              0\n",
              "SeniorCitizen       0\n",
              "Partner             0\n",
              "Dependents          0\n",
              "tenure              0\n",
              "PhoneService        0\n",
              "MultipleLines       0\n",
              "InternetService     0\n",
              "OnlineSecurity      0\n",
              "OnlineBackup        0\n",
              "DeviceProtection    0\n",
              "TechSupport         0\n",
              "StreamingTV         0\n",
              "StreamingMovies     0\n",
              "Contract            0\n",
              "PaperlessBilling    0\n",
              "PaymentMethod       0\n",
              "MonthlyCharges      0\n",
              "TotalCharges        1\n",
              "dtype: int64"
            ]
          },
          "execution_count": 43,
          "metadata": {},
          "output_type": "execute_result"
        }
      ],
      "source": [
        "X_test.isnull().sum()"
      ]
    },
    {
      "cell_type": "code",
      "execution_count": 44,
      "metadata": {},
      "outputs": [],
      "source": [
        "# Drop missing values\n",
        "\n",
        "X_test.dropna(axis=0, subset=['TotalCharges'], inplace=True)"
      ]
    },
    {
      "cell_type": "markdown",
      "metadata": {
        "id": "1Ji1hNPGzdMC"
      },
      "source": [
        "* y_test :"
      ]
    },
    {
      "cell_type": "code",
      "execution_count": 45,
      "metadata": {},
      "outputs": [],
      "source": [
        "# make the dimensions of y_train similar to X_train\n",
        "\n",
        "y_test = y_test.loc[X_test.index]"
      ]
    },
    {
      "cell_type": "markdown",
      "metadata": {
        "id": "RfjDYYSYzdMB"
      },
      "source": [
        "#### Validation SET"
      ]
    },
    {
      "cell_type": "markdown",
      "metadata": {},
      "source": [
        "* X_val"
      ]
    },
    {
      "cell_type": "code",
      "execution_count": 46,
      "metadata": {},
      "outputs": [
        {
          "data": {
            "text/plain": [
              "gender              0\n",
              "SeniorCitizen       0\n",
              "Partner             0\n",
              "Dependents          0\n",
              "tenure              0\n",
              "PhoneService        0\n",
              "MultipleLines       0\n",
              "InternetService     0\n",
              "OnlineSecurity      0\n",
              "OnlineBackup        0\n",
              "DeviceProtection    0\n",
              "TechSupport         0\n",
              "StreamingTV         0\n",
              "StreamingMovies     0\n",
              "Contract            0\n",
              "PaperlessBilling    0\n",
              "PaymentMethod       0\n",
              "MonthlyCharges      0\n",
              "TotalCharges        1\n",
              "dtype: int64"
            ]
          },
          "execution_count": 46,
          "metadata": {},
          "output_type": "execute_result"
        }
      ],
      "source": [
        "X_val.isnull().sum()"
      ]
    },
    {
      "cell_type": "code",
      "execution_count": 47,
      "metadata": {},
      "outputs": [],
      "source": [
        "# Drop missing values\n",
        "\n",
        "X_val.dropna(axis=0, subset=['TotalCharges'], inplace=True)"
      ]
    },
    {
      "cell_type": "markdown",
      "metadata": {},
      "source": [
        "* y_val"
      ]
    },
    {
      "cell_type": "code",
      "execution_count": 48,
      "metadata": {},
      "outputs": [],
      "source": [
        "# make the dimensions of y_train similar to X_train\n",
        "\n",
        "y_val = y_val.loc[X_val.index]"
      ]
    },
    {
      "cell_type": "markdown",
      "metadata": {},
      "source": [
        "### 5. Handling Imbalance"
      ]
    },
    {
      "cell_type": "markdown",
      "metadata": {},
      "source": [
        "* Split X_train into numerical and categorical"
      ]
    },
    {
      "cell_type": "code",
      "execution_count": 49,
      "metadata": {},
      "outputs": [
        {
          "name": "stdout",
          "output_type": "stream",
          "text": [
            "Numerical Columns :  ['SeniorCitizen', 'tenure', 'MonthlyCharges', 'TotalCharges']\n",
            "\n",
            "------------------------------------------------------------------------------------------\n",
            "\n",
            "Categorical Columns :  ['gender', 'Partner', 'Dependents', 'PhoneService', 'MultipleLines', 'InternetService', 'OnlineSecurity', 'OnlineBackup', 'DeviceProtection', 'TechSupport', 'StreamingTV', 'StreamingMovies', 'Contract', 'PaperlessBilling', 'PaymentMethod']\n"
          ]
        }
      ],
      "source": [
        "# Get Numerical Columns and Categorical Columns\n",
        "\n",
        "num_columns = X_train.select_dtypes(include=np.number).columns.tolist()\n",
        "cat_columns = X_train.select_dtypes(include=['object']).columns.tolist()\n",
        "\n",
        "print('Numerical Columns : ', num_columns)\n",
        "print('\\n------------------------------------------------------------------------------------------\\n')\n",
        "print('Categorical Columns : ', cat_columns)"
      ]
    },
    {
      "cell_type": "code",
      "execution_count": 50,
      "metadata": {},
      "outputs": [],
      "source": [
        "# Split Train-Set in to Categorical dan numerical\n",
        "\n",
        "X_train_imbalanced_num = X_train[num_columns].reset_index().drop(['index'], axis = 1)\n",
        "X_train_imbalanced_cat = X_train[cat_columns].reset_index().drop(['index'], axis = 1)"
      ]
    },
    {
      "cell_type": "markdown",
      "metadata": {},
      "source": [
        "* Feature scaling"
      ]
    },
    {
      "cell_type": "code",
      "execution_count": 51,
      "metadata": {},
      "outputs": [],
      "source": [
        "# Numeric Scaling\n",
        "from sklearn.preprocessing import StandardScaler\n",
        "\n",
        "sc = StandardScaler()\n",
        "sc = sc.fit(X_train_imbalanced_num)\n",
        "X_train_imbalanced_num = sc.transform(X_train_imbalanced_num)"
      ]
    },
    {
      "cell_type": "markdown",
      "metadata": {},
      "source": [
        "* Merge with Categorical Column"
      ]
    },
    {
      "cell_type": "code",
      "execution_count": 52,
      "metadata": {},
      "outputs": [
        {
          "data": {
            "text/html": [
              "<div>\n",
              "<style scoped>\n",
              "    .dataframe tbody tr th:only-of-type {\n",
              "        vertical-align: middle;\n",
              "    }\n",
              "\n",
              "    .dataframe tbody tr th {\n",
              "        vertical-align: top;\n",
              "    }\n",
              "\n",
              "    .dataframe thead th {\n",
              "        text-align: right;\n",
              "    }\n",
              "</style>\n",
              "<table border=\"1\" class=\"dataframe\">\n",
              "  <thead>\n",
              "    <tr style=\"text-align: right;\">\n",
              "      <th></th>\n",
              "      <th>SeniorCitizen</th>\n",
              "      <th>tenure</th>\n",
              "      <th>MonthlyCharges</th>\n",
              "      <th>TotalCharges</th>\n",
              "      <th>gender</th>\n",
              "      <th>Partner</th>\n",
              "      <th>Dependents</th>\n",
              "      <th>PhoneService</th>\n",
              "      <th>MultipleLines</th>\n",
              "      <th>InternetService</th>\n",
              "      <th>OnlineSecurity</th>\n",
              "      <th>OnlineBackup</th>\n",
              "      <th>DeviceProtection</th>\n",
              "      <th>TechSupport</th>\n",
              "      <th>StreamingTV</th>\n",
              "      <th>StreamingMovies</th>\n",
              "      <th>Contract</th>\n",
              "      <th>PaperlessBilling</th>\n",
              "      <th>PaymentMethod</th>\n",
              "    </tr>\n",
              "  </thead>\n",
              "  <tbody>\n",
              "    <tr>\n",
              "      <th>0</th>\n",
              "      <td>-0.447694</td>\n",
              "      <td>-1.201291</td>\n",
              "      <td>-0.686443</td>\n",
              "      <td>-0.948163</td>\n",
              "      <td>Female</td>\n",
              "      <td>No</td>\n",
              "      <td>No</td>\n",
              "      <td>Yes</td>\n",
              "      <td>No</td>\n",
              "      <td>DSL</td>\n",
              "      <td>No</td>\n",
              "      <td>No</td>\n",
              "      <td>No</td>\n",
              "      <td>No</td>\n",
              "      <td>No</td>\n",
              "      <td>No</td>\n",
              "      <td>Month-to-month</td>\n",
              "      <td>No</td>\n",
              "      <td>Mailed check</td>\n",
              "    </tr>\n",
              "    <tr>\n",
              "      <th>1</th>\n",
              "      <td>-0.447694</td>\n",
              "      <td>0.392263</td>\n",
              "      <td>1.368876</td>\n",
              "      <td>0.983652</td>\n",
              "      <td>Male</td>\n",
              "      <td>Yes</td>\n",
              "      <td>No</td>\n",
              "      <td>Yes</td>\n",
              "      <td>Yes</td>\n",
              "      <td>Fiber optic</td>\n",
              "      <td>No</td>\n",
              "      <td>No</td>\n",
              "      <td>Yes</td>\n",
              "      <td>Yes</td>\n",
              "      <td>Yes</td>\n",
              "      <td>Yes</td>\n",
              "      <td>Month-to-month</td>\n",
              "      <td>Yes</td>\n",
              "      <td>Bank transfer (automatic)</td>\n",
              "    </tr>\n",
              "    <tr>\n",
              "      <th>2</th>\n",
              "      <td>-0.447694</td>\n",
              "      <td>0.555704</td>\n",
              "      <td>-1.523299</td>\n",
              "      <td>-0.634600</td>\n",
              "      <td>Male</td>\n",
              "      <td>Yes</td>\n",
              "      <td>Yes</td>\n",
              "      <td>Yes</td>\n",
              "      <td>No</td>\n",
              "      <td>No</td>\n",
              "      <td>No internet service</td>\n",
              "      <td>No internet service</td>\n",
              "      <td>No internet service</td>\n",
              "      <td>No internet service</td>\n",
              "      <td>No internet service</td>\n",
              "      <td>No internet service</td>\n",
              "      <td>Two year</td>\n",
              "      <td>No</td>\n",
              "      <td>Credit card (automatic)</td>\n",
              "    </tr>\n",
              "    <tr>\n",
              "      <th>3</th>\n",
              "      <td>-0.447694</td>\n",
              "      <td>-0.424944</td>\n",
              "      <td>-1.513257</td>\n",
              "      <td>-0.805578</td>\n",
              "      <td>Female</td>\n",
              "      <td>No</td>\n",
              "      <td>No</td>\n",
              "      <td>Yes</td>\n",
              "      <td>No</td>\n",
              "      <td>No</td>\n",
              "      <td>No internet service</td>\n",
              "      <td>No internet service</td>\n",
              "      <td>No internet service</td>\n",
              "      <td>No internet service</td>\n",
              "      <td>No internet service</td>\n",
              "      <td>No internet service</td>\n",
              "      <td>Month-to-month</td>\n",
              "      <td>Yes</td>\n",
              "      <td>Mailed check</td>\n",
              "    </tr>\n",
              "    <tr>\n",
              "      <th>4</th>\n",
              "      <td>-0.447694</td>\n",
              "      <td>-0.343224</td>\n",
              "      <td>0.481808</td>\n",
              "      <td>-0.160039</td>\n",
              "      <td>Female</td>\n",
              "      <td>Yes</td>\n",
              "      <td>No</td>\n",
              "      <td>Yes</td>\n",
              "      <td>Yes</td>\n",
              "      <td>Fiber optic</td>\n",
              "      <td>No</td>\n",
              "      <td>No</td>\n",
              "      <td>Yes</td>\n",
              "      <td>No</td>\n",
              "      <td>No</td>\n",
              "      <td>No</td>\n",
              "      <td>Month-to-month</td>\n",
              "      <td>Yes</td>\n",
              "      <td>Mailed check</td>\n",
              "    </tr>\n",
              "    <tr>\n",
              "      <th>...</th>\n",
              "      <td>...</td>\n",
              "      <td>...</td>\n",
              "      <td>...</td>\n",
              "      <td>...</td>\n",
              "      <td>...</td>\n",
              "      <td>...</td>\n",
              "      <td>...</td>\n",
              "      <td>...</td>\n",
              "      <td>...</td>\n",
              "      <td>...</td>\n",
              "      <td>...</td>\n",
              "      <td>...</td>\n",
              "      <td>...</td>\n",
              "      <td>...</td>\n",
              "      <td>...</td>\n",
              "      <td>...</td>\n",
              "      <td>...</td>\n",
              "      <td>...</td>\n",
              "      <td>...</td>\n",
              "    </tr>\n",
              "    <tr>\n",
              "      <th>5026</th>\n",
              "      <td>-0.447694</td>\n",
              "      <td>-0.751827</td>\n",
              "      <td>0.523651</td>\n",
              "      <td>-0.503456</td>\n",
              "      <td>Female</td>\n",
              "      <td>Yes</td>\n",
              "      <td>Yes</td>\n",
              "      <td>Yes</td>\n",
              "      <td>No</td>\n",
              "      <td>Fiber optic</td>\n",
              "      <td>No</td>\n",
              "      <td>No</td>\n",
              "      <td>No</td>\n",
              "      <td>No</td>\n",
              "      <td>No</td>\n",
              "      <td>Yes</td>\n",
              "      <td>Month-to-month</td>\n",
              "      <td>Yes</td>\n",
              "      <td>Bank transfer (automatic)</td>\n",
              "    </tr>\n",
              "    <tr>\n",
              "      <th>5027</th>\n",
              "      <td>-0.447694</td>\n",
              "      <td>-1.037849</td>\n",
              "      <td>0.322806</td>\n",
              "      <td>-0.774175</td>\n",
              "      <td>Female</td>\n",
              "      <td>No</td>\n",
              "      <td>No</td>\n",
              "      <td>Yes</td>\n",
              "      <td>Yes</td>\n",
              "      <td>Fiber optic</td>\n",
              "      <td>No</td>\n",
              "      <td>No</td>\n",
              "      <td>No</td>\n",
              "      <td>No</td>\n",
              "      <td>No</td>\n",
              "      <td>No</td>\n",
              "      <td>Month-to-month</td>\n",
              "      <td>Yes</td>\n",
              "      <td>Electronic check</td>\n",
              "    </tr>\n",
              "    <tr>\n",
              "      <th>5028</th>\n",
              "      <td>-0.447694</td>\n",
              "      <td>0.800866</td>\n",
              "      <td>1.253390</td>\n",
              "      <td>1.260457</td>\n",
              "      <td>Female</td>\n",
              "      <td>Yes</td>\n",
              "      <td>No</td>\n",
              "      <td>Yes</td>\n",
              "      <td>Yes</td>\n",
              "      <td>Fiber optic</td>\n",
              "      <td>No</td>\n",
              "      <td>Yes</td>\n",
              "      <td>No</td>\n",
              "      <td>Yes</td>\n",
              "      <td>Yes</td>\n",
              "      <td>Yes</td>\n",
              "      <td>Month-to-month</td>\n",
              "      <td>Yes</td>\n",
              "      <td>Credit card (automatic)</td>\n",
              "    </tr>\n",
              "    <tr>\n",
              "      <th>5029</th>\n",
              "      <td>-0.447694</td>\n",
              "      <td>1.372911</td>\n",
              "      <td>-1.198599</td>\n",
              "      <td>-0.135939</td>\n",
              "      <td>Male</td>\n",
              "      <td>No</td>\n",
              "      <td>No</td>\n",
              "      <td>No</td>\n",
              "      <td>No phone service</td>\n",
              "      <td>DSL</td>\n",
              "      <td>No</td>\n",
              "      <td>No</td>\n",
              "      <td>No</td>\n",
              "      <td>Yes</td>\n",
              "      <td>No</td>\n",
              "      <td>No</td>\n",
              "      <td>One year</td>\n",
              "      <td>No</td>\n",
              "      <td>Credit card (automatic)</td>\n",
              "    </tr>\n",
              "    <tr>\n",
              "      <th>5030</th>\n",
              "      <td>-0.447694</td>\n",
              "      <td>1.618073</td>\n",
              "      <td>-1.379360</td>\n",
              "      <td>-0.257213</td>\n",
              "      <td>Female</td>\n",
              "      <td>Yes</td>\n",
              "      <td>Yes</td>\n",
              "      <td>Yes</td>\n",
              "      <td>Yes</td>\n",
              "      <td>No</td>\n",
              "      <td>No internet service</td>\n",
              "      <td>No internet service</td>\n",
              "      <td>No internet service</td>\n",
              "      <td>No internet service</td>\n",
              "      <td>No internet service</td>\n",
              "      <td>No internet service</td>\n",
              "      <td>Two year</td>\n",
              "      <td>Yes</td>\n",
              "      <td>Bank transfer (automatic)</td>\n",
              "    </tr>\n",
              "  </tbody>\n",
              "</table>\n",
              "<p>5031 rows × 19 columns</p>\n",
              "</div>"
            ],
            "text/plain": [
              "      SeniorCitizen    tenure  MonthlyCharges  TotalCharges  gender Partner  \\\n",
              "0         -0.447694 -1.201291       -0.686443     -0.948163  Female      No   \n",
              "1         -0.447694  0.392263        1.368876      0.983652    Male     Yes   \n",
              "2         -0.447694  0.555704       -1.523299     -0.634600    Male     Yes   \n",
              "3         -0.447694 -0.424944       -1.513257     -0.805578  Female      No   \n",
              "4         -0.447694 -0.343224        0.481808     -0.160039  Female     Yes   \n",
              "...             ...       ...             ...           ...     ...     ...   \n",
              "5026      -0.447694 -0.751827        0.523651     -0.503456  Female     Yes   \n",
              "5027      -0.447694 -1.037849        0.322806     -0.774175  Female      No   \n",
              "5028      -0.447694  0.800866        1.253390      1.260457  Female     Yes   \n",
              "5029      -0.447694  1.372911       -1.198599     -0.135939    Male      No   \n",
              "5030      -0.447694  1.618073       -1.379360     -0.257213  Female     Yes   \n",
              "\n",
              "     Dependents PhoneService     MultipleLines InternetService  \\\n",
              "0            No          Yes                No             DSL   \n",
              "1            No          Yes               Yes     Fiber optic   \n",
              "2           Yes          Yes                No              No   \n",
              "3            No          Yes                No              No   \n",
              "4            No          Yes               Yes     Fiber optic   \n",
              "...         ...          ...               ...             ...   \n",
              "5026        Yes          Yes                No     Fiber optic   \n",
              "5027         No          Yes               Yes     Fiber optic   \n",
              "5028         No          Yes               Yes     Fiber optic   \n",
              "5029         No           No  No phone service             DSL   \n",
              "5030        Yes          Yes               Yes              No   \n",
              "\n",
              "           OnlineSecurity         OnlineBackup     DeviceProtection  \\\n",
              "0                      No                   No                   No   \n",
              "1                      No                   No                  Yes   \n",
              "2     No internet service  No internet service  No internet service   \n",
              "3     No internet service  No internet service  No internet service   \n",
              "4                      No                   No                  Yes   \n",
              "...                   ...                  ...                  ...   \n",
              "5026                   No                   No                   No   \n",
              "5027                   No                   No                   No   \n",
              "5028                   No                  Yes                   No   \n",
              "5029                   No                   No                   No   \n",
              "5030  No internet service  No internet service  No internet service   \n",
              "\n",
              "              TechSupport          StreamingTV      StreamingMovies  \\\n",
              "0                      No                   No                   No   \n",
              "1                     Yes                  Yes                  Yes   \n",
              "2     No internet service  No internet service  No internet service   \n",
              "3     No internet service  No internet service  No internet service   \n",
              "4                      No                   No                   No   \n",
              "...                   ...                  ...                  ...   \n",
              "5026                   No                   No                  Yes   \n",
              "5027                   No                   No                   No   \n",
              "5028                  Yes                  Yes                  Yes   \n",
              "5029                  Yes                   No                   No   \n",
              "5030  No internet service  No internet service  No internet service   \n",
              "\n",
              "            Contract PaperlessBilling              PaymentMethod  \n",
              "0     Month-to-month               No               Mailed check  \n",
              "1     Month-to-month              Yes  Bank transfer (automatic)  \n",
              "2           Two year               No    Credit card (automatic)  \n",
              "3     Month-to-month              Yes               Mailed check  \n",
              "4     Month-to-month              Yes               Mailed check  \n",
              "...              ...              ...                        ...  \n",
              "5026  Month-to-month              Yes  Bank transfer (automatic)  \n",
              "5027  Month-to-month              Yes           Electronic check  \n",
              "5028  Month-to-month              Yes    Credit card (automatic)  \n",
              "5029        One year               No    Credit card (automatic)  \n",
              "5030        Two year              Yes  Bank transfer (automatic)  \n",
              "\n",
              "[5031 rows x 19 columns]"
            ]
          },
          "execution_count": 52,
          "metadata": {},
          "output_type": "execute_result"
        }
      ],
      "source": [
        "# Merge with Categorical Column\n",
        "\n",
        "X_train_imbalanced_new = pd.DataFrame(data=X_train_imbalanced_num, columns=num_columns)\n",
        "X_train_imbalanced_new = pd.concat([X_train_imbalanced_new, X_train_imbalanced_cat], axis=1)\n",
        "X_train_imbalanced_new"
      ]
    },
    {
      "cell_type": "markdown",
      "metadata": {},
      "source": [
        "* SMOTENC"
      ]
    },
    {
      "cell_type": "code",
      "execution_count": 53,
      "metadata": {},
      "outputs": [
        {
          "data": {
            "text/plain": [
              "No     3695\n",
              "Yes    1336\n",
              "Name: Churn, dtype: int64"
            ]
          },
          "execution_count": 53,
          "metadata": {},
          "output_type": "execute_result"
        }
      ],
      "source": [
        "y_train.value_counts()"
      ]
    },
    {
      "cell_type": "code",
      "execution_count": 54,
      "metadata": {},
      "outputs": [
        {
          "data": {
            "text/plain": [
              "No     3695\n",
              "Yes    3695\n",
              "Name: Churn, dtype: int64"
            ]
          },
          "execution_count": 54,
          "metadata": {},
          "output_type": "execute_result"
        }
      ],
      "source": [
        "# SMOTE-NC\n",
        "\n",
        "from imblearn.over_sampling import SMOTENC\n",
        "\n",
        "smotenc = SMOTENC([4,5, 6, 7, 8, 9, 10, 11, 12, 13, 14, 15, 16, 17, 18], random_state = 42)\n",
        "X_train, y_train = smotenc.fit_resample(X_train_imbalanced_new, y_train)\n",
        "y_train.value_counts()"
      ]
    },
    {
      "cell_type": "markdown",
      "metadata": {},
      "source": [
        "`Now that the column target Churn is balanced by using oversampling SMOTENC method.`"
      ]
    },
    {
      "cell_type": "markdown",
      "metadata": {
        "id": "Cvp33WdhVZS5"
      },
      "source": [
        "### 5. Feature Selection"
      ]
    },
    {
      "cell_type": "markdown",
      "metadata": {},
      "source": [
        "##### 1. Label Encoding"
      ]
    },
    {
      "cell_type": "code",
      "execution_count": 55,
      "metadata": {},
      "outputs": [],
      "source": [
        "from sklearn.preprocessing import LabelEncoder\n",
        "\n",
        "le = LabelEncoder()\n",
        "le.fit(y_train)\n",
        "\n",
        "# Encode\n",
        "y_train = le.transform(y_train)\n",
        "y_test = le.transform(y_test)\n",
        "y_val = le.transform(y_val)"
      ]
    },
    {
      "cell_type": "code",
      "execution_count": 56,
      "metadata": {},
      "outputs": [
        {
          "data": {
            "text/plain": [
              "array([0, 1, 0, ..., 1, 1, 1])"
            ]
          },
          "execution_count": 56,
          "metadata": {},
          "output_type": "execute_result"
        }
      ],
      "source": [
        "# check the encoding result\n",
        "y_train"
      ]
    },
    {
      "cell_type": "markdown",
      "metadata": {},
      "source": [
        "##### 2. Handling confusing value by mapping"
      ]
    },
    {
      "cell_type": "markdown",
      "metadata": {},
      "source": [
        "There are several columns that have confusing value in it so we have to handle it by mapping/replacing its value manually. The aforementioned columns are :\n",
        "\n",
        "        * MultipleLines (3): ['No phone service' 'No' 'Yes']\n",
        "\n",
        "        * OnlineSecurity (3): ['No' 'Yes' 'No internet service']\n",
        "\n",
        "        * OnlineBackup (3): ['Yes' 'No' 'No internet service']\n",
        "\n",
        "        * DeviceProtection (3): ['No' 'Yes' 'No internet service']\n",
        "\n",
        "        * TechSupport (3): ['No' 'Yes' 'No internet service']\n",
        "\n",
        "        * StreamingTV (3): ['No' 'Yes' 'No internet service']\n",
        "\n",
        "        * StreamingMovies (3): ['No' 'Yes' 'No internet service']\n",
        "\n",
        "In this case i would like to use replace method to change Both 'No phone service' and 'No internet service' to No."
      ]
    },
    {
      "cell_type": "code",
      "execution_count": 57,
      "metadata": {},
      "outputs": [],
      "source": [
        "# Replace value \n",
        "\n",
        "X_train = X_train.replace('No phone service', 'No')\n",
        "X_train = X_train.replace('No internet service', 'No')\n",
        "\n",
        "X_test = X_test.replace('No phone service', 'No')\n",
        "X_test = X_test.replace('No internet service', 'No')\n",
        "\n",
        "X_val = X_val.replace('No phone service', 'No')\n",
        "X_val = X_val.replace('No internet service', 'No')"
      ]
    },
    {
      "cell_type": "code",
      "execution_count": 58,
      "metadata": {},
      "outputs": [
        {
          "name": "stdout",
          "output_type": "stream",
          "text": [
            "Categorical Columns : \n",
            "MultipleLines (2): ['No' 'Yes']\n",
            "----------------------------------------\n",
            "OnlineSecurity (2): ['No' 'Yes']\n",
            "----------------------------------------\n",
            "OnlineBackup (2): ['No' 'Yes']\n",
            "----------------------------------------\n",
            "DeviceProtection (2): ['No' 'Yes']\n",
            "----------------------------------------\n",
            "TechSupport (2): ['No' 'Yes']\n",
            "----------------------------------------\n",
            "StreamingTV (2): ['No' 'Yes']\n",
            "----------------------------------------\n",
            "StreamingMovies (2): ['No' 'Yes']\n",
            "----------------------------------------\n"
          ]
        }
      ],
      "source": [
        "# Checking the result\n",
        "\n",
        "X_col = ['MultipleLines', 'OnlineSecurity', 'OnlineBackup', 'DeviceProtection', 'TechSupport', 'StreamingTV', 'StreamingMovies']\n",
        "\n",
        "print('Categorical Columns : ')\n",
        "for i in X_col:\n",
        "    cat = X_train[i].unique()\n",
        "    print(f'{i} ({len(cat)}):',cat)\n",
        "    print('----------------------------------------')\n"
      ]
    },
    {
      "cell_type": "markdown",
      "metadata": {
        "id": "N5TTpAjrXwDt"
      },
      "source": [
        "### 6. Split between numerical and categorical columns\n"
      ]
    },
    {
      "cell_type": "code",
      "execution_count": 59,
      "metadata": {},
      "outputs": [
        {
          "name": "stdout",
          "output_type": "stream",
          "text": [
            "Numerical Columns :  ['SeniorCitizen', 'tenure', 'MonthlyCharges', 'TotalCharges']\n",
            "------------------------------------------------------------------------------------\n",
            "Categorical Columns :  ['gender', 'Partner', 'Dependents', 'PhoneService', 'MultipleLines', 'InternetService', 'OnlineSecurity', 'OnlineBackup', 'DeviceProtection', 'TechSupport', 'StreamingTV', 'StreamingMovies', 'Contract', 'PaperlessBilling', 'PaymentMethod']\n"
          ]
        }
      ],
      "source": [
        "# Get Numerical Columns and Categorical Columns\n",
        "\n",
        "num_columns = X_train.select_dtypes(include=np.number).columns.tolist()\n",
        "cat_columns = X_train.select_dtypes(include=['object']).columns.tolist()\n",
        "\n",
        "print('Numerical Columns : ', num_columns)\n",
        "print('------------------------------------------------------------------------------------')\n",
        "print('Categorical Columns : ', cat_columns)"
      ]
    },
    {
      "cell_type": "code",
      "execution_count": 60,
      "metadata": {},
      "outputs": [],
      "source": [
        "# Split Train-Set and Test-Set based on Column Type (Numerical/Categorical)\n",
        "\n",
        "X_train_num = X_train[num_columns]\n",
        "X_train_cat = X_train[cat_columns]\n",
        "\n",
        "X_test_num = X_test[num_columns]\n",
        "X_test_cat = X_test[cat_columns]\n",
        "\n",
        "X_val_num = X_val[num_columns]\n",
        "X_val_cat = X_val[cat_columns]"
      ]
    },
    {
      "cell_type": "markdown",
      "metadata": {
        "id": "t15ve41sZULO"
      },
      "source": [
        "### 7. Feature Scaling"
      ]
    },
    {
      "cell_type": "code",
      "execution_count": 61,
      "metadata": {},
      "outputs": [
        {
          "data": {
            "text/html": [
              "<div>\n",
              "<style scoped>\n",
              "    .dataframe tbody tr th:only-of-type {\n",
              "        vertical-align: middle;\n",
              "    }\n",
              "\n",
              "    .dataframe tbody tr th {\n",
              "        vertical-align: top;\n",
              "    }\n",
              "\n",
              "    .dataframe thead th {\n",
              "        text-align: right;\n",
              "    }\n",
              "</style>\n",
              "<table border=\"1\" class=\"dataframe\">\n",
              "  <thead>\n",
              "    <tr style=\"text-align: right;\">\n",
              "      <th></th>\n",
              "      <th>SeniorCitizen</th>\n",
              "      <th>tenure</th>\n",
              "      <th>MonthlyCharges</th>\n",
              "      <th>TotalCharges</th>\n",
              "    </tr>\n",
              "  </thead>\n",
              "  <tbody>\n",
              "    <tr>\n",
              "      <th>0</th>\n",
              "      <td>-0.447694</td>\n",
              "      <td>-1.201291</td>\n",
              "      <td>-0.686443</td>\n",
              "      <td>-0.948163</td>\n",
              "    </tr>\n",
              "    <tr>\n",
              "      <th>1</th>\n",
              "      <td>-0.447694</td>\n",
              "      <td>0.392263</td>\n",
              "      <td>1.368876</td>\n",
              "      <td>0.983652</td>\n",
              "    </tr>\n",
              "    <tr>\n",
              "      <th>2</th>\n",
              "      <td>-0.447694</td>\n",
              "      <td>0.555704</td>\n",
              "      <td>-1.523299</td>\n",
              "      <td>-0.634600</td>\n",
              "    </tr>\n",
              "    <tr>\n",
              "      <th>3</th>\n",
              "      <td>-0.447694</td>\n",
              "      <td>-0.424944</td>\n",
              "      <td>-1.513257</td>\n",
              "      <td>-0.805578</td>\n",
              "    </tr>\n",
              "    <tr>\n",
              "      <th>4</th>\n",
              "      <td>-0.447694</td>\n",
              "      <td>-0.343224</td>\n",
              "      <td>0.481808</td>\n",
              "      <td>-0.160039</td>\n",
              "    </tr>\n",
              "    <tr>\n",
              "      <th>...</th>\n",
              "      <td>...</td>\n",
              "      <td>...</td>\n",
              "      <td>...</td>\n",
              "      <td>...</td>\n",
              "    </tr>\n",
              "    <tr>\n",
              "      <th>7385</th>\n",
              "      <td>-0.447694</td>\n",
              "      <td>-0.868795</td>\n",
              "      <td>0.462419</td>\n",
              "      <td>-0.627879</td>\n",
              "    </tr>\n",
              "    <tr>\n",
              "      <th>7386</th>\n",
              "      <td>2.233671</td>\n",
              "      <td>0.665199</td>\n",
              "      <td>1.391671</td>\n",
              "      <td>1.261704</td>\n",
              "    </tr>\n",
              "    <tr>\n",
              "      <th>7387</th>\n",
              "      <td>-0.447694</td>\n",
              "      <td>-1.254260</td>\n",
              "      <td>-0.829343</td>\n",
              "      <td>-0.986493</td>\n",
              "    </tr>\n",
              "    <tr>\n",
              "      <th>7388</th>\n",
              "      <td>-0.447694</td>\n",
              "      <td>-1.206332</td>\n",
              "      <td>0.470652</td>\n",
              "      <td>-0.909956</td>\n",
              "    </tr>\n",
              "    <tr>\n",
              "      <th>7389</th>\n",
              "      <td>-0.447694</td>\n",
              "      <td>-1.283011</td>\n",
              "      <td>-1.515998</td>\n",
              "      <td>-1.004853</td>\n",
              "    </tr>\n",
              "  </tbody>\n",
              "</table>\n",
              "<p>7390 rows × 4 columns</p>\n",
              "</div>"
            ],
            "text/plain": [
              "      SeniorCitizen    tenure  MonthlyCharges  TotalCharges\n",
              "0         -0.447694 -1.201291       -0.686443     -0.948163\n",
              "1         -0.447694  0.392263        1.368876      0.983652\n",
              "2         -0.447694  0.555704       -1.523299     -0.634600\n",
              "3         -0.447694 -0.424944       -1.513257     -0.805578\n",
              "4         -0.447694 -0.343224        0.481808     -0.160039\n",
              "...             ...       ...             ...           ...\n",
              "7385      -0.447694 -0.868795        0.462419     -0.627879\n",
              "7386       2.233671  0.665199        1.391671      1.261704\n",
              "7387      -0.447694 -1.254260       -0.829343     -0.986493\n",
              "7388      -0.447694 -1.206332        0.470652     -0.909956\n",
              "7389      -0.447694 -1.283011       -1.515998     -1.004853\n",
              "\n",
              "[7390 rows x 4 columns]"
            ]
          },
          "execution_count": 61,
          "metadata": {},
          "output_type": "execute_result"
        }
      ],
      "source": [
        "# Display X_train_num\n",
        "\n",
        "X_train_num"
      ]
    },
    {
      "cell_type": "markdown",
      "metadata": {},
      "source": [
        "`X_train is already encoded in previous step, so we only need to scale X_test and X_val.`"
      ]
    },
    {
      "cell_type": "code",
      "execution_count": 62,
      "metadata": {},
      "outputs": [],
      "source": [
        "X_test_num = sc.transform(X_test_num)\n",
        "X_val_num = sc.transform(X_val_num)"
      ]
    },
    {
      "cell_type": "code",
      "execution_count": 63,
      "metadata": {},
      "outputs": [
        {
          "data": {
            "text/plain": [
              "array([[-0.44769352,  0.02451945,  0.46507124,  0.10671934],\n",
              "       [-0.44769352,  0.84172627, -1.32914881, -0.42232626],\n",
              "       [-0.44769352, -0.34322361,  0.65420078, -0.13268563],\n",
              "       ...,\n",
              "       [-0.44769352, -0.75182702, -0.50400843, -0.71765436],\n",
              "       [-0.44769352, -0.38408395,  0.60064197, -0.11418475],\n",
              "       [-0.44769352,  0.02451945,  0.10020186, -0.05272906]])"
            ]
          },
          "execution_count": 63,
          "metadata": {},
          "output_type": "execute_result"
        }
      ],
      "source": [
        "X_test_num"
      ]
    },
    {
      "cell_type": "code",
      "execution_count": 64,
      "metadata": {},
      "outputs": [
        {
          "data": {
            "text/plain": [
              "array([[ 2.23367091,  0.31054184,  0.880152  ,  0.61226263],\n",
              "       [-0.44769352,  0.76000559,  0.60231569,  0.79631986],\n",
              "       [-0.44769352, -0.87440804, -1.19357808, -0.86035018],\n",
              "       ...,\n",
              "       [ 2.23367091,  0.22882116, -1.50823608, -0.68797771],\n",
              "       [-0.44769352,  1.29119001, -1.36764421, -0.30499171],\n",
              "       [-0.44769352, -1.24215111, -1.53166805, -1.00149687]])"
            ]
          },
          "execution_count": 64,
          "metadata": {},
          "output_type": "execute_result"
        }
      ],
      "source": [
        "X_val_num"
      ]
    },
    {
      "cell_type": "markdown",
      "metadata": {
        "id": "rOQSfNZdbpZf"
      },
      "source": [
        "### 8. Feature Encoding"
      ]
    },
    {
      "cell_type": "code",
      "execution_count": 65,
      "metadata": {},
      "outputs": [
        {
          "data": {
            "text/html": [
              "<div>\n",
              "<style scoped>\n",
              "    .dataframe tbody tr th:only-of-type {\n",
              "        vertical-align: middle;\n",
              "    }\n",
              "\n",
              "    .dataframe tbody tr th {\n",
              "        vertical-align: top;\n",
              "    }\n",
              "\n",
              "    .dataframe thead th {\n",
              "        text-align: right;\n",
              "    }\n",
              "</style>\n",
              "<table border=\"1\" class=\"dataframe\">\n",
              "  <thead>\n",
              "    <tr style=\"text-align: right;\">\n",
              "      <th></th>\n",
              "      <th>gender</th>\n",
              "      <th>Partner</th>\n",
              "      <th>Dependents</th>\n",
              "      <th>PhoneService</th>\n",
              "      <th>MultipleLines</th>\n",
              "      <th>InternetService</th>\n",
              "      <th>OnlineSecurity</th>\n",
              "      <th>OnlineBackup</th>\n",
              "      <th>DeviceProtection</th>\n",
              "      <th>TechSupport</th>\n",
              "      <th>StreamingTV</th>\n",
              "      <th>StreamingMovies</th>\n",
              "      <th>Contract</th>\n",
              "      <th>PaperlessBilling</th>\n",
              "      <th>PaymentMethod</th>\n",
              "    </tr>\n",
              "  </thead>\n",
              "  <tbody>\n",
              "    <tr>\n",
              "      <th>0</th>\n",
              "      <td>Female</td>\n",
              "      <td>No</td>\n",
              "      <td>No</td>\n",
              "      <td>Yes</td>\n",
              "      <td>No</td>\n",
              "      <td>DSL</td>\n",
              "      <td>No</td>\n",
              "      <td>No</td>\n",
              "      <td>No</td>\n",
              "      <td>No</td>\n",
              "      <td>No</td>\n",
              "      <td>No</td>\n",
              "      <td>Month-to-month</td>\n",
              "      <td>No</td>\n",
              "      <td>Mailed check</td>\n",
              "    </tr>\n",
              "    <tr>\n",
              "      <th>1</th>\n",
              "      <td>Male</td>\n",
              "      <td>Yes</td>\n",
              "      <td>No</td>\n",
              "      <td>Yes</td>\n",
              "      <td>Yes</td>\n",
              "      <td>Fiber optic</td>\n",
              "      <td>No</td>\n",
              "      <td>No</td>\n",
              "      <td>Yes</td>\n",
              "      <td>Yes</td>\n",
              "      <td>Yes</td>\n",
              "      <td>Yes</td>\n",
              "      <td>Month-to-month</td>\n",
              "      <td>Yes</td>\n",
              "      <td>Bank transfer (automatic)</td>\n",
              "    </tr>\n",
              "    <tr>\n",
              "      <th>2</th>\n",
              "      <td>Male</td>\n",
              "      <td>Yes</td>\n",
              "      <td>Yes</td>\n",
              "      <td>Yes</td>\n",
              "      <td>No</td>\n",
              "      <td>No</td>\n",
              "      <td>No</td>\n",
              "      <td>No</td>\n",
              "      <td>No</td>\n",
              "      <td>No</td>\n",
              "      <td>No</td>\n",
              "      <td>No</td>\n",
              "      <td>Two year</td>\n",
              "      <td>No</td>\n",
              "      <td>Credit card (automatic)</td>\n",
              "    </tr>\n",
              "    <tr>\n",
              "      <th>3</th>\n",
              "      <td>Female</td>\n",
              "      <td>No</td>\n",
              "      <td>No</td>\n",
              "      <td>Yes</td>\n",
              "      <td>No</td>\n",
              "      <td>No</td>\n",
              "      <td>No</td>\n",
              "      <td>No</td>\n",
              "      <td>No</td>\n",
              "      <td>No</td>\n",
              "      <td>No</td>\n",
              "      <td>No</td>\n",
              "      <td>Month-to-month</td>\n",
              "      <td>Yes</td>\n",
              "      <td>Mailed check</td>\n",
              "    </tr>\n",
              "    <tr>\n",
              "      <th>4</th>\n",
              "      <td>Female</td>\n",
              "      <td>Yes</td>\n",
              "      <td>No</td>\n",
              "      <td>Yes</td>\n",
              "      <td>Yes</td>\n",
              "      <td>Fiber optic</td>\n",
              "      <td>No</td>\n",
              "      <td>No</td>\n",
              "      <td>Yes</td>\n",
              "      <td>No</td>\n",
              "      <td>No</td>\n",
              "      <td>No</td>\n",
              "      <td>Month-to-month</td>\n",
              "      <td>Yes</td>\n",
              "      <td>Mailed check</td>\n",
              "    </tr>\n",
              "    <tr>\n",
              "      <th>...</th>\n",
              "      <td>...</td>\n",
              "      <td>...</td>\n",
              "      <td>...</td>\n",
              "      <td>...</td>\n",
              "      <td>...</td>\n",
              "      <td>...</td>\n",
              "      <td>...</td>\n",
              "      <td>...</td>\n",
              "      <td>...</td>\n",
              "      <td>...</td>\n",
              "      <td>...</td>\n",
              "      <td>...</td>\n",
              "      <td>...</td>\n",
              "      <td>...</td>\n",
              "      <td>...</td>\n",
              "    </tr>\n",
              "    <tr>\n",
              "      <th>7385</th>\n",
              "      <td>Female</td>\n",
              "      <td>No</td>\n",
              "      <td>No</td>\n",
              "      <td>Yes</td>\n",
              "      <td>Yes</td>\n",
              "      <td>Fiber optic</td>\n",
              "      <td>Yes</td>\n",
              "      <td>No</td>\n",
              "      <td>No</td>\n",
              "      <td>No</td>\n",
              "      <td>No</td>\n",
              "      <td>No</td>\n",
              "      <td>Month-to-month</td>\n",
              "      <td>Yes</td>\n",
              "      <td>Electronic check</td>\n",
              "    </tr>\n",
              "    <tr>\n",
              "      <th>7386</th>\n",
              "      <td>Male</td>\n",
              "      <td>Yes</td>\n",
              "      <td>No</td>\n",
              "      <td>Yes</td>\n",
              "      <td>Yes</td>\n",
              "      <td>Fiber optic</td>\n",
              "      <td>No</td>\n",
              "      <td>Yes</td>\n",
              "      <td>Yes</td>\n",
              "      <td>No</td>\n",
              "      <td>Yes</td>\n",
              "      <td>Yes</td>\n",
              "      <td>Month-to-month</td>\n",
              "      <td>Yes</td>\n",
              "      <td>Electronic check</td>\n",
              "    </tr>\n",
              "    <tr>\n",
              "      <th>7387</th>\n",
              "      <td>Female</td>\n",
              "      <td>No</td>\n",
              "      <td>No</td>\n",
              "      <td>No</td>\n",
              "      <td>No</td>\n",
              "      <td>DSL</td>\n",
              "      <td>No</td>\n",
              "      <td>Yes</td>\n",
              "      <td>No</td>\n",
              "      <td>No</td>\n",
              "      <td>No</td>\n",
              "      <td>Yes</td>\n",
              "      <td>Month-to-month</td>\n",
              "      <td>Yes</td>\n",
              "      <td>Electronic check</td>\n",
              "    </tr>\n",
              "    <tr>\n",
              "      <th>7388</th>\n",
              "      <td>Female</td>\n",
              "      <td>No</td>\n",
              "      <td>No</td>\n",
              "      <td>Yes</td>\n",
              "      <td>No</td>\n",
              "      <td>Fiber optic</td>\n",
              "      <td>No</td>\n",
              "      <td>No</td>\n",
              "      <td>No</td>\n",
              "      <td>No</td>\n",
              "      <td>Yes</td>\n",
              "      <td>No</td>\n",
              "      <td>Month-to-month</td>\n",
              "      <td>Yes</td>\n",
              "      <td>Electronic check</td>\n",
              "    </tr>\n",
              "    <tr>\n",
              "      <th>7389</th>\n",
              "      <td>Male</td>\n",
              "      <td>No</td>\n",
              "      <td>No</td>\n",
              "      <td>Yes</td>\n",
              "      <td>No</td>\n",
              "      <td>No</td>\n",
              "      <td>No</td>\n",
              "      <td>No</td>\n",
              "      <td>No</td>\n",
              "      <td>No</td>\n",
              "      <td>No</td>\n",
              "      <td>No</td>\n",
              "      <td>Month-to-month</td>\n",
              "      <td>No</td>\n",
              "      <td>Mailed check</td>\n",
              "    </tr>\n",
              "  </tbody>\n",
              "</table>\n",
              "<p>7390 rows × 15 columns</p>\n",
              "</div>"
            ],
            "text/plain": [
              "      gender Partner Dependents PhoneService MultipleLines InternetService  \\\n",
              "0     Female      No         No          Yes            No             DSL   \n",
              "1       Male     Yes         No          Yes           Yes     Fiber optic   \n",
              "2       Male     Yes        Yes          Yes            No              No   \n",
              "3     Female      No         No          Yes            No              No   \n",
              "4     Female     Yes         No          Yes           Yes     Fiber optic   \n",
              "...      ...     ...        ...          ...           ...             ...   \n",
              "7385  Female      No         No          Yes           Yes     Fiber optic   \n",
              "7386    Male     Yes         No          Yes           Yes     Fiber optic   \n",
              "7387  Female      No         No           No            No             DSL   \n",
              "7388  Female      No         No          Yes            No     Fiber optic   \n",
              "7389    Male      No         No          Yes            No              No   \n",
              "\n",
              "     OnlineSecurity OnlineBackup DeviceProtection TechSupport StreamingTV  \\\n",
              "0                No           No               No          No          No   \n",
              "1                No           No              Yes         Yes         Yes   \n",
              "2                No           No               No          No          No   \n",
              "3                No           No               No          No          No   \n",
              "4                No           No              Yes          No          No   \n",
              "...             ...          ...              ...         ...         ...   \n",
              "7385            Yes           No               No          No          No   \n",
              "7386             No          Yes              Yes          No         Yes   \n",
              "7387             No          Yes               No          No          No   \n",
              "7388             No           No               No          No         Yes   \n",
              "7389             No           No               No          No          No   \n",
              "\n",
              "     StreamingMovies        Contract PaperlessBilling  \\\n",
              "0                 No  Month-to-month               No   \n",
              "1                Yes  Month-to-month              Yes   \n",
              "2                 No        Two year               No   \n",
              "3                 No  Month-to-month              Yes   \n",
              "4                 No  Month-to-month              Yes   \n",
              "...              ...             ...              ...   \n",
              "7385              No  Month-to-month              Yes   \n",
              "7386             Yes  Month-to-month              Yes   \n",
              "7387             Yes  Month-to-month              Yes   \n",
              "7388              No  Month-to-month              Yes   \n",
              "7389              No  Month-to-month               No   \n",
              "\n",
              "                  PaymentMethod  \n",
              "0                  Mailed check  \n",
              "1     Bank transfer (automatic)  \n",
              "2       Credit card (automatic)  \n",
              "3                  Mailed check  \n",
              "4                  Mailed check  \n",
              "...                         ...  \n",
              "7385           Electronic check  \n",
              "7386           Electronic check  \n",
              "7387           Electronic check  \n",
              "7388           Electronic check  \n",
              "7389               Mailed check  \n",
              "\n",
              "[7390 rows x 15 columns]"
            ]
          },
          "execution_count": 65,
          "metadata": {},
          "output_type": "execute_result"
        }
      ],
      "source": [
        "# Display X_train_cat\n",
        "\n",
        "X_train_cat"
      ]
    },
    {
      "cell_type": "code",
      "execution_count": 66,
      "metadata": {},
      "outputs": [],
      "source": [
        "# Feature Encoding using One Hot Encoding\n",
        "from sklearn.preprocessing import OneHotEncoder\n",
        "\n",
        "encoder =  OneHotEncoder(sparse=False)\n",
        "encoder.fit(X_train_cat)\n",
        "\n",
        "X_train_cat_enc = encoder.transform(X_train_cat)\n",
        "X_test_cat_enc = encoder.transform(X_test_cat)\n",
        "X_val_cat_enc = encoder.transform(X_val_cat)"
      ]
    },
    {
      "cell_type": "code",
      "execution_count": 67,
      "metadata": {},
      "outputs": [
        {
          "data": {
            "text/plain": [
              "array([[1., 0., 1., ..., 0., 0., 1.],\n",
              "       [0., 1., 0., ..., 0., 0., 0.],\n",
              "       [0., 1., 0., ..., 1., 0., 0.],\n",
              "       ...,\n",
              "       [1., 0., 1., ..., 0., 1., 0.],\n",
              "       [1., 0., 1., ..., 0., 1., 0.],\n",
              "       [0., 1., 1., ..., 0., 0., 1.]])"
            ]
          },
          "execution_count": 67,
          "metadata": {},
          "output_type": "execute_result"
        }
      ],
      "source": [
        "X_train_cat_enc"
      ]
    },
    {
      "cell_type": "code",
      "execution_count": 68,
      "metadata": {},
      "outputs": [
        {
          "data": {
            "text/plain": [
              "['gender_Female',\n",
              " 'gender_Male',\n",
              " 'Partner_No',\n",
              " 'Partner_Yes',\n",
              " 'Dependents_No',\n",
              " 'Dependents_Yes',\n",
              " 'PhoneService_No',\n",
              " 'PhoneService_Yes',\n",
              " 'MultipleLines_No',\n",
              " 'MultipleLines_Yes',\n",
              " 'InternetService_DSL',\n",
              " 'InternetService_Fiber optic',\n",
              " 'InternetService_No',\n",
              " 'OnlineSecurity_No',\n",
              " 'OnlineSecurity_Yes',\n",
              " 'OnlineBackup_No',\n",
              " 'OnlineBackup_Yes',\n",
              " 'DeviceProtection_No',\n",
              " 'DeviceProtection_Yes',\n",
              " 'TechSupport_No',\n",
              " 'TechSupport_Yes',\n",
              " 'StreamingTV_No',\n",
              " 'StreamingTV_Yes',\n",
              " 'StreamingMovies_No',\n",
              " 'StreamingMovies_Yes',\n",
              " 'Contract_Month-to-month',\n",
              " 'Contract_One year',\n",
              " 'Contract_Two year',\n",
              " 'PaperlessBilling_No',\n",
              " 'PaperlessBilling_Yes',\n",
              " 'PaymentMethod_Bank transfer (automatic)',\n",
              " 'PaymentMethod_Credit card (automatic)',\n",
              " 'PaymentMethod_Electronic check',\n",
              " 'PaymentMethod_Mailed check']"
            ]
          },
          "execution_count": 68,
          "metadata": {},
          "output_type": "execute_result"
        }
      ],
      "source": [
        "# make columns name\n",
        "test = encoder.get_feature_names_out(X_train_cat.columns.tolist())\n",
        "column_cat = test.tolist()\n",
        "column_cat"
      ]
    },
    {
      "cell_type": "markdown",
      "metadata": {
        "id": "C0PP-0spdeee"
      },
      "source": [
        "### 9. Concat between Numerical Columns and Categorical Columns"
      ]
    },
    {
      "cell_type": "code",
      "execution_count": 69,
      "metadata": {},
      "outputs": [
        {
          "data": {
            "text/html": [
              "<div>\n",
              "<style scoped>\n",
              "    .dataframe tbody tr th:only-of-type {\n",
              "        vertical-align: middle;\n",
              "    }\n",
              "\n",
              "    .dataframe tbody tr th {\n",
              "        vertical-align: top;\n",
              "    }\n",
              "\n",
              "    .dataframe thead th {\n",
              "        text-align: right;\n",
              "    }\n",
              "</style>\n",
              "<table border=\"1\" class=\"dataframe\">\n",
              "  <thead>\n",
              "    <tr style=\"text-align: right;\">\n",
              "      <th></th>\n",
              "      <th>SeniorCitizen</th>\n",
              "      <th>tenure</th>\n",
              "      <th>MonthlyCharges</th>\n",
              "      <th>TotalCharges</th>\n",
              "      <th>gender_Female</th>\n",
              "      <th>gender_Male</th>\n",
              "      <th>Partner_No</th>\n",
              "      <th>Partner_Yes</th>\n",
              "      <th>Dependents_No</th>\n",
              "      <th>Dependents_Yes</th>\n",
              "      <th>...</th>\n",
              "      <th>StreamingMovies_Yes</th>\n",
              "      <th>Contract_Month-to-month</th>\n",
              "      <th>Contract_One year</th>\n",
              "      <th>Contract_Two year</th>\n",
              "      <th>PaperlessBilling_No</th>\n",
              "      <th>PaperlessBilling_Yes</th>\n",
              "      <th>PaymentMethod_Bank transfer (automatic)</th>\n",
              "      <th>PaymentMethod_Credit card (automatic)</th>\n",
              "      <th>PaymentMethod_Electronic check</th>\n",
              "      <th>PaymentMethod_Mailed check</th>\n",
              "    </tr>\n",
              "  </thead>\n",
              "  <tbody>\n",
              "    <tr>\n",
              "      <th>0</th>\n",
              "      <td>-0.447694</td>\n",
              "      <td>-1.201291</td>\n",
              "      <td>-0.686443</td>\n",
              "      <td>-0.948163</td>\n",
              "      <td>1.0</td>\n",
              "      <td>0.0</td>\n",
              "      <td>1.0</td>\n",
              "      <td>0.0</td>\n",
              "      <td>1.0</td>\n",
              "      <td>0.0</td>\n",
              "      <td>...</td>\n",
              "      <td>0.0</td>\n",
              "      <td>1.0</td>\n",
              "      <td>0.0</td>\n",
              "      <td>0.0</td>\n",
              "      <td>1.0</td>\n",
              "      <td>0.0</td>\n",
              "      <td>0.0</td>\n",
              "      <td>0.0</td>\n",
              "      <td>0.0</td>\n",
              "      <td>1.0</td>\n",
              "    </tr>\n",
              "    <tr>\n",
              "      <th>1</th>\n",
              "      <td>-0.447694</td>\n",
              "      <td>0.392263</td>\n",
              "      <td>1.368876</td>\n",
              "      <td>0.983652</td>\n",
              "      <td>0.0</td>\n",
              "      <td>1.0</td>\n",
              "      <td>0.0</td>\n",
              "      <td>1.0</td>\n",
              "      <td>1.0</td>\n",
              "      <td>0.0</td>\n",
              "      <td>...</td>\n",
              "      <td>1.0</td>\n",
              "      <td>1.0</td>\n",
              "      <td>0.0</td>\n",
              "      <td>0.0</td>\n",
              "      <td>0.0</td>\n",
              "      <td>1.0</td>\n",
              "      <td>1.0</td>\n",
              "      <td>0.0</td>\n",
              "      <td>0.0</td>\n",
              "      <td>0.0</td>\n",
              "    </tr>\n",
              "    <tr>\n",
              "      <th>2</th>\n",
              "      <td>-0.447694</td>\n",
              "      <td>0.555704</td>\n",
              "      <td>-1.523299</td>\n",
              "      <td>-0.634600</td>\n",
              "      <td>0.0</td>\n",
              "      <td>1.0</td>\n",
              "      <td>0.0</td>\n",
              "      <td>1.0</td>\n",
              "      <td>0.0</td>\n",
              "      <td>1.0</td>\n",
              "      <td>...</td>\n",
              "      <td>0.0</td>\n",
              "      <td>0.0</td>\n",
              "      <td>0.0</td>\n",
              "      <td>1.0</td>\n",
              "      <td>1.0</td>\n",
              "      <td>0.0</td>\n",
              "      <td>0.0</td>\n",
              "      <td>1.0</td>\n",
              "      <td>0.0</td>\n",
              "      <td>0.0</td>\n",
              "    </tr>\n",
              "    <tr>\n",
              "      <th>3</th>\n",
              "      <td>-0.447694</td>\n",
              "      <td>-0.424944</td>\n",
              "      <td>-1.513257</td>\n",
              "      <td>-0.805578</td>\n",
              "      <td>1.0</td>\n",
              "      <td>0.0</td>\n",
              "      <td>1.0</td>\n",
              "      <td>0.0</td>\n",
              "      <td>1.0</td>\n",
              "      <td>0.0</td>\n",
              "      <td>...</td>\n",
              "      <td>0.0</td>\n",
              "      <td>1.0</td>\n",
              "      <td>0.0</td>\n",
              "      <td>0.0</td>\n",
              "      <td>0.0</td>\n",
              "      <td>1.0</td>\n",
              "      <td>0.0</td>\n",
              "      <td>0.0</td>\n",
              "      <td>0.0</td>\n",
              "      <td>1.0</td>\n",
              "    </tr>\n",
              "    <tr>\n",
              "      <th>4</th>\n",
              "      <td>-0.447694</td>\n",
              "      <td>-0.343224</td>\n",
              "      <td>0.481808</td>\n",
              "      <td>-0.160039</td>\n",
              "      <td>1.0</td>\n",
              "      <td>0.0</td>\n",
              "      <td>0.0</td>\n",
              "      <td>1.0</td>\n",
              "      <td>1.0</td>\n",
              "      <td>0.0</td>\n",
              "      <td>...</td>\n",
              "      <td>0.0</td>\n",
              "      <td>1.0</td>\n",
              "      <td>0.0</td>\n",
              "      <td>0.0</td>\n",
              "      <td>0.0</td>\n",
              "      <td>1.0</td>\n",
              "      <td>0.0</td>\n",
              "      <td>0.0</td>\n",
              "      <td>0.0</td>\n",
              "      <td>1.0</td>\n",
              "    </tr>\n",
              "    <tr>\n",
              "      <th>...</th>\n",
              "      <td>...</td>\n",
              "      <td>...</td>\n",
              "      <td>...</td>\n",
              "      <td>...</td>\n",
              "      <td>...</td>\n",
              "      <td>...</td>\n",
              "      <td>...</td>\n",
              "      <td>...</td>\n",
              "      <td>...</td>\n",
              "      <td>...</td>\n",
              "      <td>...</td>\n",
              "      <td>...</td>\n",
              "      <td>...</td>\n",
              "      <td>...</td>\n",
              "      <td>...</td>\n",
              "      <td>...</td>\n",
              "      <td>...</td>\n",
              "      <td>...</td>\n",
              "      <td>...</td>\n",
              "      <td>...</td>\n",
              "      <td>...</td>\n",
              "    </tr>\n",
              "    <tr>\n",
              "      <th>7385</th>\n",
              "      <td>-0.447694</td>\n",
              "      <td>-0.868795</td>\n",
              "      <td>0.462419</td>\n",
              "      <td>-0.627879</td>\n",
              "      <td>1.0</td>\n",
              "      <td>0.0</td>\n",
              "      <td>1.0</td>\n",
              "      <td>0.0</td>\n",
              "      <td>1.0</td>\n",
              "      <td>0.0</td>\n",
              "      <td>...</td>\n",
              "      <td>0.0</td>\n",
              "      <td>1.0</td>\n",
              "      <td>0.0</td>\n",
              "      <td>0.0</td>\n",
              "      <td>0.0</td>\n",
              "      <td>1.0</td>\n",
              "      <td>0.0</td>\n",
              "      <td>0.0</td>\n",
              "      <td>1.0</td>\n",
              "      <td>0.0</td>\n",
              "    </tr>\n",
              "    <tr>\n",
              "      <th>7386</th>\n",
              "      <td>2.233671</td>\n",
              "      <td>0.665199</td>\n",
              "      <td>1.391671</td>\n",
              "      <td>1.261704</td>\n",
              "      <td>0.0</td>\n",
              "      <td>1.0</td>\n",
              "      <td>0.0</td>\n",
              "      <td>1.0</td>\n",
              "      <td>1.0</td>\n",
              "      <td>0.0</td>\n",
              "      <td>...</td>\n",
              "      <td>1.0</td>\n",
              "      <td>1.0</td>\n",
              "      <td>0.0</td>\n",
              "      <td>0.0</td>\n",
              "      <td>0.0</td>\n",
              "      <td>1.0</td>\n",
              "      <td>0.0</td>\n",
              "      <td>0.0</td>\n",
              "      <td>1.0</td>\n",
              "      <td>0.0</td>\n",
              "    </tr>\n",
              "    <tr>\n",
              "      <th>7387</th>\n",
              "      <td>-0.447694</td>\n",
              "      <td>-1.254260</td>\n",
              "      <td>-0.829343</td>\n",
              "      <td>-0.986493</td>\n",
              "      <td>1.0</td>\n",
              "      <td>0.0</td>\n",
              "      <td>1.0</td>\n",
              "      <td>0.0</td>\n",
              "      <td>1.0</td>\n",
              "      <td>0.0</td>\n",
              "      <td>...</td>\n",
              "      <td>1.0</td>\n",
              "      <td>1.0</td>\n",
              "      <td>0.0</td>\n",
              "      <td>0.0</td>\n",
              "      <td>0.0</td>\n",
              "      <td>1.0</td>\n",
              "      <td>0.0</td>\n",
              "      <td>0.0</td>\n",
              "      <td>1.0</td>\n",
              "      <td>0.0</td>\n",
              "    </tr>\n",
              "    <tr>\n",
              "      <th>7388</th>\n",
              "      <td>-0.447694</td>\n",
              "      <td>-1.206332</td>\n",
              "      <td>0.470652</td>\n",
              "      <td>-0.909956</td>\n",
              "      <td>1.0</td>\n",
              "      <td>0.0</td>\n",
              "      <td>1.0</td>\n",
              "      <td>0.0</td>\n",
              "      <td>1.0</td>\n",
              "      <td>0.0</td>\n",
              "      <td>...</td>\n",
              "      <td>0.0</td>\n",
              "      <td>1.0</td>\n",
              "      <td>0.0</td>\n",
              "      <td>0.0</td>\n",
              "      <td>0.0</td>\n",
              "      <td>1.0</td>\n",
              "      <td>0.0</td>\n",
              "      <td>0.0</td>\n",
              "      <td>1.0</td>\n",
              "      <td>0.0</td>\n",
              "    </tr>\n",
              "    <tr>\n",
              "      <th>7389</th>\n",
              "      <td>-0.447694</td>\n",
              "      <td>-1.283011</td>\n",
              "      <td>-1.515998</td>\n",
              "      <td>-1.004853</td>\n",
              "      <td>0.0</td>\n",
              "      <td>1.0</td>\n",
              "      <td>1.0</td>\n",
              "      <td>0.0</td>\n",
              "      <td>1.0</td>\n",
              "      <td>0.0</td>\n",
              "      <td>...</td>\n",
              "      <td>0.0</td>\n",
              "      <td>1.0</td>\n",
              "      <td>0.0</td>\n",
              "      <td>0.0</td>\n",
              "      <td>1.0</td>\n",
              "      <td>0.0</td>\n",
              "      <td>0.0</td>\n",
              "      <td>0.0</td>\n",
              "      <td>0.0</td>\n",
              "      <td>1.0</td>\n",
              "    </tr>\n",
              "  </tbody>\n",
              "</table>\n",
              "<p>7390 rows × 38 columns</p>\n",
              "</div>"
            ],
            "text/plain": [
              "      SeniorCitizen    tenure  MonthlyCharges  TotalCharges  gender_Female  \\\n",
              "0         -0.447694 -1.201291       -0.686443     -0.948163            1.0   \n",
              "1         -0.447694  0.392263        1.368876      0.983652            0.0   \n",
              "2         -0.447694  0.555704       -1.523299     -0.634600            0.0   \n",
              "3         -0.447694 -0.424944       -1.513257     -0.805578            1.0   \n",
              "4         -0.447694 -0.343224        0.481808     -0.160039            1.0   \n",
              "...             ...       ...             ...           ...            ...   \n",
              "7385      -0.447694 -0.868795        0.462419     -0.627879            1.0   \n",
              "7386       2.233671  0.665199        1.391671      1.261704            0.0   \n",
              "7387      -0.447694 -1.254260       -0.829343     -0.986493            1.0   \n",
              "7388      -0.447694 -1.206332        0.470652     -0.909956            1.0   \n",
              "7389      -0.447694 -1.283011       -1.515998     -1.004853            0.0   \n",
              "\n",
              "      gender_Male  Partner_No  Partner_Yes  Dependents_No  Dependents_Yes  \\\n",
              "0             0.0         1.0          0.0            1.0             0.0   \n",
              "1             1.0         0.0          1.0            1.0             0.0   \n",
              "2             1.0         0.0          1.0            0.0             1.0   \n",
              "3             0.0         1.0          0.0            1.0             0.0   \n",
              "4             0.0         0.0          1.0            1.0             0.0   \n",
              "...           ...         ...          ...            ...             ...   \n",
              "7385          0.0         1.0          0.0            1.0             0.0   \n",
              "7386          1.0         0.0          1.0            1.0             0.0   \n",
              "7387          0.0         1.0          0.0            1.0             0.0   \n",
              "7388          0.0         1.0          0.0            1.0             0.0   \n",
              "7389          1.0         1.0          0.0            1.0             0.0   \n",
              "\n",
              "      ...  StreamingMovies_Yes  Contract_Month-to-month  Contract_One year  \\\n",
              "0     ...                  0.0                      1.0                0.0   \n",
              "1     ...                  1.0                      1.0                0.0   \n",
              "2     ...                  0.0                      0.0                0.0   \n",
              "3     ...                  0.0                      1.0                0.0   \n",
              "4     ...                  0.0                      1.0                0.0   \n",
              "...   ...                  ...                      ...                ...   \n",
              "7385  ...                  0.0                      1.0                0.0   \n",
              "7386  ...                  1.0                      1.0                0.0   \n",
              "7387  ...                  1.0                      1.0                0.0   \n",
              "7388  ...                  0.0                      1.0                0.0   \n",
              "7389  ...                  0.0                      1.0                0.0   \n",
              "\n",
              "      Contract_Two year  PaperlessBilling_No  PaperlessBilling_Yes  \\\n",
              "0                   0.0                  1.0                   0.0   \n",
              "1                   0.0                  0.0                   1.0   \n",
              "2                   1.0                  1.0                   0.0   \n",
              "3                   0.0                  0.0                   1.0   \n",
              "4                   0.0                  0.0                   1.0   \n",
              "...                 ...                  ...                   ...   \n",
              "7385                0.0                  0.0                   1.0   \n",
              "7386                0.0                  0.0                   1.0   \n",
              "7387                0.0                  0.0                   1.0   \n",
              "7388                0.0                  0.0                   1.0   \n",
              "7389                0.0                  1.0                   0.0   \n",
              "\n",
              "      PaymentMethod_Bank transfer (automatic)  \\\n",
              "0                                         0.0   \n",
              "1                                         1.0   \n",
              "2                                         0.0   \n",
              "3                                         0.0   \n",
              "4                                         0.0   \n",
              "...                                       ...   \n",
              "7385                                      0.0   \n",
              "7386                                      0.0   \n",
              "7387                                      0.0   \n",
              "7388                                      0.0   \n",
              "7389                                      0.0   \n",
              "\n",
              "      PaymentMethod_Credit card (automatic)  PaymentMethod_Electronic check  \\\n",
              "0                                       0.0                             0.0   \n",
              "1                                       0.0                             0.0   \n",
              "2                                       1.0                             0.0   \n",
              "3                                       0.0                             0.0   \n",
              "4                                       0.0                             0.0   \n",
              "...                                     ...                             ...   \n",
              "7385                                    0.0                             1.0   \n",
              "7386                                    0.0                             1.0   \n",
              "7387                                    0.0                             1.0   \n",
              "7388                                    0.0                             1.0   \n",
              "7389                                    0.0                             0.0   \n",
              "\n",
              "      PaymentMethod_Mailed check  \n",
              "0                            1.0  \n",
              "1                            0.0  \n",
              "2                            0.0  \n",
              "3                            1.0  \n",
              "4                            1.0  \n",
              "...                          ...  \n",
              "7385                         0.0  \n",
              "7386                         0.0  \n",
              "7387                         0.0  \n",
              "7388                         0.0  \n",
              "7389                         1.0  \n",
              "\n",
              "[7390 rows x 38 columns]"
            ]
          },
          "execution_count": 69,
          "metadata": {},
          "output_type": "execute_result"
        }
      ],
      "source": [
        "# Merge Numerical Features with Categorical Column\n",
        "\n",
        "# X_train\n",
        "X_train_cat = pd.DataFrame(data=X_train_cat_enc, columns=column_cat)\n",
        "X_train_final = pd.concat([X_train_num, X_train_cat], axis=1)\n",
        "X_train_final"
      ]
    },
    {
      "cell_type": "code",
      "execution_count": 70,
      "metadata": {},
      "outputs": [],
      "source": [
        "# X_test and X_val\n",
        "X_test_final = np.concatenate([X_test_num, X_test_cat_enc], axis=1)\n",
        "X_val_final = np.concatenate([X_val_num, X_val_cat_enc], axis=1)"
      ]
    },
    {
      "cell_type": "code",
      "execution_count": 71,
      "metadata": {},
      "outputs": [
        {
          "name": "stdout",
          "output_type": "stream",
          "text": [
            "X_train_final : (7390, 38)\n",
            "X_test_final : (1399, 38)\n",
            "X_val_final : (559, 38)\n"
          ]
        }
      ],
      "source": [
        "print('X_train_final :' ,X_train_final.shape)\n",
        "print('X_test_final :' ,X_test_final.shape)\n",
        "print('X_val_final :' ,X_val_final.shape)"
      ]
    },
    {
      "cell_type": "markdown",
      "metadata": {
        "id": "J-bRMz1teacx"
      },
      "source": [
        "---\n",
        "## 6 - Model Definition : ANN"
      ]
    },
    {
      "cell_type": "code",
      "execution_count": 72,
      "metadata": {},
      "outputs": [],
      "source": [
        "# Sequential API\n",
        "from tensorflow.keras.models import Sequential\n",
        "from tensorflow.keras.layers import Dense, Dropout"
      ]
    },
    {
      "cell_type": "code",
      "execution_count": 73,
      "metadata": {},
      "outputs": [],
      "source": [
        "\n",
        "# # Buat arsiteknya\n",
        "# model = Sequential()\n",
        "# model.add(Dense(1478, activation='relu', input_shape=(38,))) # HIDDEN LAYER 1\n",
        "# model.add(Dropout(0.5))\n",
        "# model.add(Dense(1000, activation='relu')) # HIDDEN LAYER 2\n",
        "# model.add(Dropout(0.5))\n",
        "# model.add(Dense(600, activation='relu')) # HIDDEN LAYER 3\n",
        "# model.add(Dropout(0.5))\n",
        "# model.add(Dense(250, activation='relu')) # HIDDEN LAYER 4\n",
        "# model.add(Dropout(0.5))\n",
        "# model.add(Dense(130, activation='relu')) # HIDDEN LAYER 5\n",
        "# model.add(Dropout(0.5))\n",
        "# model.add(Dense(50, activation='relu')) # HIDDEN LAYER 6\n",
        "# model.add(Dropout(0.5))\n",
        "# model.add(Dense(25, activation='relu')) # HIDDEN LAYER 7\n",
        "# model.add(Dropout(0.5))\n",
        "# model.add(Dense(7, activation='relu')) # HIDDEN LAYER 8\n",
        "# model.add(Dropout(0.5))\n",
        "# model.add(Dense(1, activation='sigmoid')) # OUTPUT LAYER"
      ]
    },
    {
      "cell_type": "code",
      "execution_count": 77,
      "metadata": {},
      "outputs": [],
      "source": [
        "# # Buat arsiteknya\n",
        "model = Sequential()\n",
        "model.add(Dense(500, activation='relu', input_shape=(38,))) # HIDDEN LAYER 1\n",
        "model.add(Dropout(0.75))\n",
        "model.add(Dense(100, activation='relu')) # HIDDEN LAYER 2\n",
        "model.add(Dropout(0.75))\n",
        "model.add(Dense(50, activation='relu')) # HIDDEN LAYER 3\n",
        "model.add(Dropout(0.50))\n",
        "model.add(Dense(25, activation='relu')) # HIDDEN LAYER 4\n",
        "model.add(Dropout(0.50))\n",
        "model.add(Dense(5, activation='relu')) # HIDDEN LAYER 5\n",
        "model.add(Dropout(0.25))\n",
        "model.add(Dense(1, activation='sigmoid')) # OUTPUT LAYER"
      ]
    },
    {
      "cell_type": "code",
      "execution_count": 78,
      "metadata": {},
      "outputs": [],
      "source": [
        "# COmpile\n",
        "model.compile(loss = 'binary_crossentropy',\n",
        "              optimizer = 'adam', # Paling modern\n",
        "              metrics=['accuracy'])\n"
      ]
    },
    {
      "cell_type": "markdown",
      "metadata": {
        "id": "_ljzK9oWfe_H"
      },
      "source": [
        "## 7 - Model Training : ANN"
      ]
    },
    {
      "cell_type": "code",
      "execution_count": 79,
      "metadata": {},
      "outputs": [
        {
          "name": "stdout",
          "output_type": "stream",
          "text": [
            "Epoch 1/50\n",
            "231/231 [==============================] - 3s 8ms/step - loss: 0.7074 - accuracy: 0.5411 - val_loss: 0.6590 - val_accuracy: 0.7925\n",
            "Epoch 2/50\n",
            "231/231 [==============================] - 1s 4ms/step - loss: 0.6295 - accuracy: 0.6375 - val_loss: 0.5352 - val_accuracy: 0.7800\n",
            "Epoch 3/50\n",
            "231/231 [==============================] - 1s 5ms/step - loss: 0.5763 - accuracy: 0.6923 - val_loss: 0.4785 - val_accuracy: 0.7835\n",
            "Epoch 4/50\n",
            "231/231 [==============================] - 1s 5ms/step - loss: 0.5520 - accuracy: 0.7290 - val_loss: 0.4802 - val_accuracy: 0.7835\n",
            "Epoch 5/50\n",
            "231/231 [==============================] - 1s 5ms/step - loss: 0.5451 - accuracy: 0.7398 - val_loss: 0.4797 - val_accuracy: 0.7853\n",
            "Epoch 6/50\n",
            "231/231 [==============================] - 1s 4ms/step - loss: 0.5332 - accuracy: 0.7486 - val_loss: 0.4755 - val_accuracy: 0.7871\n",
            "Epoch 7/50\n",
            "231/231 [==============================] - 1s 5ms/step - loss: 0.5307 - accuracy: 0.7622 - val_loss: 0.4774 - val_accuracy: 0.7782\n",
            "Epoch 8/50\n",
            "231/231 [==============================] - 1s 4ms/step - loss: 0.5243 - accuracy: 0.7597 - val_loss: 0.4649 - val_accuracy: 0.7818\n",
            "Epoch 9/50\n",
            "231/231 [==============================] - 1s 5ms/step - loss: 0.5218 - accuracy: 0.7632 - val_loss: 0.4577 - val_accuracy: 0.7907\n",
            "Epoch 10/50\n",
            "231/231 [==============================] - 1s 5ms/step - loss: 0.5266 - accuracy: 0.7652 - val_loss: 0.4788 - val_accuracy: 0.7871\n",
            "Epoch 11/50\n",
            "231/231 [==============================] - 1s 5ms/step - loss: 0.5107 - accuracy: 0.7714 - val_loss: 0.4609 - val_accuracy: 0.7907\n",
            "Epoch 12/50\n",
            "231/231 [==============================] - 1s 5ms/step - loss: 0.5169 - accuracy: 0.7714 - val_loss: 0.4630 - val_accuracy: 0.7853\n",
            "Epoch 13/50\n",
            "231/231 [==============================] - 1s 5ms/step - loss: 0.5121 - accuracy: 0.7783 - val_loss: 0.4513 - val_accuracy: 0.7907\n",
            "Epoch 14/50\n",
            "231/231 [==============================] - 1s 4ms/step - loss: 0.5151 - accuracy: 0.7723 - val_loss: 0.4620 - val_accuracy: 0.7889\n",
            "Epoch 15/50\n",
            "231/231 [==============================] - 1s 4ms/step - loss: 0.5112 - accuracy: 0.7790 - val_loss: 0.4542 - val_accuracy: 0.7889\n",
            "Epoch 16/50\n",
            "231/231 [==============================] - 1s 5ms/step - loss: 0.5094 - accuracy: 0.7777 - val_loss: 0.4651 - val_accuracy: 0.7692\n",
            "Epoch 17/50\n",
            "231/231 [==============================] - 1s 4ms/step - loss: 0.5000 - accuracy: 0.7823 - val_loss: 0.4558 - val_accuracy: 0.7853\n",
            "Epoch 18/50\n",
            "231/231 [==============================] - 1s 5ms/step - loss: 0.5035 - accuracy: 0.7836 - val_loss: 0.4594 - val_accuracy: 0.7889\n",
            "Epoch 19/50\n",
            "231/231 [==============================] - 1s 4ms/step - loss: 0.5022 - accuracy: 0.7796 - val_loss: 0.4870 - val_accuracy: 0.7800\n",
            "Epoch 20/50\n",
            "231/231 [==============================] - 1s 5ms/step - loss: 0.5047 - accuracy: 0.7825 - val_loss: 0.4605 - val_accuracy: 0.7835\n",
            "Epoch 21/50\n",
            "231/231 [==============================] - 1s 5ms/step - loss: 0.4911 - accuracy: 0.7886 - val_loss: 0.4679 - val_accuracy: 0.7746\n",
            "Epoch 22/50\n",
            "231/231 [==============================] - 1s 6ms/step - loss: 0.4846 - accuracy: 0.7915 - val_loss: 0.4595 - val_accuracy: 0.7943\n",
            "Epoch 23/50\n",
            "231/231 [==============================] - 1s 5ms/step - loss: 0.4939 - accuracy: 0.7896 - val_loss: 0.4605 - val_accuracy: 0.7853\n",
            "Epoch 24/50\n",
            "231/231 [==============================] - 1s 5ms/step - loss: 0.4832 - accuracy: 0.7951 - val_loss: 0.4706 - val_accuracy: 0.7800\n",
            "Epoch 25/50\n",
            "231/231 [==============================] - 1s 5ms/step - loss: 0.4881 - accuracy: 0.7913 - val_loss: 0.4717 - val_accuracy: 0.7853\n",
            "Epoch 26/50\n",
            "231/231 [==============================] - 1s 5ms/step - loss: 0.4799 - accuracy: 0.7978 - val_loss: 0.4723 - val_accuracy: 0.7764\n",
            "Epoch 27/50\n",
            "231/231 [==============================] - 1s 5ms/step - loss: 0.4858 - accuracy: 0.7900 - val_loss: 0.4551 - val_accuracy: 0.7889\n",
            "Epoch 28/50\n",
            "231/231 [==============================] - 1s 5ms/step - loss: 0.4818 - accuracy: 0.7962 - val_loss: 0.4678 - val_accuracy: 0.7925\n",
            "Epoch 29/50\n",
            "231/231 [==============================] - 1s 6ms/step - loss: 0.4858 - accuracy: 0.7928 - val_loss: 0.4448 - val_accuracy: 0.7961\n",
            "Epoch 30/50\n",
            "231/231 [==============================] - 1s 5ms/step - loss: 0.4771 - accuracy: 0.7942 - val_loss: 0.4550 - val_accuracy: 0.7979\n",
            "Epoch 31/50\n",
            "231/231 [==============================] - 1s 6ms/step - loss: 0.4756 - accuracy: 0.7972 - val_loss: 0.4588 - val_accuracy: 0.7889\n",
            "Epoch 32/50\n",
            "231/231 [==============================] - 1s 6ms/step - loss: 0.4772 - accuracy: 0.7969 - val_loss: 0.4681 - val_accuracy: 0.7871\n",
            "Epoch 33/50\n",
            "231/231 [==============================] - 1s 6ms/step - loss: 0.4778 - accuracy: 0.7926 - val_loss: 0.4602 - val_accuracy: 0.7800\n",
            "Epoch 34/50\n",
            "231/231 [==============================] - 2s 7ms/step - loss: 0.4737 - accuracy: 0.8020 - val_loss: 0.4670 - val_accuracy: 0.7800\n",
            "Epoch 35/50\n",
            "231/231 [==============================] - 2s 7ms/step - loss: 0.4763 - accuracy: 0.7996 - val_loss: 0.4551 - val_accuracy: 0.7889\n",
            "Epoch 36/50\n",
            "231/231 [==============================] - 2s 7ms/step - loss: 0.4875 - accuracy: 0.7907 - val_loss: 0.4484 - val_accuracy: 0.7800\n",
            "Epoch 37/50\n",
            "231/231 [==============================] - 1s 5ms/step - loss: 0.4796 - accuracy: 0.7991 - val_loss: 0.4574 - val_accuracy: 0.7925\n",
            "Epoch 38/50\n",
            "231/231 [==============================] - 1s 4ms/step - loss: 0.4694 - accuracy: 0.7949 - val_loss: 0.4592 - val_accuracy: 0.7853\n",
            "Epoch 39/50\n",
            "231/231 [==============================] - 1s 4ms/step - loss: 0.4736 - accuracy: 0.7986 - val_loss: 0.4668 - val_accuracy: 0.7925\n",
            "Epoch 40/50\n",
            "231/231 [==============================] - 1s 4ms/step - loss: 0.4716 - accuracy: 0.8003 - val_loss: 0.4676 - val_accuracy: 0.7764\n",
            "Epoch 41/50\n",
            "231/231 [==============================] - 1s 4ms/step - loss: 0.4685 - accuracy: 0.7970 - val_loss: 0.4557 - val_accuracy: 0.7961\n",
            "Epoch 42/50\n",
            "231/231 [==============================] - 1s 4ms/step - loss: 0.4677 - accuracy: 0.8038 - val_loss: 0.4465 - val_accuracy: 0.8014\n",
            "Epoch 43/50\n",
            "231/231 [==============================] - 1s 4ms/step - loss: 0.4701 - accuracy: 0.7974 - val_loss: 0.4537 - val_accuracy: 0.7943\n",
            "Epoch 44/50\n",
            "231/231 [==============================] - 1s 4ms/step - loss: 0.4725 - accuracy: 0.7958 - val_loss: 0.4518 - val_accuracy: 0.7889\n",
            "Epoch 45/50\n",
            "231/231 [==============================] - 1s 4ms/step - loss: 0.4652 - accuracy: 0.8024 - val_loss: 0.4624 - val_accuracy: 0.7585\n",
            "Epoch 46/50\n",
            "231/231 [==============================] - 1s 5ms/step - loss: 0.4652 - accuracy: 0.8003 - val_loss: 0.4492 - val_accuracy: 0.7907\n",
            "Epoch 47/50\n",
            "231/231 [==============================] - 1s 4ms/step - loss: 0.4682 - accuracy: 0.8023 - val_loss: 0.4508 - val_accuracy: 0.7889\n",
            "Epoch 48/50\n",
            "231/231 [==============================] - 1s 5ms/step - loss: 0.4688 - accuracy: 0.7976 - val_loss: 0.4610 - val_accuracy: 0.7746\n",
            "Epoch 49/50\n",
            "231/231 [==============================] - 1s 5ms/step - loss: 0.4638 - accuracy: 0.8003 - val_loss: 0.4698 - val_accuracy: 0.7835\n",
            "Epoch 50/50\n",
            "231/231 [==============================] - 1s 5ms/step - loss: 0.4590 - accuracy: 0.8038 - val_loss: 0.4680 - val_accuracy: 0.7835\n"
          ]
        }
      ],
      "source": [
        "# Train\n",
        "history = model.fit(X_train_final, y_train, epochs=50, validation_data=(X_val_final, y_val))"
      ]
    },
    {
      "cell_type": "code",
      "execution_count": 80,
      "metadata": {},
      "outputs": [
        {
          "data": {
            "text/plain": [
              "<matplotlib.legend.Legend at 0x1fd87a1cdf0>"
            ]
          },
          "execution_count": 80,
          "metadata": {},
          "output_type": "execute_result"
        },
        {
          "data": {
            "image/png": "[encoded data removed]",
            "text/plain": [
              "<Figure size 864x360 with 2 Axes>"
            ]
          },
          "metadata": {
            "needs_background": "light"
          },
          "output_type": "display_data"
        }
      ],
      "source": [
        "fig,ax=plt.subplots(ncols=2,figsize=(12,5))\n",
        "epochs=len(history.history['accuracy'])\n",
        "ax[0].plot(range(1,epochs+1),history.history['accuracy'],label='Training')\n",
        "ax[0].plot(range(1,epochs+1),history.history['val_accuracy'],label='Validation')\n",
        "ax[0].set_title('Accuracy')\n",
        "ax[0].set_xlabel('Epoch')\n",
        "ax[0].legend()\n",
        "\n",
        "ax[1].plot(range(1,epochs+1),history.history['loss'],label='Training')\n",
        "ax[1].plot(range(1,epochs+1),history.history['val_loss'],label='Validation')\n",
        "ax[1].set_title('Loss')\n",
        "ax[1].set_xlabel('Epoch')\n",
        "ax[1].legend()"
      ]
    },
    {
      "cell_type": "code",
      "execution_count": null,
      "metadata": {},
      "outputs": [
        {
          "data": {
            "text/plain": [
              "<matplotlib.legend.Legend at 0x1fc6ff0af10>"
            ]
          },
          "execution_count": 89,
          "metadata": {},
          "output_type": "execute_result"
        },
        {
          "data": {
            "image/png": "[encoded data removed]",
            "text/plain": [
              "<Figure size 864x360 with 2 Axes>"
            ]
          },
          "metadata": {
            "needs_background": "light"
          },
          "output_type": "display_data"
        }
      ],
      "source": [
        "fig,ax=plt.subplots(ncols=2,figsize=(12,5))\n",
        "epochs=len(history.history['accuracy'])\n",
        "ax[0].plot(range(1,epochs+1),history.history['accuracy'],label='Training')\n",
        "ax[0].plot(range(1,epochs+1),history.history['val_accuracy'],label='Test')\n",
        "ax[0].set_title('Accuracy')\n",
        "ax[0].set_xlabel('Epoch')\n",
        "ax[0].legend()\n",
        "\n",
        "ax[1].plot(range(1,epochs+1),history.history['loss'],label='Training')\n",
        "ax[1].plot(range(1,epochs+1),history.history['val_loss'],label='Test')\n",
        "ax[1].set_title('Loss')\n",
        "ax[1].set_xlabel('Epoch')\n",
        "ax[1].legend()"
      ]
    },
    {
      "cell_type": "code",
      "execution_count": null,
      "metadata": {},
      "outputs": [
        {
          "data": {
            "text/plain": [
              "<matplotlib.legend.Legend at 0x1fc6bb918e0>"
            ]
          },
          "execution_count": 84,
          "metadata": {},
          "output_type": "execute_result"
        },
        {
          "data": {
            "image/png": "[encoded data removed]",
            "text/plain": [
              "<Figure size 864x360 with 2 Axes>"
            ]
          },
          "metadata": {
            "needs_background": "light"
          },
          "output_type": "display_data"
        }
      ],
      "source": [
        "fig,ax=plt.subplots(ncols=2,figsize=(12,5))\n",
        "epochs=len(history.history['accuracy'])\n",
        "ax[0].plot(range(1,epochs+1),history.history['accuracy'],label='Training')\n",
        "ax[0].plot(range(1,epochs+1),history.history['val_accuracy'],label='Test')\n",
        "ax[0].set_title('Accuracy')\n",
        "ax[0].set_xlabel('Epoch')\n",
        "ax[0].legend()\n",
        "\n",
        "ax[1].plot(range(1,epochs+1),history.history['loss'],label='Training')\n",
        "ax[1].plot(range(1,epochs+1),history.history['val_loss'],label='Test')\n",
        "ax[1].set_title('Loss')\n",
        "ax[1].set_xlabel('Epoch')\n",
        "ax[1].legend()"
      ]
    },
    {
      "cell_type": "code",
      "execution_count": null,
      "metadata": {},
      "outputs": [],
      "source": []
    },
    {
      "cell_type": "markdown",
      "metadata": {
        "id": "HlyAVit0fzJC"
      },
      "source": [
        "## 8 - Model Evaluation : ANN\n",
        "---"
      ]
    },
    {
      "cell_type": "markdown",
      "metadata": {
        "id": "RWJ6uKfPhH8B"
      },
      "source": [
        "## 9 - Model Inference"
      ]
    },
    {
      "cell_type": "markdown",
      "metadata": {
        "id": "K4tqPWDJjU3S"
      },
      "source": [
        "## 10 - Pengambilan Kesimpulan"
      ]
    },
    {
      "cell_type": "markdown",
      "metadata": {
        "id": "rW3bHhP3zdMS"
      },
      "source": [
        "Kesimpulan dari Project ini adalah :\n",
        "\n",
        "1. Dari dataset awal memiliki ukuran 145460 baris dan 23 kolom selanjutnya dibagi menjadi :\n",
        "\n",
        "                - 60 baris untuk Data inference.\n",
        "                - 80% dari 14560 data untuk Train set.\n",
        "                - 20% sisa data untuk Test set.\n",
        "\n",
        "2. Dari hasil loading data info dapat dilihat bahwa hampir setiap kolom memiliki missing values.\n",
        "\n",
        "3. Dari hasil Preprocessing, diketahui :\n",
        "\n",
        "                - normal distribution :\n",
        "                                 ['mintemp', 'maxtemp', 'sunshine', 'humidity9am', 'humidity3pm', 'pressure9am', 'pressure3pm', 'cloud9am', 'cloud3pm', 'temp9am', 'temp3pm', 'day', 'month', 'year']\n",
        "\n",
        "                - skewed distribution :\n",
        "                                ['rainfall', 'evaporation', 'windgustspeed', 'windspeed9am', 'windspeed3pm']\n",
        "\n",
        "        \n",
        "    dengan rincian outlier :\n",
        "\n",
        "        Normal distirbution :\n",
        "                        mintemp : 13  (0.01)%\n",
        "                        maxtemp : 269  (0.23)%\n",
        "                        sunshine : 0  (0.0)%\n",
        "                        humidity9am : 361  (0.31)%\n",
        "                        humidity3pm : 0  (0.0)%\n",
        "                        pressure9am : 395  (0.34)%\n",
        "                        pressure3pm : 328  (0.28)%\n",
        "                        cloud9am : 0  (0.0)%\n",
        "                        cloud3pm : 0  (0.0)%\n",
        "                        temp9am : 110  (0.09)%\n",
        "                        temp3pm : 330  (0.28)%\n",
        "                        day : 0  (0.0)%\n",
        "                        month : 0  (0.0)%\n",
        "                        year : 0  (0.0)%\n",
        "\n",
        "        Skewed distribution :\n",
        "                        rainfall : 18581  (16.18)%\n",
        "                        evaporation : 392  (0.34)%\n",
        "                        windgustspeed : 113  (0.1)%\n",
        "                        windspeed9am : 85  (0.07)%\n",
        "                        windspeed3pm : 59  (0.05)%\n",
        "\n",
        "    - Handling missing values pada kasus ini dihandle dengan 3 cara :\n",
        "                        1. dropping untuk missing values MCAR dan < 5%\n",
        "                        2. capping MAR\n",
        "                        3. fillna untuk MCAR dan > 5%\n",
        "\n",
        "\n",
        "    - Rincian jenis missing values pada dataset :\n",
        "\n",
        "                            - mintemp : MCAR\n",
        "                            - maxtemp : MCAR\n",
        "                            - rainfall : MCAR\n",
        "                            - Evaporation : MCAR \n",
        "                            - Sunshine : MCAR #mostly NA when Evaporation NA\n",
        "                            - windgustdir : MCAR #mostly NA when windgustspeed NA\n",
        "                            - windgustspeed : MCAR #mostly NA when windgustspeed NA\n",
        "                            - winddir9am : MCAR\n",
        "                            - winddir3pm : MCAR\n",
        "                            - windspeed9am : MAR (NA if winddir9am NA)\n",
        "                            - Windspeed3pm : MAR (NA if winddir3pm NA)\n",
        "                            - Humidity9am : MCAR\n",
        "                            - Humidity3pm : MCAR\n",
        "                            - Pressure9am : MCAR\n",
        "                            - pressure3pm : MCAR\n",
        "                            - cloud9am : MCAR\n",
        "                            - cloud3pm : MCAR\n",
        "                            - temp9am : MCAR\n",
        "                            - temp3pm : MCAR\n",
        "                            - raintoday : MAR (NA if rainfall NA)\n",
        "\n",
        "4. Dalam proses Model Training, kolom yang awalnya 23 kolom telah direduksi menjadi 11 kolom saja melalui proses Feature Selection dengan melihat korelasi antara kolom data dengan target.\n",
        "\n",
        "5. Model dibuat dan ditraining dengan menggunakan metode logistic regression dan SVM dengan emnggunakan support vector classification. \n",
        "\n",
        "6. Selanjutnya, Model di evaluasi dengan menggunakan metrics Accuracy_score dan Classification report. Diperoleh hasil accuracy model yang telah dibuat memiliki akurasi yang sama yaitu 85%.\n",
        "\n",
        "\n",
        "\n"
      ]
    },
    {
      "cell_type": "markdown",
      "metadata": {
        "id": "R1WsTrOMzdMT"
      },
      "source": [
        "---"
      ]
    },
    {
      "cell_type": "markdown",
      "metadata": {
        "id": "Muqo0dPyzdMU"
      },
      "source": [
        "## Conclusions, Assumptions, Overall Analysis\n",
        "\n",
        "`put your conclusions here`"
      ]
    }
  ],
  "metadata": {
    "colab": {
      "collapsed_sections": [],
      "name": "Assignment_Templates.ipynb",
      "provenance": []
    },
    "interpreter": {
      "hash": "7679c2132d3f6ce38c9df14d554b39c06862b36a4e6689c81f9ae15bd0911d7d"
    },
    "kernelspec": {
      "display_name": "Python 3.9.7 ('base')",
      "language": "python",
      "name": "python3"
    },
    "language_info": {
      "codemirror_mode": {
        "name": "ipython",
        "version": 3
      },
      "file_extension": ".py",
      "mimetype": "text/x-python",
      "name": "python",
      "nbconvert_exporter": "python",
      "pygments_lexer": "ipython3",
      "version": "3.9.7"
    }
  },
  "nbformat": 4,
  "nbformat_minor": 0
}
