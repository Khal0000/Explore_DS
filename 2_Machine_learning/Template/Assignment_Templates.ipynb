{
 "cells": [
  {
   "cell_type": "markdown",
   "metadata": {},
   "source": [
    "---"
   ]
  },
  {
   "cell_type": "markdown",
   "metadata": {},
   "source": [
    "# **Graded Challenge 3**"
   ]
  },
  {
   "cell_type": "markdown",
   "metadata": {
    "id": "dIIfxFfGKoM6"
   },
   "source": [
    "## 1 - Perkenalan"
   ]
  },
  {
   "cell_type": "markdown",
   "metadata": {},
   "source": [
    "```\n",
    "Nama : Khalisul Akbar\n",
    "\n",
    "Batch : FTDS-Batch 10\n",
    "```\n"
   ]
  },
  {
   "cell_type": "markdown",
   "metadata": {},
   "source": [
    "### Description\n",
    "\n"
   ]
  },
  {
   "cell_type": "markdown",
   "metadata": {},
   "source": [
    "#### Objective :\n",
    "\n",
    "```\n",
    "Adapun objective yang ingin dicapai pada project ini adalah :\n",
    "1. Exploratory Data Analysis untuk memperoleh pemahaman dataset yang baik.\n",
    "2. Preprocessing data yang baik untuk mendapatkan model yang baik.\n",
    "3. Features Engineering untuk mendapatkan Feature yang memiliki korelasi yang baik dengan Target.\n",
    "4. Mampu mengimplementasikan logistic regression dan Mendapatkan model prediksi logistic regression.\n",
    "5. Mampu mengimplementasikan SVM dan Mendapatkan model prediksi SVC.\n",
    "\n",
    "```"
   ]
  },
  {
   "cell_type": "markdown",
   "metadata": {},
   "source": [
    "#### Problem Statement :"
   ]
  },
  {
   "cell_type": "markdown",
   "metadata": {},
   "source": [
    "```\n",
    "Beberapa tahapan-tahapan yang harus dilalui pada project ini adalah :\n",
    "1. Melakukan visualisasi dataset untuk mengetahui gambaran umum dari dataset yang digunakan.\n",
    "2. Pengecekan dan menghandle outliers dan missing value.\n",
    "3. Memilih Feature yang akan digunakan untuk membuat model dengan menghitung korelasi antara Feature dengan label/target.\n",
    "4. Memingmplementasikan logistic regression dan svm untuk membuat model yang sesuai dengan objective atau dataset.\n",
    "5. Melakukan pengetesan model yang telah dibuat dengan data inference.\n",
    "```"
   ]
  },
  {
   "cell_type": "markdown",
   "metadata": {},
   "source": [
    "---"
   ]
  },
  {
   "cell_type": "markdown",
   "metadata": {},
   "source": [
    "## **Working Area**\n"
   ]
  },
  {
   "cell_type": "markdown",
   "metadata": {
    "id": "fprqUishKzl6"
   },
   "source": [
    "## 2 - Import Libraries"
   ]
  },
  {
   "cell_type": "code",
   "execution_count": 1,
   "metadata": {},
   "outputs": [],
   "source": []
  },
  {
   "cell_type": "markdown",
   "metadata": {
    "id": "nIF2-I5OLa_a"
   },
   "source": [
    "## 3 - Data Loading"
   ]
  },
  {
   "cell_type": "markdown",
   "metadata": {
    "id": "plL7gqIeNEnk"
   },
   "source": [
    "## 4 - Exploratory Data Analysis (EDA)"
   ]
  },
  {
   "cell_type": "markdown",
   "metadata": {
    "id": "MWR9w_kfOxPY"
   },
   "source": [
    "---\n",
    "## 5 - Data Preprocessing"
   ]
  },
  {
   "cell_type": "markdown",
   "metadata": {
    "id": "gtbR0g48O2_F"
   },
   "source": [
    "> Bagian ini berisi proses penyiapan data untuk proses pelatihan model, seperti pembagian data menjadi train-dev-test, transformasi data (normalisasi, encoding, dll.), dan proses-proses lain yang dibutuhkan."
   ]
  },
  {
   "cell_type": "markdown",
   "metadata": {},
   "source": [
    "### 1. Data Inference"
   ]
  },
  {
   "cell_type": "markdown",
   "metadata": {
    "id": "uM0NHiW6R7_n"
   },
   "source": [
    "### 2. Splitting Dataset"
   ]
  },
  {
   "cell_type": "markdown",
   "metadata": {
    "id": "aYKlxTPcUxQF"
   },
   "source": [
    "### 3. Handling Outlier"
   ]
  },
  {
   "cell_type": "markdown",
   "metadata": {},
   "source": [
    "- ##### X_train :"
   ]
  },
  {
   "cell_type": "markdown",
   "metadata": {},
   "source": [
    "- ##### y_train :"
   ]
  },
  {
   "cell_type": "markdown",
   "metadata": {
    "id": "Jbj7zYHMU44K"
   },
   "source": [
    "\n",
    "###  4. Handling Missing Values"
   ]
  },
  {
   "cell_type": "markdown",
   "metadata": {},
   "source": [
    "#### TRAIN SET"
   ]
  },
  {
   "cell_type": "markdown",
   "metadata": {},
   "source": [
    "- ##### X_train :"
   ]
  },
  {
   "cell_type": "markdown",
   "metadata": {},
   "source": [
    "- ##### y_train :"
   ]
  },
  {
   "cell_type": "markdown",
   "metadata": {},
   "source": [
    "#### TEST SET"
   ]
  },
  {
   "cell_type": "markdown",
   "metadata": {},
   "source": [
    "- ##### X_test :"
   ]
  },
  {
   "cell_type": "markdown",
   "metadata": {},
   "source": [
    "- ##### y_test :"
   ]
  },
  {
   "cell_type": "markdown",
   "metadata": {
    "id": "Cvp33WdhVZS5"
   },
   "source": [
    "### 5. Feature Selection"
   ]
  },
  {
   "cell_type": "markdown",
   "metadata": {
    "id": "N5TTpAjrXwDt"
   },
   "source": [
    "### 6. Split between numerical and categorical columns\n"
   ]
  },
  {
   "cell_type": "markdown",
   "metadata": {
    "id": "t15ve41sZULO"
   },
   "source": [
    "### 7. Feature Scaling"
   ]
  },
  {
   "cell_type": "markdown",
   "metadata": {
    "id": "rOQSfNZdbpZf"
   },
   "source": [
    "### 8. Feature Encoding"
   ]
  },
  {
   "cell_type": "markdown",
   "metadata": {
    "id": "C0PP-0spdeee"
   },
   "source": [
    "### 9. Concat between Numerical Columns and Categorical Columns"
   ]
  },
  {
   "cell_type": "markdown",
   "metadata": {
    "id": "J-bRMz1teacx"
   },
   "source": [
    "---\n",
    "## 6 - Model Definition : Logistic Regression"
   ]
  },
  {
   "cell_type": "markdown",
   "metadata": {
    "id": "_ljzK9oWfe_H"
   },
   "source": [
    "## 7 - Model Training : Logistic Regression"
   ]
  },
  {
   "cell_type": "markdown",
   "metadata": {
    "id": "HlyAVit0fzJC"
   },
   "source": [
    "## 8 - Model Evaluation : Logistic Regression\n",
    "---"
   ]
  },
  {
   "cell_type": "markdown",
   "metadata": {
    "id": "RWJ6uKfPhH8B"
   },
   "source": [
    "## 9 - Model Inference"
   ]
  },
  {
   "cell_type": "markdown",
   "metadata": {
    "id": "K4tqPWDJjU3S"
   },
   "source": [
    "## 10 - Pengambilan Kesimpulan"
   ]
  },
  {
   "cell_type": "markdown",
   "metadata": {},
   "source": [
    "Kesimpulan dari Project ini adalah :\n",
    "\n",
    "1. Dari dataset awal memiliki ukuran 145460 baris dan 23 kolom selanjutnya dibagi menjadi :\n",
    "\n",
    "                - 60 baris untuk Data inference.\n",
    "                - 80% dari 14560 data untuk Train set.\n",
    "                - 20% sisa data untuk Test set.\n",
    "\n",
    "2. Dari hasil loading data info dapat dilihat bahwa hampir setiap kolom memiliki missing values.\n",
    "\n",
    "3. Dari hasil Preprocessing, diketahui :\n",
    "\n",
    "                - normal distribution :\n",
    "                                 ['mintemp', 'maxtemp', 'sunshine', 'humidity9am', 'humidity3pm', 'pressure9am', 'pressure3pm', 'cloud9am', 'cloud3pm', 'temp9am', 'temp3pm', 'day', 'month', 'year']\n",
    "\n",
    "                - skewed distribution :\n",
    "                                ['rainfall', 'evaporation', 'windgustspeed', 'windspeed9am', 'windspeed3pm']\n",
    "\n",
    "        \n",
    "    dengan rincian outlier :\n",
    "\n",
    "        Normal distirbution :\n",
    "                        mintemp : 13  (0.01)%\n",
    "                        maxtemp : 269  (0.23)%\n",
    "                        sunshine : 0  (0.0)%\n",
    "                        humidity9am : 361  (0.31)%\n",
    "                        humidity3pm : 0  (0.0)%\n",
    "                        pressure9am : 395  (0.34)%\n",
    "                        pressure3pm : 328  (0.28)%\n",
    "                        cloud9am : 0  (0.0)%\n",
    "                        cloud3pm : 0  (0.0)%\n",
    "                        temp9am : 110  (0.09)%\n",
    "                        temp3pm : 330  (0.28)%\n",
    "                        day : 0  (0.0)%\n",
    "                        month : 0  (0.0)%\n",
    "                        year : 0  (0.0)%\n",
    "\n",
    "        Skewed distribution :\n",
    "                        rainfall : 18581  (16.18)%\n",
    "                        evaporation : 392  (0.34)%\n",
    "                        windgustspeed : 113  (0.1)%\n",
    "                        windspeed9am : 85  (0.07)%\n",
    "                        windspeed3pm : 59  (0.05)%\n",
    "\n",
    "    - Handling missing values pada kasus ini dihandle dengan 3 cara :\n",
    "                        1. dropping untuk missing values MCAR dan < 5%\n",
    "                        2. capping MAR\n",
    "                        3. fillna untuk MCAR dan > 5%\n",
    "\n",
    "\n",
    "    - Rincian jenis missing values pada dataset :\n",
    "\n",
    "                            - mintemp : MCAR\n",
    "                            - maxtemp : MCAR\n",
    "                            - rainfall : MCAR\n",
    "                            - Evaporation : MCAR \n",
    "                            - Sunshine : MCAR #mostly NA when Evaporation NA\n",
    "                            - windgustdir : MCAR #mostly NA when windgustspeed NA\n",
    "                            - windgustspeed : MCAR #mostly NA when windgustspeed NA\n",
    "                            - winddir9am : MCAR\n",
    "                            - winddir3pm : MCAR\n",
    "                            - windspeed9am : MAR (NA if winddir9am NA)\n",
    "                            - Windspeed3pm : MAR (NA if winddir3pm NA)\n",
    "                            - Humidity9am : MCAR\n",
    "                            - Humidity3pm : MCAR\n",
    "                            - Pressure9am : MCAR\n",
    "                            - pressure3pm : MCAR\n",
    "                            - cloud9am : MCAR\n",
    "                            - cloud3pm : MCAR\n",
    "                            - temp9am : MCAR\n",
    "                            - temp3pm : MCAR\n",
    "                            - raintoday : MAR (NA if rainfall NA)\n",
    "\n",
    "4. Dalam proses Model Training, kolom yang awalnya 23 kolom telah direduksi menjadi 11 kolom saja melalui proses Feature Selection dengan melihat korelasi antara kolom data dengan target.\n",
    "\n",
    "5. Model dibuat dan ditraining dengan menggunakan metode logistic regression dan SVM dengan emnggunakan support vector classification. \n",
    "\n",
    "6. Selanjutnya, Model di evaluasi dengan menggunakan metrics Accuracy_score dan Classification report. Diperoleh hasil accuracy model yang telah dibuat memiliki akurasi yang sama yaitu 85%.\n",
    "\n",
    "\n",
    "\n"
   ]
  },
  {
   "cell_type": "markdown",
   "metadata": {},
   "source": [
    "---"
   ]
  },
  {
   "cell_type": "markdown",
   "metadata": {},
   "source": [
    "## Conclusions, Assumptions, Overall Analysis\n",
    "\n",
    "`put your conclusions here`"
   ]
  }
 ],
 "metadata": {
  "interpreter": {
   "hash": "7679c2132d3f6ce38c9df14d554b39c06862b36a4e6689c81f9ae15bd0911d7d"
  },
  "kernelspec": {
   "display_name": "Python 3.9.7 ('base')",
   "language": "python",
   "name": "python3"
  },
  "language_info": {
   "codemirror_mode": {
    "name": "ipython",
    "version": 3
   },
   "file_extension": ".py",
   "mimetype": "text/x-python",
   "name": "python",
   "nbconvert_exporter": "python",
   "pygments_lexer": "ipython3",
   "version": "3.9.7"
  },
  "orig_nbformat": 4
 },
 "nbformat": 4,
 "nbformat_minor": 2
}
